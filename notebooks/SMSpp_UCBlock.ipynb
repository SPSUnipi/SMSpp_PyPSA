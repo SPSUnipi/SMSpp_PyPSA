{
 "cells": [
  {
   "cell_type": "markdown",
   "metadata": {},
   "source": [
    "# PyPSA to SMS++: build a PyPSA model and solve it as an SMS++ UCBlock (dispatch)\n",
    "\n",
    "This notebook aims to showcase the interface between PyPSA and SMS++. It demonstrates how to convert a PyPSA model into a UCBlock problem that can be solved using the SMS++ solver. The notebook also validates the objective function of the SMS++ solver and compares it to the results obtained from SMS++.\n",
    "\n",
    "This notebook executes the following procedure:\n",
    "1. Create and optimize a pypsa model\n",
    "2. Converts the PyPSA model into a UCBlock problem to be read by SMS++\n",
    "3. Launches the optimization using the UCBlock solver of SMS++\n",
    "4. Validate the objective function of SMS++ and compares it to SMS++"
   ]
  },
  {
   "cell_type": "markdown",
   "metadata": {},
   "source": [
    "## 1. Creation of the PyPSA model\n",
    "\n",
    "We create a simple PyPSA model arbitrary number of buses, few generators, storages and loads.\n",
    "\n",
    "Main assumptions are:\n",
    "- The network is purely radial in the form bus1 -> bus2 -> bus3 -> ... busN\n",
    "- A load is added to each bus of the network\n",
    "- The following technologies are supported:\n",
    "  - fuel-fired diesel generator\n",
    "  - pv generator\n",
    "  - wind generator\n",
    "  - battery\n",
    "  - hydro unit\n",
    "\n",
    "The following notebook, performs the following SMS++ to PyPSA conversion:\n",
    "\n",
    "|Physical object|PyPSA object|SMS++ object|\n",
    "|----------------|------------|------------|\n",
    "|diesel generator|Generator|ThermalUnitBlock|\n",
    "|pv generator|Generator|IntermittentUnitBlock|\n",
    "|wind generator|Generator|IntermittentUnitBlock|\n",
    "|battery|StorageUnit|BatteryUnitBlock|\n",
    "|hydro unit|StorageUnit|HydroUnitBlock|"
   ]
  },
  {
   "cell_type": "code",
   "execution_count": null,
   "metadata": {},
   "outputs": [],
   "source": [
    "n_snapshots = 1*24  # number of snapshots of the model\n",
    "\n",
    "buses_demand = [0]  # list of buses where demand is located\n",
    "bus_PV = None # Bus where PV is located; if none, no PV is considered\n",
    "bus_wind = None # Bus where wind is located; if none, no wind is considered\n",
    "bus_storage = None # Bus where storage is located; if none, no storage is considered\n",
    "bus_hydro = 0 # Bus where hydro is located; if none, no hydro is considered\n",
    "bus_diesel = 0 # Bus where diesel is located; if none, no pv is considered\n"
   ]
  },
  {
   "cell_type": "markdown",
   "metadata": {},
   "source": [
    "#### Preliminary imports"
   ]
  },
  {
   "cell_type": "code",
   "execution_count": null,
   "metadata": {},
   "outputs": [],
   "source": [
    "folder_builder = \"../data/SMSpp/UCBlockSolver\"\n",
    "path_SMSpp_pypsa = folder_builder + \"/pypsa2SMSpp.nc4\"\n",
    "\n",
    "renewable_carriers = [\"pv\", \"wind\"]"
   ]
  },
  {
   "cell_type": "code",
   "execution_count": null,
   "metadata": {},
   "outputs": [],
   "source": [
    "import pypsa\n",
    "from helpers import build_microgrid_model\n",
    "import netCDF4 as nc\n",
    "import pandas as pd\n",
    "import numpy as np\n",
    "import re\n",
    "\n",
    "NC_DOUBLE = \"f8\"\n",
    "NP_DOUBLE = np.float64\n",
    "NC_UINT = \"u4\"\n",
    "NP_UINT = np.uint32"
   ]
  },
  {
   "cell_type": "markdown",
   "metadata": {},
   "source": [
    "#### The following code creates the desired pypsa model."
   ]
  },
  {
   "cell_type": "code",
   "execution_count": null,
   "metadata": {},
   "outputs": [],
   "source": [
    "n = build_microgrid_model(\n",
    "    n_snapshots = n_snapshots,\n",
    "    buses_demand = buses_demand,\n",
    "    bus_PV = bus_PV,\n",
    "    bus_wind = bus_wind,\n",
    "    bus_storage = bus_storage,\n",
    "    bus_diesel = bus_diesel,\n",
    "    bus_hydro=bus_hydro,\n",
    "    x = 10.389754,\n",
    "    y = 43.720810,\n",
    "    hydro_factor=0.4,\n",
    ")\n",
    "\n",
    "# n.storage_units.capital_cost *= 2\n",
    "# n.storage_units.p_min_pu = 0.\n",
    "# n.storage_units.p_nom_max = 10\n",
    "# n.storage_units.max_hours = 1\n",
    "\n",
    "# n.snapshot_weightings[\"stores\"] = 1.0\n",
    "\n",
    "# n.generators.p_nom = 100"
   ]
  },
  {
   "cell_type": "code",
   "execution_count": null,
   "metadata": {},
   "outputs": [],
   "source": [
    "n.optimize(solver_name=\"gurobi\")"
   ]
  },
  {
   "cell_type": "markdown",
   "metadata": {},
   "source": [
    "#### Analyze the results"
   ]
  },
  {
   "cell_type": "code",
   "execution_count": null,
   "metadata": {},
   "outputs": [],
   "source": [
    "# Auxiliary function\n",
    "def get_bus_idx(n, bus_series, dtype=\"uint32\"):\n",
    "    \"\"\"\n",
    "    Returns the numeric index of the bus in the network n for each element of the bus_series.\n",
    "    \"\"\"\n",
    "    return bus_series.map(n.buses.index.get_loc).astype(dtype)"
   ]
  },
  {
   "cell_type": "markdown",
   "metadata": {},
   "source": [
    "Calculate the marginal costs. Note: as we are running a UCBlock, only marginal costs can be compared."
   ]
  },
  {
   "cell_type": "code",
   "execution_count": null,
   "metadata": {},
   "outputs": [],
   "source": [
    "marg_cost = pd.concat(\n",
    "    [\n",
    "        n.generators_t.p.mul(n.snapshot_weightings.objective, axis=0).sum().mul(n.generators.marginal_cost),\n",
    "        n.storage_units_t.p.mul(n.snapshot_weightings.objective, axis=0).sum().mul(n.storage_units.marginal_cost),\n",
    "        n.links_t.p0.mul(n.snapshot_weightings.objective, axis=0).sum().mul(n.links.marginal_cost),\n",
    "        n.stores_t.p.mul(n.snapshot_weightings.objective, axis=0).sum().mul(n.stores.marginal_cost),\n",
    "    ],\n",
    ")\n",
    "marg_cost"
   ]
  },
  {
   "cell_type": "markdown",
   "metadata": {},
   "source": [
    "Calculate the capital costs"
   ]
  },
  {
   "cell_type": "code",
   "execution_count": null,
   "metadata": {},
   "outputs": [],
   "source": [
    "cap_cost = pd.concat(\n",
    "    [\n",
    "        n.generators.eval(\"p_nom_opt * capital_cost\"),\n",
    "        n.storage_units.eval(\"p_nom_opt * capital_cost\"),\n",
    "        n.links.eval(\"p_nom_opt * capital_cost\"),\n",
    "        n.lines.eval(\"s_nom_opt * capital_cost\"),\n",
    "        n.stores.eval(\"e_nom_opt * capital_cost\"),\n",
    "    ]\n",
    ")\n",
    "cap_cost"
   ]
  },
  {
   "cell_type": "markdown",
   "metadata": {},
   "source": [
    "## 2. Convert the PyPSA model into a UCBlock problem\n",
    "\n",
    "The following code converts the pypsa model into a UCBlock problem.\n",
    "The conversions adopts the covnersion matrix adopted in the example above."
   ]
  },
  {
   "cell_type": "markdown",
   "metadata": {},
   "source": [
    "### 2.1 Create the SMS++ problem file"
   ]
  },
  {
   "cell_type": "code",
   "execution_count": null,
   "metadata": {},
   "outputs": [],
   "source": [
    "ds = nc.Dataset(path_SMSpp_pypsa, \"w\")\n",
    "\n",
    "\n",
    "ds.setncattr(\"SMS++_file_type\", 1)  # Set file type to 1 for problem file"
   ]
  },
  {
   "cell_type": "markdown",
   "metadata": {},
   "source": [
    "### 2.2 Creates the Inner UCBlock"
   ]
  },
  {
   "cell_type": "code",
   "execution_count": null,
   "metadata": {},
   "outputs": [],
   "source": [
    "# Create UCBlock\n",
    "\n",
    "master = ds.createGroup(\"Block_0\")  # Create the first main block\n",
    "\n",
    "master.type = \"UCBlock\"  # mandatory attribute for all blocks\n",
    "\n",
    "n_timesteps = len(n.snapshots)\n",
    "\n",
    "master.createDimension(\"TimeHorizon\", n_timesteps)  # Time horizon\n",
    "\n",
    "n_units = len(n.generators) + len(n.storage_units)  # excluding links for now\n",
    "\n",
    "master.createDimension(\"NumberUnits\", n_units)  # Number of nodes\n",
    "master.createDimension(\"NumberElectricalGenerators\", n_units)  # Number of elec. units\n",
    "# some unitblocks, do have multiple units inside [e.g. cascading hydro or CCGT], not considered now"
   ]
  },
  {
   "cell_type": "markdown",
   "metadata": {},
   "source": [
    "Add the Network Data to the UCBlock"
   ]
  },
  {
   "cell_type": "code",
   "execution_count": null,
   "metadata": {},
   "outputs": [],
   "source": [
    "ndg = master.createGroup(\"NetworkData\")\n",
    "ndg.createDimension(\"NumberNodes\", len(n.buses))  # Number of nodes\n",
    "\n",
    "\n",
    "if len(n.buses) > 1: # when there are multiple buses, we need to integrate the network\n",
    "    master.createDimension(\"NumberLines\", len(n.lines))  # Number of lines\n",
    "\n",
    "    # generators' node\n",
    "    all_generators = [bus_PV, bus_wind, bus_storage, bus_hydro, bus_diesel]\n",
    "    all_generators = [x for x in all_generators if x is not None]\n",
    "    generator_node = ndg.createVariable(\"GeneratorNode\", NC_UINT, (\"NumberElectricalGenerators\",))\n",
    "    generator_node[:] = np.array(all_generators, dtype=NP_UINT)\n",
    "\n",
    "    # start lines\n",
    "    start_line = ndg.createVariable(\"StartLine\", NC_UINT, (\"NumberLines\",))\n",
    "    start_line[:] = get_bus_idx(n, n.lines.bus0).values\n",
    "    # end lines\n",
    "    end_line = ndg.createVariable(\"EndLine\", NC_UINT, (\"NumberLines\",))\n",
    "    end_line[:] = get_bus_idx(n, n.lines.bus1).values\n",
    "    # Min power flow\n",
    "    min_power_flow = ndg.createVariable(\"MinPowerFlow\", NC_DOUBLE, (\"NumberLines\",))\n",
    "    min_power_flow[:] = - n.lines.s_nom.values\n",
    "    # Max power flow\n",
    "    max_power_flow = ndg.createVariable(\"MaxPowerFlow\", NC_DOUBLE, (\"NumberLines\",))\n",
    "    max_power_flow[:] = n.lines.s_nom.values\n",
    "    # Susceptance\n",
    "    susceptance = ndg.createVariable(\"Susceptance\", NC_DOUBLE, (\"NumberLines\",))\n",
    "    susceptance[:] = 1 / n.lines.x.values"
   ]
  },
  {
   "cell_type": "markdown",
   "metadata": {},
   "source": [
    "Add demand to the UCBlock"
   ]
  },
  {
   "cell_type": "code",
   "execution_count": null,
   "metadata": {},
   "outputs": [],
   "source": [
    "### Create variables\n",
    "\n",
    "# demand by node\n",
    "loads_t = n.loads_t.p_set\n",
    "active_demand = master.createVariable(\"ActivePowerDemand\", NC_DOUBLE, (\"TimeHorizon\",)) #(\"NumberNodes\", \"TimeHorizon\"))\n",
    "active_demand[:] = loads_t.values.transpose()  # indexing between python and SMS++ is different: transpose"
   ]
  },
  {
   "cell_type": "markdown",
   "metadata": {},
   "source": [
    "### 2.3 Add the ThermalUnitBlock for each fuel-fired generator"
   ]
  },
  {
   "cell_type": "code",
   "execution_count": null,
   "metadata": {},
   "outputs": [],
   "source": [
    "id_thermal = 0\n",
    "\n",
    "# select thermal generators\n",
    "thermal_generators = n.generators[~n.generators.index.isin(renewable_carriers)]\n",
    "n_thermal = len(thermal_generators)\n",
    "\n",
    "min_power_pypsa = thermal_generators.eval(\"p_nom_opt * p_min_pu\")\n",
    "max_power_pypsa = thermal_generators.eval(\"p_nom_opt * p_max_pu\")\n",
    "linear_term_pypsa = thermal_generators.marginal_cost\n",
    "\n",
    "for (idx_name, row) in thermal_generators.iterrows():\n",
    "\n",
    "    tub = master.createGroup(f\"UnitBlock_{id_thermal}\")\n",
    "    tub.id = str(id_thermal)\n",
    "    tub.type = \"ThermalUnitBlock\"\n",
    "\n",
    "    # Create variables\n",
    "\n",
    "    # MinPower\n",
    "    min_power = tub.createVariable(\"MinPower\", NC_DOUBLE) #, (\"TimeHorizon\",))\n",
    "    min_power[:] = min_power_pypsa.loc[idx_name]\n",
    "\n",
    "    # MaxPower\n",
    "    max_power = tub.createVariable(\"MaxPower\", NC_DOUBLE) #, (\"TimeHorizon\",))\n",
    "    max_power[:] = max_power_pypsa.loc[idx_name]\n",
    "\n",
    "    # StartUpCost\n",
    "    start_up_cost = tub.createVariable(\"StartUpCost\", NC_DOUBLE)\n",
    "    start_up_cost[:] = 0.0\n",
    "\n",
    "    # LinearTerm\n",
    "    linear_term = tub.createVariable(\"LinearTerm\", NC_DOUBLE, (\"TimeHorizon\",))\n",
    "    linear_term[:] = linear_term_pypsa.loc[idx_name] * n.snapshot_weightings.objective.values\n",
    "\n",
    "    # ConstantTerm\n",
    "    constant_term = tub.createVariable(\"ConstantTerm\", NC_DOUBLE)\n",
    "    constant_term[:] = 0.0\n",
    "\n",
    "    # MinUpTime\n",
    "    min_up_time = tub.createVariable(\"MinUpTime\", NC_DOUBLE)\n",
    "    min_up_time[:] = 0.0\n",
    "\n",
    "    # MinDownTime\n",
    "    min_down_time = tub.createVariable(\"MinDownTime\", NC_DOUBLE)\n",
    "    min_down_time[:] = 0.0\n",
    "\n",
    "    # InitialPower\n",
    "    initial_power = tub.createVariable(\"InitialPower\", NC_DOUBLE)\n",
    "    initial_power[:] = n.loads_t.p_set.iloc[0, id_thermal]\n",
    "\n",
    "    # InitUpDownTime\n",
    "    init_up_down_time = tub.createVariable(\"InitUpDownTime\", NC_DOUBLE)\n",
    "    init_up_down_time[:] = 1.0\n",
    "\n",
    "    # InertiaCommitment\n",
    "    inertia_commitment = tub.createVariable(\"InertiaCommitment\", NC_DOUBLE)\n",
    "    inertia_commitment[:] = 1.0\n",
    "\n",
    "    id_thermal += 1"
   ]
  },
  {
   "cell_type": "markdown",
   "metadata": {},
   "source": [
    "### 2.4 Add an IntermittentUnitBlock for each renewable generator"
   ]
  },
  {
   "cell_type": "code",
   "execution_count": null,
   "metadata": {},
   "outputs": [],
   "source": [
    "renewable_generators = n.generators[n.generators.index.isin(renewable_carriers)]\n",
    "\n",
    "id_ren = id_thermal\n",
    "\n",
    "if not renewable_generators.empty:\n",
    "    for (idx_name, row) in renewable_generators.iterrows():\n",
    "\n",
    "        tiub = master.createGroup(f\"UnitBlock_{id_ren}\")\n",
    "        tiub.id = str(id_ren)\n",
    "        tiub.type = \"IntermittentUnitBlock\"\n",
    "\n",
    "        n_max_power = n.generators_t.p_max_pu.loc[:, idx_name] * row.p_nom_opt\n",
    "        \n",
    "\n",
    "        # max power\n",
    "        max_power = tiub.createVariable(\"MaxPower\", NC_DOUBLE, (\"TimeHorizon\",))\n",
    "        max_power[:] = n_max_power\n",
    "\n",
    "        # marginal cost\n",
    "        linear_term = tiub.createVariable(\"ActivePowerCost\", NC_DOUBLE, (\"TimeHorizon\",))\n",
    "        linear_term[:] = row.marginal_cost * n.snapshot_weightings.objective.values\n",
    "\n",
    "        # # max capacity\n",
    "        # max_capacity = tiub.createVariable(\"MaxCapacity\", NC_DOUBLE)\n",
    "        # max_capacity[:] = row[1].p_nom_max \n",
    "\n",
    "        id_ren += 1"
   ]
  },
  {
   "cell_type": "markdown",
   "metadata": {},
   "source": [
    "### 2.5 Add a BatteryUnitBlock for each battery"
   ]
  },
  {
   "cell_type": "code",
   "execution_count": null,
   "metadata": {},
   "outputs": [],
   "source": [
    "hydro_systems_i = n.storage_units_t.inflow.columns  # index of hydro systems (storage units with inflow)\n",
    "batteries_i = n.storage_units.index.difference(hydro_systems_i)  # index of batteries (storage units without inflow)\n",
    "\n",
    "hydro_systems = n.storage_units.loc[hydro_systems_i]\n",
    "batteries = n.storage_units.loc[batteries_i]\n",
    "\n",
    "id_batt = id_ren\n",
    "\n",
    "if not batteries.empty:\n",
    "    for (idx_name, row) in batteries.iterrows():\n",
    "\n",
    "        tiub = master.createGroup(f\"UnitBlock_{id_batt}\")\n",
    "        tiub.id = str(id_batt)\n",
    "        tiub.type = \"BatteryUnitBlock\"\n",
    "        \n",
    "\n",
    "        # max power\n",
    "        max_power = tiub.createVariable(\"MaxPower\", NC_DOUBLE)\n",
    "        max_power[:] = row.p_nom_opt * row.p_max_pu\n",
    "        \n",
    "        # min power\n",
    "        min_power = tiub.createVariable(\"MinPower\", NC_DOUBLE)\n",
    "        min_power[:] = row.p_nom_opt * row.p_min_pu\n",
    "\n",
    "        # max energy\n",
    "        max_storage = tiub.createVariable(\"MaxStorage\", NC_DOUBLE)\n",
    "        max_storage[:] = row.p_nom_opt * row.max_hours\n",
    "\n",
    "        # max energy\n",
    "        min_storage = tiub.createVariable(\"MinStorage\", NC_DOUBLE)\n",
    "        min_storage[:] = 0.0\n",
    "\n",
    "        # Initial storage\n",
    "        initial_storage = tiub.createVariable(\"InitialStorage\", NC_DOUBLE)\n",
    "        initial_storage[:] = row.state_of_charge_initial * row.p_nom_opt * row.max_hours\n",
    "\n",
    "        # Storing battery efficiency\n",
    "        storing_efficiency = tiub.createVariable(\"StoringBatteryRho\", NC_DOUBLE)\n",
    "        storing_efficiency[:] = row.efficiency_store\n",
    "\n",
    "        # Discharge battery efficiency\n",
    "        storing_efficiency = tiub.createVariable(\"ExtractingBatteryRho\", NC_DOUBLE)\n",
    "        storing_efficiency[:] = row.efficiency_dispatch\n",
    "\n",
    "        # # max capacity\n",
    "        # max_capacity = tiub.createVariable(\"MaxCapacity\", NC_DOUBLE)\n",
    "        # max_capacity[:] = row[1].p_nom_max \n",
    "\n",
    "        id_batt += 1"
   ]
  },
  {
   "cell_type": "markdown",
   "metadata": {},
   "source": [
    "### 2.6 Add a HydroUnitBlock for each hydro unit"
   ]
  },
  {
   "cell_type": "code",
   "execution_count": null,
   "metadata": {},
   "outputs": [],
   "source": [
    "id_hydro = id_batt\n",
    "\n",
    "energy_factor = 8760/n_snapshots\n",
    "\n",
    "if not hydro_systems.empty:\n",
    "    for (idx_name, row) in hydro_systems.iterrows():\n",
    "\n",
    "        tiub = master.createGroup(f\"UnitBlock_{id_hydro}\")\n",
    "        tiub.id = str(id_hydro)\n",
    "        tiub.type = \"HydroUnitBlock\"\n",
    "\n",
    "        tiub.createDimension(\"NumberReservoirs\", 1)  # optional, the number of reservoirs\n",
    "        N_ARCS = 2\n",
    "        tiub.createDimension(\"NumberArcs\", N_ARCS)  # optional, the number of arcs connecting the reservoirs\n",
    "        # No NumberIntervals\n",
    "        \n",
    "        MAX_FLOW = 100*n.storage_units_t.inflow.loc[:, idx_name].max()\n",
    "        P_MAX = row.p_nom_opt * row.p_max_pu\n",
    "        P_MIN = row.p_nom_opt * row.p_min_pu\n",
    "\n",
    "        # StartArc\n",
    "        start_arc = tiub.createVariable(\"StartArc\", NC_UINT, (\"NumberArcs\",))\n",
    "        start_arc[:] = np.full((N_ARCS,), 0, dtype=NP_UINT)\n",
    "\n",
    "        # EndArc\n",
    "        end_arc = tiub.createVariable(\"EndArc\", NC_UINT, (\"NumberArcs\",))\n",
    "        end_arc[:] = np.full((N_ARCS,), 1, dtype=NP_UINT)\n",
    "\n",
    "        # MaxPower\n",
    "        max_power = tiub.createVariable(\"MaxPower\", NC_DOUBLE, (\"NumberArcs\",)) #, (\"NumberArcs\",)) #, (\"TimeHorizon\",)) #\"NumberArcs\"))\n",
    "        max_power[:] = np.array([P_MAX, 0.], dtype=NP_DOUBLE)\n",
    "\n",
    "        # MinPower\n",
    "        min_power = tiub.createVariable(\"MinPower\", NC_DOUBLE, (\"NumberArcs\",)) #, (\"NumberArcs\",)) #, (\"TimeHorizon\",)) #\"NumberArcs\"))\n",
    "        min_power[:] = np.array([0., P_MIN], dtype=NP_DOUBLE)\n",
    "\n",
    "        # MinFlow\n",
    "        min_flow = tiub.createVariable(\"MinFlow\", NC_DOUBLE, (\"NumberArcs\",)) #, (\"TimeHorizon\",))\n",
    "        min_flow[:] = np.array([0., -MAX_FLOW], dtype=NP_DOUBLE)\n",
    "\n",
    "        # MaxFlow\n",
    "        max_flow = tiub.createVariable(\"MaxFlow\", NC_DOUBLE, (\"NumberArcs\",)) #, (\"TimeHorizon\",))\n",
    "        max_flow[:] = np.array([P_MAX * 100., 0.], dtype=NP_DOUBLE)\n",
    "        \n",
    "        # MinVolumetric\n",
    "        min_volumetric = tiub.createVariable(\"MinVolumetric\", NC_DOUBLE) #, (\"TimeHorizon\",))\n",
    "        min_volumetric[:] = 0.0\n",
    "\n",
    "        # MaxVolumetric\n",
    "        max_volumetric = tiub.createVariable(\"MaxVolumetric\", NC_DOUBLE)\n",
    "        max_volumetric[:] = row.p_nom_opt * row.max_hours\n",
    "\n",
    "        # ActivePowerCost\n",
    "        active_power_cost = tiub.createVariable(\"ActivePowerCost\", NC_DOUBLE)\n",
    "        active_power_cost[:] = row.marginal_cost * n.snapshot_weightings.objective.iloc[0]\n",
    "\n",
    "        \n",
    "        # Inflows\n",
    "        inflows = tiub.createVariable(\"Inflows\", NC_DOUBLE, (\"NumberReservoirs\", \"TimeHorizon\")) #,\"NumberReservoirs\",))  #\"NumberReservoirs\", \n",
    "        inflows[:] = np.array([n.storage_units_t.inflow.loc[:, idx_name]])\n",
    "\n",
    "        # InitialVolumetric\n",
    "        initial_volumetric = tiub.createVariable(\"InitialVolumetric\", NC_DOUBLE) #, (\"NumberReservoirs\",))\n",
    "        initial_volumetric[:] = row.state_of_charge_initial * row.max_hours * row.p_nom_opt\n",
    "\n",
    "        # NumberPieces\n",
    "        pieces = np.full((N_ARCS,), 1, dtype=NP_UINT)\n",
    "        number_pieces = tiub.createVariable(\"NumberPieces\", NC_UINT, (\"NumberArcs\",))\n",
    "        number_pieces[:] = pieces\n",
    "\n",
    "        # TotalNumberPieces\n",
    "        tiub.createDimension(\"TotalNumberPieces\", pieces.sum())\n",
    "\n",
    "        # LinearTerm\n",
    "        linear_term = tiub.createVariable(\"LinearTerm\", NC_DOUBLE, (\"TotalNumberPieces\",))\n",
    "        # linear_term[:] = np.array([1/n.storage_units.loc[idx_name, \"efficiency_dispatch\"], 0., n.storage_units.loc[idx_name, \"efficiency_store\"]], dtype=NP_DOUBLE)\n",
    "        linear_term[:] = np.array([n.storage_units.loc[idx_name, \"efficiency_dispatch\"], 1/n.storage_units.loc[idx_name, \"efficiency_store\"]], dtype=NP_DOUBLE)\n",
    "\n",
    "        # ConstTerm\n",
    "        const_term = tiub.createVariable(\"ConstantTerm\", NC_DOUBLE, (\"TotalNumberPieces\",))\n",
    "        const_term[:] = np.full((N_ARCS,), 0.0, dtype=NP_DOUBLE)"
   ]
  },
  {
   "cell_type": "markdown",
   "metadata": {},
   "source": [
    "Finally close the netcdf problem file"
   ]
  },
  {
   "cell_type": "code",
   "execution_count": null,
   "metadata": {},
   "outputs": [],
   "source": [
    "ds.close()"
   ]
  },
  {
   "cell_type": "markdown",
   "metadata": {},
   "source": [
    "## 3. Execute UCBlockSolver"
   ]
  },
  {
   "cell_type": "code",
   "execution_count": null,
   "metadata": {},
   "outputs": [],
   "source": [
    "import subprocess\n",
    "import os\n",
    "\n",
    "PROJECT_PATH = \"../../smspp-project\"   # Path of the SMS++ project\n",
    "COMPILE_MODE = \"Release\"              # Compilation mode (Debug/Release)\n",
    "\n",
    "DATA_FOLDER = folder_builder  # Folder where all data inputs are contained (cwd will be moved here)\n",
    "BSC_NAME = \"uc_solverconfig.txt\"          # Name of the file describing the BlockSolverConfig\n",
    "UCFILE_NAME = \"pypsa2smspp.nc4\"      # Name of the UC-file to test\n",
    "\n",
    "PARENT_ABSPATH_UCS = os.path.abspath(PROJECT_PATH + \"/build/tools/ucblock_solver/\" + COMPILE_MODE)\n",
    "UCS_ABSPATH = os.path.abspath(PARENT_ABSPATH_UCS + \"/ucblock_solver.exe\")\n",
    "\n",
    "result = subprocess.run(\n",
    "    [UCS_ABSPATH, UCFILE_NAME, \"-S\", BSC_NAME],\n",
    "    stdout=subprocess.PIPE,\n",
    "    stderr=subprocess.STDOUT,\n",
    "    cwd=DATA_FOLDER,\n",
    ")\n",
    "result_ascii = result.stdout.decode('ascii')\n",
    "print(result_ascii)"
   ]
  },
  {
   "cell_type": "markdown",
   "metadata": {},
   "source": [
    "## 4. Validate the objective function of SMS++ and compare it to SMS++\n",
    "\n",
    "We read the output of the ucblock_solver and compare it to the marginal costs obtained from PyPSA"
   ]
  },
  {
   "cell_type": "code",
   "execution_count": null,
   "metadata": {},
   "outputs": [],
   "source": [
    "res = re.search(\"Upper bound = (.*)\\n\", result_ascii)\n",
    "SMSpp_obj = float(res.group(1).replace(\"\\r\", \"\"))\n",
    "print(\"SMS++ obj         : %.6f\" % SMSpp_obj)\n",
    "print(\"PyPSA dispatch obj: %.6f\" % marg_cost.sum())\n",
    "print(\"Error SMS++ - PyPSA dispatch [%%]: %.5f\" % (100*(SMSpp_obj - marg_cost.sum())/marg_cost.sum()))"
   ]
  }
 ],
 "metadata": {
  "kernelspec": {
   "display_name": "SMSpp_PyPSA_interface",
   "language": "python",
   "name": "python3"
  },
  "language_info": {
   "codemirror_mode": {
    "name": "ipython",
    "version": 3
   },
   "file_extension": ".py",
   "mimetype": "text/x-python",
   "name": "python",
   "nbconvert_exporter": "python",
   "pygments_lexer": "ipython3",
   "version": "3.12.9"
  }
 },
 "nbformat": 4,
 "nbformat_minor": 2
}
