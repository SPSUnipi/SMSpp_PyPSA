{
 "cells": [
  {
   "cell_type": "markdown",
   "metadata": {},
   "source": [
    "# PyPSA to SMS++: build a PyPSA model and solve it as an SMS++ UCBlock (dispatch)\n",
    "\n",
    "This notebook aims to showcase the interface between PyPSA and SMS++. It demonstrates how to convert a PyPSA model into a UCBlock problem that can be solved using the SMS++ solver. The notebook also validates the objective function of the SMS++ solver and compares it to the results obtained from SMS++.\n",
    "\n",
    "This notebook executes the following procedure:\n",
    "1. Create and optimize a pypsa model\n",
    "2. Converts the PyPSA model into a UCBlock problem to be read by SMS++\n",
    "3. Launches the optimization using the UCBlock solver of SMS++\n",
    "4. Validate the objective function of SMS++ and compares it to SMS++"
   ]
  },
  {
   "cell_type": "markdown",
   "metadata": {},
   "source": [
    "## 1. Creation of the PyPSA model\n",
    "\n",
    "We create a simple PyPSA model arbitrary number of buses, few generators, storages and loads.\n",
    "\n",
    "Main assumptions are:\n",
    "- The network is purely radial in the form bus1 -> bus2 -> bus3 -> ... busN\n",
    "- A load is added to each bus of the network\n",
    "- The following technologies are supported:\n",
    "  - fuel-fired diesel generator\n",
    "  - pv generator\n",
    "  - wind generator\n",
    "  - battery\n",
    "  - hydro unit\n",
    "\n",
    "The following notebook, performs the following SMS++ to PyPSA conversion:\n",
    "\n",
    "|Physical object|PyPSA object|SMS++ object|\n",
    "|----------------|------------|------------|\n",
    "|diesel generator|Generator|ThermalUnitBlock|\n",
    "|pv generator|Generator|IntermittentUnitBlock|\n",
    "|wind generator|Generator|IntermittentUnitBlock|\n",
    "|battery|StorageUnit|BatteryUnitBlock|\n",
    "|hydro unit|StorageUnit|HydroUnitBlock|"
   ]
  },
  {
   "cell_type": "code",
   "execution_count": 85,
   "metadata": {},
   "outputs": [],
   "source": [
    "n_snapshots = 1*24  # number of snapshots of the model\n",
    "\n",
    "buses_demand = [0]  # list of buses where demand is located\n",
    "bus_PV = None # Bus where PV is located; if none, no PV is considered\n",
    "bus_wind = None # Bus where wind is located; if none, no wind is considered\n",
    "bus_storage = None # Bus where storage is located; if none, no storage is considered\n",
    "bus_hydro = 0 # Bus where hydro is located; if none, no hydro is considered\n",
    "bus_diesel = 0 # Bus where diesel is located; if none, no pv is considered\n"
   ]
  },
  {
   "cell_type": "markdown",
   "metadata": {},
   "source": [
    "#### Preliminary imports"
   ]
  },
  {
   "cell_type": "code",
   "execution_count": 86,
   "metadata": {},
   "outputs": [],
   "source": [
    "folder_builder = \"../data/SMSpp/UCBlockSolver\"\n",
    "path_SMSpp_pypsa = folder_builder + \"/pypsa2SMSpp.nc4\"\n",
    "\n",
    "renewable_carriers = [\"pv\", \"wind\"]"
   ]
  },
  {
   "cell_type": "code",
   "execution_count": 87,
   "metadata": {},
   "outputs": [],
   "source": [
    "import pypsa\n",
    "from helpers import build_microgrid_model\n",
    "import netCDF4 as nc\n",
    "import pandas as pd\n",
    "import numpy as np\n",
    "import re\n",
    "\n",
    "NC_DOUBLE = \"f8\"\n",
    "NP_DOUBLE = np.float64\n",
    "NC_UINT = \"u4\"\n",
    "NP_UINT = np.uint32"
   ]
  },
  {
   "cell_type": "markdown",
   "metadata": {},
   "source": [
    "#### The following code creates the desired pypsa model."
   ]
  },
  {
   "cell_type": "code",
   "execution_count": 88,
   "metadata": {},
   "outputs": [],
   "source": [
    "n = build_microgrid_model(\n",
    "    n_snapshots = n_snapshots,\n",
    "    buses_demand = buses_demand,\n",
    "    bus_PV = bus_PV,\n",
    "    bus_wind = bus_wind,\n",
    "    bus_storage = bus_storage,\n",
    "    bus_diesel = bus_diesel,\n",
    "    bus_hydro=bus_hydro,\n",
    "    x = 10.389754,\n",
    "    y = 43.720810,\n",
    "    hydro_factor=0.4,\n",
    ")\n",
    "\n",
    "# n.storage_units.capital_cost *= 2\n",
    "# n.storage_units.p_min_pu = 0.\n",
    "# n.storage_units.p_nom_max = 10\n",
    "# n.storage_units.max_hours = 1\n",
    "\n",
    "# n.snapshot_weightings[\"stores\"] = 1.0\n",
    "\n",
    "# n.generators.p_nom = 100"
   ]
  },
  {
   "cell_type": "code",
   "execution_count": 89,
   "metadata": {},
   "outputs": [
    {
     "name": "stderr",
     "output_type": "stream",
     "text": [
      "WARNING:pypsa.consistency:The following generators have carriers which are not defined:\n",
      "Index(['diesel'], dtype='object', name='Generator')\n",
      "WARNING:pypsa.consistency:The following buses have carriers which are not defined:\n",
      "Index(['Bus 0'], dtype='object', name='Bus')\n",
      "WARNING:pypsa.consistency:The following generators have carriers which are not defined:\n",
      "Index(['diesel'], dtype='object', name='Generator')\n",
      "WARNING:pypsa.consistency:The following buses have carriers which are not defined:\n",
      "Index(['Bus 0'], dtype='object', name='Bus')\n",
      "INFO:linopy.model: Solve problem using Gurobi solver\n",
      "INFO:linopy.io: Writing time: 0.05s\n"
     ]
    },
    {
     "name": "stdout",
     "output_type": "stream",
     "text": [
      "Set parameter Username\n"
     ]
    },
    {
     "name": "stderr",
     "output_type": "stream",
     "text": [
      "INFO:gurobipy:Set parameter Username\n"
     ]
    },
    {
     "name": "stdout",
     "output_type": "stream",
     "text": [
      "Academic license - for non-commercial use only - expires 2025-07-18\n"
     ]
    },
    {
     "name": "stderr",
     "output_type": "stream",
     "text": [
      "INFO:gurobipy:Academic license - for non-commercial use only - expires 2025-07-18\n"
     ]
    },
    {
     "name": "stdout",
     "output_type": "stream",
     "text": [
      "Read LP format model from file C:\\Users\\Davide\\AppData\\Local\\Temp\\linopy-problem-2vpe1d3k.lp\n"
     ]
    },
    {
     "name": "stderr",
     "output_type": "stream",
     "text": [
      "INFO:gurobipy:Read LP format model from file C:\\Users\\Davide\\AppData\\Local\\Temp\\linopy-problem-2vpe1d3k.lp\n"
     ]
    },
    {
     "name": "stdout",
     "output_type": "stream",
     "text": [
      "Reading time = 0.00 seconds\n"
     ]
    },
    {
     "name": "stderr",
     "output_type": "stream",
     "text": [
      "INFO:gurobipy:Reading time = 0.00 seconds\n"
     ]
    },
    {
     "name": "stdout",
     "output_type": "stream",
     "text": [
      "obj: 242 rows, 118 columns, 477 nonzeros\n"
     ]
    },
    {
     "name": "stderr",
     "output_type": "stream",
     "text": [
      "INFO:gurobipy:obj: 242 rows, 118 columns, 477 nonzeros\n"
     ]
    },
    {
     "name": "stdout",
     "output_type": "stream",
     "text": [
      "Gurobi Optimizer version 11.0.3 build v11.0.3rc0 (win64 - Windows 11+.0 (26100.2))\n"
     ]
    },
    {
     "name": "stderr",
     "output_type": "stream",
     "text": [
      "INFO:gurobipy:Gurobi Optimizer version 11.0.3 build v11.0.3rc0 (win64 - Windows 11+.0 (26100.2))\n"
     ]
    },
    {
     "name": "stdout",
     "output_type": "stream",
     "text": [
      "\n"
     ]
    },
    {
     "name": "stderr",
     "output_type": "stream",
     "text": [
      "INFO:gurobipy:\n"
     ]
    },
    {
     "name": "stdout",
     "output_type": "stream",
     "text": [
      "CPU model: 12th Gen Intel(R) Core(TM) i9-12900HK, instruction set [SSE2|AVX|AVX2]\n"
     ]
    },
    {
     "name": "stderr",
     "output_type": "stream",
     "text": [
      "INFO:gurobipy:CPU model: 12th Gen Intel(R) Core(TM) i9-12900HK, instruction set [SSE2|AVX|AVX2]\n"
     ]
    },
    {
     "name": "stdout",
     "output_type": "stream",
     "text": [
      "Thread count: 14 physical cores, 20 logical processors, using up to 20 threads\n"
     ]
    },
    {
     "name": "stderr",
     "output_type": "stream",
     "text": [
      "INFO:gurobipy:Thread count: 14 physical cores, 20 logical processors, using up to 20 threads\n"
     ]
    },
    {
     "name": "stdout",
     "output_type": "stream",
     "text": [
      "\n"
     ]
    },
    {
     "name": "stderr",
     "output_type": "stream",
     "text": [
      "INFO:gurobipy:\n"
     ]
    },
    {
     "name": "stdout",
     "output_type": "stream",
     "text": [
      "Optimize a model with 242 rows, 118 columns and 477 nonzeros\n"
     ]
    },
    {
     "name": "stderr",
     "output_type": "stream",
     "text": [
      "INFO:gurobipy:Optimize a model with 242 rows, 118 columns and 477 nonzeros\n"
     ]
    },
    {
     "name": "stdout",
     "output_type": "stream",
     "text": [
      "Model fingerprint: 0x7512e623\n"
     ]
    },
    {
     "name": "stderr",
     "output_type": "stream",
     "text": [
      "INFO:gurobipy:Model fingerprint: 0x7512e623\n"
     ]
    },
    {
     "name": "stdout",
     "output_type": "stream",
     "text": [
      "Coefficient statistics:\n"
     ]
    },
    {
     "name": "stderr",
     "output_type": "stream",
     "text": [
      "INFO:gurobipy:Coefficient statistics:\n"
     ]
    },
    {
     "name": "stdout",
     "output_type": "stream",
     "text": [
      "  Matrix range     [1e+00, 4e+02]\n"
     ]
    },
    {
     "name": "stderr",
     "output_type": "stream",
     "text": [
      "INFO:gurobipy:  Matrix range     [1e+00, 4e+02]\n"
     ]
    },
    {
     "name": "stdout",
     "output_type": "stream",
     "text": [
      "  Objective range  [4e+01, 2e+02]\n"
     ]
    },
    {
     "name": "stderr",
     "output_type": "stream",
     "text": [
      "INFO:gurobipy:  Objective range  [4e+01, 2e+02]\n"
     ]
    },
    {
     "name": "stdout",
     "output_type": "stream",
     "text": [
      "  Bounds range     [2e+00, 3e+01]\n"
     ]
    },
    {
     "name": "stderr",
     "output_type": "stream",
     "text": [
      "INFO:gurobipy:  Bounds range     [2e+00, 3e+01]\n"
     ]
    },
    {
     "name": "stdout",
     "output_type": "stream",
     "text": [
      "  RHS range        [1e+01, 1e+04]\n"
     ]
    },
    {
     "name": "stderr",
     "output_type": "stream",
     "text": [
      "INFO:gurobipy:  RHS range        [1e+01, 1e+04]\n"
     ]
    },
    {
     "name": "stdout",
     "output_type": "stream",
     "text": [
      "Presolve removed 98 rows and 0 columns\n"
     ]
    },
    {
     "name": "stderr",
     "output_type": "stream",
     "text": [
      "INFO:gurobipy:Presolve removed 98 rows and 0 columns\n"
     ]
    },
    {
     "name": "stdout",
     "output_type": "stream",
     "text": [
      "Presolve time: 0.00s\n"
     ]
    },
    {
     "name": "stderr",
     "output_type": "stream",
     "text": [
      "INFO:gurobipy:Presolve time: 0.00s\n"
     ]
    },
    {
     "name": "stdout",
     "output_type": "stream",
     "text": [
      "Presolved: 144 rows, 118 columns, 379 nonzeros\n"
     ]
    },
    {
     "name": "stderr",
     "output_type": "stream",
     "text": [
      "INFO:gurobipy:Presolved: 144 rows, 118 columns, 379 nonzeros\n"
     ]
    },
    {
     "name": "stdout",
     "output_type": "stream",
     "text": [
      "\n"
     ]
    },
    {
     "name": "stderr",
     "output_type": "stream",
     "text": [
      "INFO:gurobipy:\n"
     ]
    },
    {
     "name": "stdout",
     "output_type": "stream",
     "text": [
      "Iteration    Objective       Primal Inf.    Dual Inf.      Time\n"
     ]
    },
    {
     "name": "stderr",
     "output_type": "stream",
     "text": [
      "INFO:gurobipy:Iteration    Objective       Primal Inf.    Dual Inf.      Time\n"
     ]
    },
    {
     "name": "stdout",
     "output_type": "stream",
     "text": [
      "       0    0.0000000e+00   7.656813e+03   0.000000e+00      0s\n"
     ]
    },
    {
     "name": "stderr",
     "output_type": "stream",
     "text": [
      "INFO:gurobipy:       0    0.0000000e+00   7.656813e+03   0.000000e+00      0s\n"
     ]
    },
    {
     "name": "stdout",
     "output_type": "stream",
     "text": [
      "      56    2.7453159e+04   0.000000e+00   0.000000e+00      0s\n"
     ]
    },
    {
     "name": "stderr",
     "output_type": "stream",
     "text": [
      "INFO:gurobipy:      56    2.7453159e+04   0.000000e+00   0.000000e+00      0s\n"
     ]
    },
    {
     "name": "stdout",
     "output_type": "stream",
     "text": [
      "\n"
     ]
    },
    {
     "name": "stderr",
     "output_type": "stream",
     "text": [
      "INFO:gurobipy:\n"
     ]
    },
    {
     "name": "stdout",
     "output_type": "stream",
     "text": [
      "Solved in 56 iterations and 0.02 seconds (0.00 work units)\n"
     ]
    },
    {
     "name": "stderr",
     "output_type": "stream",
     "text": [
      "INFO:gurobipy:Solved in 56 iterations and 0.02 seconds (0.00 work units)\n"
     ]
    },
    {
     "name": "stdout",
     "output_type": "stream",
     "text": [
      "Optimal objective  2.745315941e+04\n"
     ]
    },
    {
     "name": "stderr",
     "output_type": "stream",
     "text": [
      "INFO:gurobipy:Optimal objective  2.745315941e+04\n",
      "INFO:linopy.constants: Optimization successful: \n",
      "Status: ok\n",
      "Termination condition: optimal\n",
      "Solution: 118 primals, 242 duals\n",
      "Objective: 2.75e+04\n",
      "Solver model: available\n",
      "Solver message: 2\n",
      "\n",
      "INFO:pypsa.optimization.optimize:The shadow-prices of the constraints Generator-ext-p-lower, Generator-ext-p-upper, StorageUnit-ext-p_dispatch-lower, StorageUnit-ext-p_dispatch-upper, StorageUnit-ext-p_store-lower, StorageUnit-ext-p_store-upper, StorageUnit-ext-state_of_charge-lower, StorageUnit-ext-state_of_charge-upper, StorageUnit-energy_balance were not assigned to the network.\n"
     ]
    },
    {
     "data": {
      "text/plain": [
       "('ok', 'optimal')"
      ]
     },
     "execution_count": 89,
     "metadata": {},
     "output_type": "execute_result"
    }
   ],
   "source": [
    "n.optimize(solver_name=\"gurobi\")"
   ]
  },
  {
   "cell_type": "markdown",
   "metadata": {},
   "source": [
    "#### Analyze the results"
   ]
  },
  {
   "cell_type": "code",
   "execution_count": 90,
   "metadata": {},
   "outputs": [],
   "source": [
    "# Auxiliary function\n",
    "def get_bus_idx(n, bus_series, dtype=\"uint32\"):\n",
    "    \"\"\"\n",
    "    Returns the numeric index of the bus in the network n for each element of the bus_series.\n",
    "    \"\"\"\n",
    "    return bus_series.map(n.buses.index.get_loc).astype(dtype)"
   ]
  },
  {
   "cell_type": "markdown",
   "metadata": {},
   "source": [
    "Calculate the marginal costs. Note: as we are running a UCBlock, only marginal costs can be compared."
   ]
  },
  {
   "cell_type": "code",
   "execution_count": 91,
   "metadata": {},
   "outputs": [
    {
     "data": {
      "application/vnd.microsoft.datawrangler.viewer.v0+json": {
       "columns": [
        {
         "name": "index",
         "rawType": "object",
         "type": "string"
        },
        {
         "name": "0",
         "rawType": "float64",
         "type": "float"
        }
       ],
       "ref": "69de2e90-f9f5-4174-8453-d07cdf235c34",
       "rows": [
        [
         "diesel",
         "14156.264703458097"
        ],
        [
         "hydro",
         "0.0"
        ]
       ],
       "shape": {
        "columns": 1,
        "rows": 2
       }
      },
      "text/plain": [
       "diesel    14156.264703\n",
       "hydro         0.000000\n",
       "dtype: float64"
      ]
     },
     "execution_count": 91,
     "metadata": {},
     "output_type": "execute_result"
    }
   ],
   "source": [
    "marg_cost = pd.concat(\n",
    "    [\n",
    "        n.generators_t.p.mul(n.snapshot_weightings.objective, axis=0).sum().mul(n.generators.marginal_cost),\n",
    "        n.storage_units_t.p.mul(n.snapshot_weightings.objective, axis=0).sum().mul(n.storage_units.marginal_cost),\n",
    "        n.links_t.p0.mul(n.snapshot_weightings.objective, axis=0).sum().mul(n.links.marginal_cost),\n",
    "        n.stores_t.p.mul(n.snapshot_weightings.objective, axis=0).sum().mul(n.stores.marginal_cost),\n",
    "    ],\n",
    ")\n",
    "marg_cost"
   ]
  },
  {
   "cell_type": "markdown",
   "metadata": {},
   "source": [
    "Calculate the capital costs"
   ]
  },
  {
   "cell_type": "code",
   "execution_count": 92,
   "metadata": {},
   "outputs": [
    {
     "data": {
      "application/vnd.microsoft.datawrangler.viewer.v0+json": {
       "columns": [
        {
         "name": "index",
         "rawType": "object",
         "type": "string"
        },
        {
         "name": "0",
         "rawType": "float64",
         "type": "float"
        }
       ],
       "ref": "14622745-e3d7-46f0-9f04-49436bf7b11b",
       "rows": [
        [
         "diesel",
         "9449.795867803965"
        ],
        [
         "hydro",
         "3847.0988373901996"
        ]
       ],
       "shape": {
        "columns": 1,
        "rows": 2
       }
      },
      "text/plain": [
       "diesel    9449.795868\n",
       "hydro     3847.098837\n",
       "dtype: float64"
      ]
     },
     "execution_count": 92,
     "metadata": {},
     "output_type": "execute_result"
    }
   ],
   "source": [
    "cap_cost = pd.concat(\n",
    "    [\n",
    "        n.generators.eval(\"p_nom_opt * capital_cost\"),\n",
    "        n.storage_units.eval(\"p_nom_opt * capital_cost\"),\n",
    "        n.links.eval(\"p_nom_opt * capital_cost\"),\n",
    "        n.lines.eval(\"s_nom_opt * capital_cost\"),\n",
    "        n.stores.eval(\"e_nom_opt * capital_cost\"),\n",
    "    ]\n",
    ")\n",
    "cap_cost"
   ]
  },
  {
   "cell_type": "markdown",
   "metadata": {},
   "source": [
    "## 2. Convert the PyPSA model into a UCBlock problem\n",
    "\n",
    "The following code converts the pypsa model into a UCBlock problem.\n",
    "The conversions adopts the covnersion matrix adopted in the example above."
   ]
  },
  {
   "cell_type": "markdown",
   "metadata": {},
   "source": [
    "### 2.1 Create the SMS++ problem file"
   ]
  },
  {
   "cell_type": "code",
   "execution_count": 93,
   "metadata": {},
   "outputs": [],
   "source": [
    "ds = nc.Dataset(path_SMSpp_pypsa, \"w\")\n",
    "\n",
    "\n",
    "ds.setncattr(\"SMS++_file_type\", 1)  # Set file type to 1 for problem file"
   ]
  },
  {
   "cell_type": "markdown",
   "metadata": {},
   "source": [
    "### 2.2 Creates the Inner UCBlock"
   ]
  },
  {
   "cell_type": "code",
   "execution_count": 94,
   "metadata": {},
   "outputs": [
    {
     "data": {
      "text/plain": [
       "\"<class 'netCDF4.Dimension'>\": name = 'NumberElectricalGenerators', size = 2"
      ]
     },
     "execution_count": 94,
     "metadata": {},
     "output_type": "execute_result"
    }
   ],
   "source": [
    "# Create UCBlock\n",
    "\n",
    "master = ds.createGroup(\"Block_0\")  # Create the first main block\n",
    "\n",
    "master.type = \"UCBlock\"  # mandatory attribute for all blocks\n",
    "\n",
    "n_timesteps = len(n.snapshots)\n",
    "\n",
    "master.createDimension(\"TimeHorizon\", n_timesteps)  # Time horizon\n",
    "\n",
    "n_units = len(n.generators) + len(n.storage_units)  # excluding links for now\n",
    "\n",
    "master.createDimension(\"NumberUnits\", n_units)  # Number of nodes\n",
    "master.createDimension(\"NumberElectricalGenerators\", n_units)  # Number of elec. units\n",
    "# some unitblocks, do have multiple units inside [e.g. cascading hydro or CCGT], not considered now"
   ]
  },
  {
   "cell_type": "markdown",
   "metadata": {},
   "source": [
    "Add the Network Data to the UCBlock"
   ]
  },
  {
   "cell_type": "code",
   "execution_count": 95,
   "metadata": {},
   "outputs": [],
   "source": [
    "ndg = master.createGroup(\"NetworkData\")\n",
    "ndg.createDimension(\"NumberNodes\", len(n.buses))  # Number of nodes\n",
    "\n",
    "\n",
    "if len(n.buses) > 1: # when there are multiple buses, we need to integrate the network\n",
    "    master.createDimension(\"NumberLines\", len(n.lines))  # Number of lines\n",
    "\n",
    "    # generators' node\n",
    "    all_generators = [bus_PV, bus_wind, bus_storage, bus_hydro, bus_diesel]\n",
    "    all_generators = [x for x in all_generators if x is not None]\n",
    "    generator_node = ndg.createVariable(\"GeneratorNode\", NC_UINT, (\"NumberElectricalGenerators\",))\n",
    "    generator_node[:] = np.array(all_generators, dtype=NP_UINT)\n",
    "\n",
    "    # start lines\n",
    "    start_line = ndg.createVariable(\"StartLine\", NC_UINT, (\"NumberLines\",))\n",
    "    start_line[:] = get_bus_idx(n, n.lines.bus0).values\n",
    "    # end lines\n",
    "    end_line = ndg.createVariable(\"EndLine\", NC_UINT, (\"NumberLines\",))\n",
    "    end_line[:] = get_bus_idx(n, n.lines.bus1).values\n",
    "    # Min power flow\n",
    "    min_power_flow = ndg.createVariable(\"MinPowerFlow\", NC_DOUBLE, (\"NumberLines\",))\n",
    "    min_power_flow[:] = - n.lines.s_nom.values\n",
    "    # Max power flow\n",
    "    max_power_flow = ndg.createVariable(\"MaxPowerFlow\", NC_DOUBLE, (\"NumberLines\",))\n",
    "    max_power_flow[:] = n.lines.s_nom.values\n",
    "    # Susceptance\n",
    "    susceptance = ndg.createVariable(\"Susceptance\", NC_DOUBLE, (\"NumberLines\",))\n",
    "    susceptance[:] = 1 / n.lines.x.values"
   ]
  },
  {
   "cell_type": "markdown",
   "metadata": {},
   "source": [
    "Add demand to the UCBlock"
   ]
  },
  {
   "cell_type": "code",
   "execution_count": 96,
   "metadata": {},
   "outputs": [],
   "source": [
    "### Create variables\n",
    "\n",
    "# demand by node\n",
    "loads_t = n.loads_t.p_set\n",
    "active_demand = master.createVariable(\"ActivePowerDemand\", NC_DOUBLE, (\"TimeHorizon\",)) #(\"NumberNodes\", \"TimeHorizon\"))\n",
    "active_demand[:] = loads_t.values.transpose()  # indexing between python and SMS++ is different: transpose"
   ]
  },
  {
   "cell_type": "markdown",
   "metadata": {},
   "source": [
    "### 2.3 Add the ThermalUnitBlock for each fuel-fired generator"
   ]
  },
  {
   "cell_type": "code",
   "execution_count": 97,
   "metadata": {},
   "outputs": [],
   "source": [
    "id_thermal = 0\n",
    "\n",
    "# select thermal generators\n",
    "thermal_generators = n.generators[~n.generators.index.isin(renewable_carriers)]\n",
    "n_thermal = len(thermal_generators)\n",
    "\n",
    "min_power_pypsa = thermal_generators.eval(\"p_nom_opt * p_min_pu\")\n",
    "max_power_pypsa = thermal_generators.eval(\"p_nom_opt * p_max_pu\")\n",
    "linear_term_pypsa = thermal_generators.marginal_cost\n",
    "\n",
    "for (idx_name, row) in thermal_generators.iterrows():\n",
    "\n",
    "    tub = master.createGroup(f\"UnitBlock_{id_thermal}\")\n",
    "    tub.id = str(id_thermal)\n",
    "    tub.type = \"ThermalUnitBlock\"\n",
    "\n",
    "    # Create variables\n",
    "\n",
    "    # MinPower\n",
    "    min_power = tub.createVariable(\"MinPower\", NC_DOUBLE) #, (\"TimeHorizon\",))\n",
    "    min_power[:] = min_power_pypsa.loc[idx_name]\n",
    "\n",
    "    # MaxPower\n",
    "    max_power = tub.createVariable(\"MaxPower\", NC_DOUBLE) #, (\"TimeHorizon\",))\n",
    "    max_power[:] = max_power_pypsa.loc[idx_name]\n",
    "\n",
    "    # StartUpCost\n",
    "    start_up_cost = tub.createVariable(\"StartUpCost\", NC_DOUBLE)\n",
    "    start_up_cost[:] = 0.0\n",
    "\n",
    "    # LinearTerm\n",
    "    linear_term = tub.createVariable(\"LinearTerm\", NC_DOUBLE, (\"TimeHorizon\",))\n",
    "    linear_term[:] = linear_term_pypsa.loc[idx_name] * n.snapshot_weightings.objective.values\n",
    "\n",
    "    # ConstantTerm\n",
    "    constant_term = tub.createVariable(\"ConstantTerm\", NC_DOUBLE)\n",
    "    constant_term[:] = 0.0\n",
    "\n",
    "    # MinUpTime\n",
    "    min_up_time = tub.createVariable(\"MinUpTime\", NC_DOUBLE)\n",
    "    min_up_time[:] = 0.0\n",
    "\n",
    "    # MinDownTime\n",
    "    min_down_time = tub.createVariable(\"MinDownTime\", NC_DOUBLE)\n",
    "    min_down_time[:] = 0.0\n",
    "\n",
    "    # InitialPower\n",
    "    initial_power = tub.createVariable(\"InitialPower\", NC_DOUBLE)\n",
    "    initial_power[:] = n.loads_t.p_set.iloc[0, id_thermal]\n",
    "\n",
    "    # InitUpDownTime\n",
    "    init_up_down_time = tub.createVariable(\"InitUpDownTime\", NC_DOUBLE)\n",
    "    init_up_down_time[:] = 1.0\n",
    "\n",
    "    # InertiaCommitment\n",
    "    inertia_commitment = tub.createVariable(\"InertiaCommitment\", NC_DOUBLE)\n",
    "    inertia_commitment[:] = 1.0\n",
    "\n",
    "    id_thermal += 1"
   ]
  },
  {
   "cell_type": "markdown",
   "metadata": {},
   "source": [
    "### 2.4 Add an IntermittentUnitBlock for each renewable generator"
   ]
  },
  {
   "cell_type": "code",
   "execution_count": 98,
   "metadata": {},
   "outputs": [],
   "source": [
    "renewable_generators = n.generators[n.generators.index.isin(renewable_carriers)]\n",
    "\n",
    "id_ren = id_thermal\n",
    "\n",
    "if not renewable_generators.empty:\n",
    "    for (idx_name, row) in renewable_generators.iterrows():\n",
    "\n",
    "        tiub = master.createGroup(f\"UnitBlock_{id_ren}\")\n",
    "        tiub.id = str(id_ren)\n",
    "        tiub.type = \"IntermittentUnitBlock\"\n",
    "\n",
    "        n_max_power = n.generators_t.p_max_pu.loc[:, idx_name] * row.p_nom_opt\n",
    "        \n",
    "\n",
    "        # max power\n",
    "        max_power = tiub.createVariable(\"MaxPower\", NC_DOUBLE, (\"TimeHorizon\",))\n",
    "        max_power[:] = n_max_power\n",
    "\n",
    "        # marginal cost\n",
    "        linear_term = tiub.createVariable(\"ActivePowerCost\", NC_DOUBLE, (\"TimeHorizon\",))\n",
    "        linear_term[:] = row.marginal_cost * n.snapshot_weightings.objective.values\n",
    "\n",
    "        # # max capacity\n",
    "        # max_capacity = tiub.createVariable(\"MaxCapacity\", NC_DOUBLE)\n",
    "        # max_capacity[:] = row[1].p_nom_max \n",
    "\n",
    "        id_ren += 1"
   ]
  },
  {
   "cell_type": "markdown",
   "metadata": {},
   "source": [
    "### 2.5 Add a BatteryUnitBlock for each battery"
   ]
  },
  {
   "cell_type": "code",
   "execution_count": 99,
   "metadata": {},
   "outputs": [],
   "source": [
    "hydro_systems_i = n.storage_units_t.inflow.columns  # index of hydro systems (storage units with inflow)\n",
    "batteries_i = n.storage_units.index.difference(hydro_systems_i)  # index of batteries (storage units without inflow)\n",
    "\n",
    "hydro_systems = n.storage_units.loc[hydro_systems_i]\n",
    "batteries = n.storage_units.loc[batteries_i]\n",
    "\n",
    "id_batt = id_ren\n",
    "\n",
    "if not batteries.empty:\n",
    "    for (idx_name, row) in batteries.iterrows():\n",
    "\n",
    "        tiub = master.createGroup(f\"UnitBlock_{id_batt}\")\n",
    "        tiub.id = str(id_batt)\n",
    "        tiub.type = \"BatteryUnitBlock\"\n",
    "        \n",
    "\n",
    "        # max power\n",
    "        max_power = tiub.createVariable(\"MaxPower\", NC_DOUBLE)\n",
    "        max_power[:] = row.p_nom_opt * row.p_max_pu\n",
    "        \n",
    "        # min power\n",
    "        min_power = tiub.createVariable(\"MinPower\", NC_DOUBLE)\n",
    "        min_power[:] = row.p_nom_opt * row.p_min_pu\n",
    "\n",
    "        # max energy\n",
    "        max_storage = tiub.createVariable(\"MaxStorage\", NC_DOUBLE)\n",
    "        max_storage[:] = row.p_nom_opt * row.max_hours\n",
    "\n",
    "        # max energy\n",
    "        min_storage = tiub.createVariable(\"MinStorage\", NC_DOUBLE)\n",
    "        min_storage[:] = 0.0\n",
    "\n",
    "        # Initial storage\n",
    "        initial_storage = tiub.createVariable(\"InitialStorage\", NC_DOUBLE)\n",
    "        initial_storage[:] = row.state_of_charge_initial * row.p_nom_opt * row.max_hours\n",
    "\n",
    "        # Storing battery efficiency\n",
    "        storing_efficiency = tiub.createVariable(\"StoringBatteryRho\", NC_DOUBLE)\n",
    "        storing_efficiency[:] = row.efficiency_store\n",
    "\n",
    "        # Discharge battery efficiency\n",
    "        storing_efficiency = tiub.createVariable(\"ExtractingBatteryRho\", NC_DOUBLE)\n",
    "        storing_efficiency[:] = row.efficiency_dispatch\n",
    "\n",
    "        # # max capacity\n",
    "        # max_capacity = tiub.createVariable(\"MaxCapacity\", NC_DOUBLE)\n",
    "        # max_capacity[:] = row[1].p_nom_max \n",
    "\n",
    "        id_batt += 1"
   ]
  },
  {
   "cell_type": "markdown",
   "metadata": {},
   "source": [
    "### 2.6 Add a HydroUnitBlock for each hydro unit"
   ]
  },
  {
   "cell_type": "code",
   "execution_count": 100,
   "metadata": {},
   "outputs": [],
   "source": [
    "id_hydro = id_batt\n",
    "\n",
    "energy_factor = n.snapshot_weightings.stores.iloc[0]\n",
    "\n",
    "if not hydro_systems.empty:\n",
    "    for (idx_name, row) in hydro_systems.iterrows():\n",
    "\n",
    "        tiub = master.createGroup(f\"UnitBlock_{id_hydro}\")\n",
    "        tiub.id = str(id_hydro)\n",
    "        tiub.type = \"HydroUnitBlock\"\n",
    "\n",
    "        tiub.createDimension(\"NumberReservoirs\", 1)  # optional, the number of reservoirs\n",
    "        N_ARCS = 2\n",
    "        tiub.createDimension(\"NumberArcs\", N_ARCS)  # optional, the number of arcs connecting the reservoirs\n",
    "        # No NumberIntervals\n",
    "        \n",
    "        MAX_FLOW = 100*n.storage_units_t.inflow.loc[:, idx_name].max()\n",
    "        P_MAX = row.p_nom_opt * row.p_max_pu\n",
    "        P_MIN = row.p_nom_opt * row.p_min_pu\n",
    "\n",
    "        # StartArc\n",
    "        start_arc = tiub.createVariable(\"StartArc\", NC_UINT, (\"NumberArcs\",))\n",
    "        start_arc[:] = np.full((N_ARCS,), 0, dtype=NP_UINT)\n",
    "\n",
    "        # EndArc\n",
    "        end_arc = tiub.createVariable(\"EndArc\", NC_UINT, (\"NumberArcs\",))\n",
    "        end_arc[:] = np.full((N_ARCS,), 1, dtype=NP_UINT)\n",
    "\n",
    "        # MaxPower\n",
    "        max_power = tiub.createVariable(\"MaxPower\", NC_DOUBLE, (\"NumberArcs\",)) #, (\"NumberArcs\",)) #, (\"TimeHorizon\",)) #\"NumberArcs\"))\n",
    "        max_power[:] = np.array([P_MAX, 0.], dtype=NP_DOUBLE)\n",
    "\n",
    "        # MinPower\n",
    "        min_power = tiub.createVariable(\"MinPower\", NC_DOUBLE, (\"NumberArcs\",)) #, (\"NumberArcs\",)) #, (\"TimeHorizon\",)) #\"NumberArcs\"))\n",
    "        min_power[:] = np.array([0., P_MIN], dtype=NP_DOUBLE)\n",
    "\n",
    "        # MinFlow\n",
    "        min_flow = tiub.createVariable(\"MinFlow\", NC_DOUBLE, (\"NumberArcs\",)) #, (\"TimeHorizon\",))\n",
    "        min_flow[:] = np.array([0., -MAX_FLOW], dtype=NP_DOUBLE)\n",
    "\n",
    "        # MaxFlow\n",
    "        max_flow = tiub.createVariable(\"MaxFlow\", NC_DOUBLE, (\"NumberArcs\",)) #, (\"TimeHorizon\",))\n",
    "        max_flow[:] = np.array([P_MAX * 100., 0.], dtype=NP_DOUBLE)\n",
    "        \n",
    "        # MinVolumetric\n",
    "        min_volumetric = tiub.createVariable(\"MinVolumetric\", NC_DOUBLE) #, (\"TimeHorizon\",))\n",
    "        min_volumetric[:] = 0.0\n",
    "\n",
    "        # MaxVolumetric\n",
    "        max_volumetric = tiub.createVariable(\"MaxVolumetric\", NC_DOUBLE)\n",
    "        max_volumetric[:] = row.p_nom_opt * row.max_hours\n",
    "\n",
    "        # ActivePowerCost\n",
    "        active_power_cost = tiub.createVariable(\"ActivePowerCost\", NC_DOUBLE)\n",
    "        active_power_cost[:] = row.marginal_cost * n.snapshot_weightings.objective.iloc[0]\n",
    "\n",
    "        \n",
    "        # Inflows\n",
    "        inflows = tiub.createVariable(\"Inflows\", NC_DOUBLE, (\"NumberReservoirs\", \"TimeHorizon\")) #,\"NumberReservoirs\",))  #\"NumberReservoirs\", \n",
    "        inflows[:] = np.array([n.storage_units_t.inflow.loc[:, idx_name]])\n",
    "\n",
    "        # InitialVolumetric\n",
    "        initial_volumetric = tiub.createVariable(\"InitialVolumetric\", NC_DOUBLE) #, (\"NumberReservoirs\",))\n",
    "        initial_volumetric[:] = row.state_of_charge_initial * row.max_hours * row.p_nom_opt\n",
    "\n",
    "        # NumberPieces\n",
    "        pieces = np.full((N_ARCS,), 1, dtype=NP_UINT)\n",
    "        number_pieces = tiub.createVariable(\"NumberPieces\", NC_UINT, (\"NumberArcs\",))\n",
    "        number_pieces[:] = pieces\n",
    "\n",
    "        # TotalNumberPieces\n",
    "        tiub.createDimension(\"TotalNumberPieces\", pieces.sum())\n",
    "\n",
    "        # LinearTerm\n",
    "        linear_term = tiub.createVariable(\"LinearTerm\", NC_DOUBLE, (\"TotalNumberPieces\",))\n",
    "        # linear_term[:] = np.array([1/n.storage_units.loc[idx_name, \"efficiency_dispatch\"], 0., n.storage_units.loc[idx_name, \"efficiency_store\"]], dtype=NP_DOUBLE)\n",
    "        linear_term[:] = np.array([n.storage_units.loc[idx_name, \"efficiency_dispatch\"], 1/n.storage_units.loc[idx_name, \"efficiency_store\"]], dtype=NP_DOUBLE)\n",
    "\n",
    "        # ConstTerm\n",
    "        const_term = tiub.createVariable(\"ConstantTerm\", NC_DOUBLE, (\"TotalNumberPieces\",))\n",
    "        const_term[:] = np.full((N_ARCS,), 0.0, dtype=NP_DOUBLE)"
   ]
  },
  {
   "cell_type": "markdown",
   "metadata": {},
   "source": [
    "Finally close the netcdf problem file"
   ]
  },
  {
   "cell_type": "code",
   "execution_count": 101,
   "metadata": {},
   "outputs": [],
   "source": [
    "ds.close()"
   ]
  },
  {
   "cell_type": "markdown",
   "metadata": {},
   "source": [
    "## 3. Execute UCBlockSolver"
   ]
  },
  {
   "cell_type": "code",
   "execution_count": 102,
   "metadata": {},
   "outputs": [
    {
     "name": "stdout",
     "output_type": "stream",
     "text": [
      "Using a default Block configuration\n",
      "Set parameter LogToConsole to value 1\n",
      "Set parameter PoolGapAbs to value 0.0001\n",
      "Set parameter TimeLimit to value 3600\n",
      "Warning for adding constraints: zero or small (< 1e-13) coefficients, ignored\n",
      "Solver: GRBMILPSolver\n",
      "Gurobi Optimizer version 11.0.3 build v11.0.3rc0 (win64 - Windows 11+.0 (26100.2))\n",
      "\n",
      "CPU model: 12th Gen Intel(R) Core(TM) i9-12900HK, instruction set [SSE2|AVX|AVX2]\n",
      "Thread count: 14 physical cores, 20 logical processors, using up to 20 threads\n",
      "\n",
      "Optimize a model with 360 rows, 216 columns and 765 nonzeros\n",
      "Model fingerprint: 0x9bfef21b\n",
      "Variable types: 144 continuous, 72 integer (72 binary)\n",
      "Coefficient statistics:\n",
      "  Matrix range     [9e-01, 4e+01]\n",
      "  Objective range  [4e+01, 4e+01]\n",
      "  Bounds range     [1e+00, 3e+03]\n",
      "  RHS range        [1e+00, 6e+01]\n",
      "Found heuristic solution: objective 14110.841869\n",
      "Presolve removed 324 rows and 159 columns\n",
      "Presolve time: 0.00s\n",
      "Presolved: 36 rows, 57 columns, 108 nonzeros\n",
      "Found heuristic solution: objective 13583.208781\n",
      "Variable types: 57 continuous, 0 integer (0 binary)\n",
      "\n",
      "Root relaxation: objective 1.280774e+04, 36 iterations, 0.00 seconds (0.00 work units)\n",
      "\n",
      "    Nodes    |    Current Node    |     Objective Bounds      |     Work\n",
      " Expl Unexpl |  Obj  Depth IntInf | Incumbent    BestBd   Gap | It/Node Time\n",
      "\n",
      "*    0     0               0    12807.740619 12807.7406  0.00%     -    0s\n",
      "\n",
      "Explored 1 nodes (36 simplex iterations) in 0.01 seconds (0.00 work units)\n",
      "Thread count was 20 (of 20 available processors)\n",
      "\n",
      "Solution count 1: 12807.7 \n",
      "\n",
      "Optimal solution found (tolerance 1.00e-04)\n",
      "Best objective 1.280774061893e+04, best bound 1.280774061893e+04, gap 0.0000%\n",
      "Elapsed time: 1.00180000e-02 s\n",
      "Status = 10 (Success)\n",
      "Upper bound = 1.28077406e+04\n",
      "Lower bound = 1.28077406e+04\n",
      "\n",
      "----- ThermalUnitBlock 0 -----\n",
      "Function value = 1.28077406e+04\n",
      "Commitment     = [ 1 1 1 1 1 1 1 1 1 1 1 1 1 1 1 1 1 1 1 1 1 1 1 1 ]\n",
      "Start up       = [ 0 0 0 0 0 0 0 0 0 0 0 0 0 0 0 0 0 0 0 0 0 0 0 0 ]\n",
      "Shut down      = [ 0 0 0 0 0 0 0 0 0 0 0 0 0 0 0 0 0 0 0 0 0 0 0 0 ]\n",
      "Active power   = [      4.13638761e+00      1.86001863e+01      1.71296818e+01      1.71541968e+01      1.28695782e+01      0.00000000e+00      0.00000000e+00      9.25810657e+00      1.03042827e+01      1.27095046e+01      9.61450804e+00      1.67470808e+01      5.99357342e+00      1.15835366e+01      1.60349531e+00      7.52677223e+00      1.97544300e+01      3.77314349e+01      3.85897719e+01      3.46094910e+01      3.93124122e+01      1.32010774e+01      1.21814366e+01      1.41468544e+01 ]\n",
      "\n",
      "----- HydroUnitBlock 1 -----\n",
      "Function value = 0.00000000e+00\n",
      "Active power [0] = [      1.43810479e+01      0.00000000e+00      0.00000000e+00      0.00000000e+00      0.00000000e+00      1.25248061e+01      1.53284392e+01      1.85174355e+01      1.85174355e+01      1.85174355e+01      1.85174355e+01      9.14297919e+00      1.85174355e+01      0.00000000e+00      1.01930177e+01      1.85174355e+01      1.85174355e+01      1.85174355e+01      1.85174355e+01      1.39785654e+01      0.00000000e+00      1.85174355e+01      1.85174355e+01      6.78466940e+00 ]\n",
      "Active power [1] = [      0.00000000e+00      0.00000000e+00      0.00000000e+00      0.00000000e+00      0.00000000e+00      0.00000000e+00      0.00000000e+00      0.00000000e+00      0.00000000e+00      0.00000000e+00      0.00000000e+00      0.00000000e+00      0.00000000e+00      0.00000000e+00      0.00000000e+00      0.00000000e+00      0.00000000e+00      0.00000000e+00      0.00000000e+00      0.00000000e+00      0.00000000e+00      0.00000000e+00      0.00000000e+00      0.00000000e+00 ]\n",
      "Flow rate    [0] = [     1.59789421150679e+01     0.00000000000000e+00     0.00000000000000e+00     0.00000000000000e+00     0.00000000000000e+00     1.39164511813017e+01     1.70315991365617e+01     2.05749283435556e+01     2.05749283435556e+01     2.05749283435556e+01     2.05749283435556e+01     1.01588657633402e+01     2.05749283435556e+01     0.00000000000000e+00     1.13255752172594e+01     2.05749283435556e+01     2.05749283435556e+01     2.05749283435556e+01     2.05749283435556e+01     1.55317392789726e+01     0.00000000000000e+00     2.05749283435556e+01     2.05749283435556e+01     7.53852155223850e+00 ]\n",
      "Flow rate    [1] = [     0.00000000000000e+00     0.00000000000000e+00     0.00000000000000e+00     0.00000000000000e+00     0.00000000000000e+00     0.00000000000000e+00     0.00000000000000e+00     0.00000000000000e+00     0.00000000000000e+00     0.00000000000000e+00     0.00000000000000e+00     0.00000000000000e+00     0.00000000000000e+00     0.00000000000000e+00     0.00000000000000e+00     0.00000000000000e+00     0.00000000000000e+00     0.00000000000000e+00     0.00000000000000e+00     0.00000000000000e+00     0.00000000000000e+00     0.00000000000000e+00     0.00000000000000e+00     0.00000000000000e+00 ]\n",
      "Volumetric   [0] = [     5.81196079561360e+00     5.81196079561360e+00     5.81196079561360e+00     2.32643575082370e+01     3.36066521599828e+01     2.57124310375820e+01     3.09604688086660e+01     2.35110603517915e+01     1.45694144344532e+01     1.36677284531073e+01     0.00000000000000e+00     1.82321238836754e+01     0.00000000000000e+00     1.83147783740063e+01     3.38914465568459e+01     1.33165182132904e+01     0.00000000000000e+00     3.10384851469080e+00     6.37390943036171e+00     0.00000000000000e+00     2.93279912474088e+00     3.97770462165935e+00     7.53852155223850e+00     0.00000000000000e+00 ]\n",
      "\n",
      "\n"
     ]
    }
   ],
   "source": [
    "import subprocess\n",
    "import os\n",
    "\n",
    "PROJECT_PATH = \"../../smspp-project\"   # Path of the SMS++ project\n",
    "COMPILE_MODE = \"Release\"              # Compilation mode (Debug/Release)\n",
    "\n",
    "DATA_FOLDER = folder_builder  # Folder where all data inputs are contained (cwd will be moved here)\n",
    "BSC_NAME = \"uc_solverconfig.txt\"          # Name of the file describing the BlockSolverConfig\n",
    "UCFILE_NAME = \"pypsa2smspp.nc4\"      # Name of the UC-file to test\n",
    "\n",
    "PARENT_ABSPATH_UCS = os.path.abspath(PROJECT_PATH + \"/build/tools/ucblock_solver/\" + COMPILE_MODE)\n",
    "UCS_ABSPATH = os.path.abspath(PARENT_ABSPATH_UCS + \"/ucblock_solver.exe\")\n",
    "\n",
    "result = subprocess.run(\n",
    "    [UCS_ABSPATH, UCFILE_NAME, \"-S\", BSC_NAME],\n",
    "    stdout=subprocess.PIPE,\n",
    "    stderr=subprocess.STDOUT,\n",
    "    cwd=DATA_FOLDER,\n",
    ")\n",
    "result_ascii = result.stdout.decode('ascii')\n",
    "print(result_ascii)"
   ]
  },
  {
   "cell_type": "code",
   "execution_count": 103,
   "metadata": {},
   "outputs": [
    {
     "data": {
      "application/vnd.microsoft.datawrangler.viewer.v0+json": {
       "columns": [
        {
         "name": "(None, None)",
         "rawType": "object",
         "type": "unknown"
        },
        {
         "name": "Optimal Capacity",
         "rawType": "float64",
         "type": "float"
        },
        {
         "name": "Installed Capacity",
         "rawType": "float64",
         "type": "float"
        },
        {
         "name": "Supply",
         "rawType": "float64",
         "type": "float"
        },
        {
         "name": "Withdrawal",
         "rawType": "float64",
         "type": "float"
        },
        {
         "name": "Energy Balance",
         "rawType": "float64",
         "type": "float"
        },
        {
         "name": "Transmission",
         "rawType": "object",
         "type": "unknown"
        },
        {
         "name": "Capacity Factor",
         "rawType": "float64",
         "type": "float"
        },
        {
         "name": "Curtailment",
         "rawType": "float64",
         "type": "float"
        },
        {
         "name": "Capital Expenditure",
         "rawType": "float64",
         "type": "float"
        },
        {
         "name": "Operational Expenditure",
         "rawType": "float64",
         "type": "float"
        },
        {
         "name": "Revenue",
         "rawType": "float64",
         "type": "float"
        },
        {
         "name": "Market Value",
         "rawType": "float64",
         "type": "float"
        }
       ],
       "ref": "8a163941-00bd-4beb-a752-7f8536c41d7f",
       "rows": [
        [
         "('Generator', 'diesel')",
         "40.07205",
         "0.0",
         "147154.51875",
         "0.0",
         "147154.51875",
         "0.0",
         "0.4192064044639593",
         "203876.66495",
         "9449.79587",
         "14156.2647",
         "23606.06057",
         "0.16041708585191738"
        ],
        [
         "('Load', '-')",
         "0.0",
         "0.0",
         "0.0",
         "237535.837",
         "-237535.837",
         "0.0",
         null,
         "0.0",
         "0.0",
         "0.0",
         "-32773.37854",
         null
        ],
        [
         "('StorageUnit', '-')",
         "18.51744",
         "0.0",
         "90381.31825",
         "0.0",
         "90381.31825",
         "0.0",
         "0.5571774500146889",
         "71831.41681",
         "3847.09884",
         "0.0",
         "9167.31797",
         "0.10142960988611581"
        ]
       ],
       "shape": {
        "columns": 12,
        "rows": 3
       }
      },
      "text/html": [
       "<div>\n",
       "<style scoped>\n",
       "    .dataframe tbody tr th:only-of-type {\n",
       "        vertical-align: middle;\n",
       "    }\n",
       "\n",
       "    .dataframe tbody tr th {\n",
       "        vertical-align: top;\n",
       "    }\n",
       "\n",
       "    .dataframe thead th {\n",
       "        text-align: right;\n",
       "    }\n",
       "</style>\n",
       "<table border=\"1\" class=\"dataframe\">\n",
       "  <thead>\n",
       "    <tr style=\"text-align: right;\">\n",
       "      <th></th>\n",
       "      <th></th>\n",
       "      <th>Optimal Capacity</th>\n",
       "      <th>Installed Capacity</th>\n",
       "      <th>Supply</th>\n",
       "      <th>Withdrawal</th>\n",
       "      <th>Energy Balance</th>\n",
       "      <th>Transmission</th>\n",
       "      <th>Capacity Factor</th>\n",
       "      <th>Curtailment</th>\n",
       "      <th>Capital Expenditure</th>\n",
       "      <th>Operational Expenditure</th>\n",
       "      <th>Revenue</th>\n",
       "      <th>Market Value</th>\n",
       "    </tr>\n",
       "  </thead>\n",
       "  <tbody>\n",
       "    <tr>\n",
       "      <th>Generator</th>\n",
       "      <th>diesel</th>\n",
       "      <td>40.07205</td>\n",
       "      <td>0.0</td>\n",
       "      <td>147154.51875</td>\n",
       "      <td>0.000</td>\n",
       "      <td>147154.51875</td>\n",
       "      <td>0.0</td>\n",
       "      <td>0.419206</td>\n",
       "      <td>203876.66495</td>\n",
       "      <td>9449.79587</td>\n",
       "      <td>14156.2647</td>\n",
       "      <td>23606.06057</td>\n",
       "      <td>0.160417</td>\n",
       "    </tr>\n",
       "    <tr>\n",
       "      <th>Load</th>\n",
       "      <th>-</th>\n",
       "      <td>0.00000</td>\n",
       "      <td>0.0</td>\n",
       "      <td>0.00000</td>\n",
       "      <td>237535.837</td>\n",
       "      <td>-237535.83700</td>\n",
       "      <td>0.0</td>\n",
       "      <td>NaN</td>\n",
       "      <td>0.00000</td>\n",
       "      <td>0.00000</td>\n",
       "      <td>0.0000</td>\n",
       "      <td>-32773.37854</td>\n",
       "      <td>NaN</td>\n",
       "    </tr>\n",
       "    <tr>\n",
       "      <th>StorageUnit</th>\n",
       "      <th>-</th>\n",
       "      <td>18.51744</td>\n",
       "      <td>0.0</td>\n",
       "      <td>90381.31825</td>\n",
       "      <td>0.000</td>\n",
       "      <td>90381.31825</td>\n",
       "      <td>0.0</td>\n",
       "      <td>0.557177</td>\n",
       "      <td>71831.41681</td>\n",
       "      <td>3847.09884</td>\n",
       "      <td>0.0000</td>\n",
       "      <td>9167.31797</td>\n",
       "      <td>0.101430</td>\n",
       "    </tr>\n",
       "  </tbody>\n",
       "</table>\n",
       "</div>"
      ],
      "text/plain": [
       "                    Optimal Capacity  Installed Capacity        Supply  \\\n",
       "Generator   diesel          40.07205                 0.0  147154.51875   \n",
       "Load        -                0.00000                 0.0       0.00000   \n",
       "StorageUnit -               18.51744                 0.0   90381.31825   \n",
       "\n",
       "                    Withdrawal  Energy Balance Transmission  Capacity Factor  \\\n",
       "Generator   diesel       0.000    147154.51875          0.0         0.419206   \n",
       "Load        -       237535.837   -237535.83700          0.0              NaN   \n",
       "StorageUnit -            0.000     90381.31825          0.0         0.557177   \n",
       "\n",
       "                     Curtailment  Capital Expenditure  \\\n",
       "Generator   diesel  203876.66495           9449.79587   \n",
       "Load        -            0.00000              0.00000   \n",
       "StorageUnit -        71831.41681           3847.09884   \n",
       "\n",
       "                    Operational Expenditure      Revenue  Market Value  \n",
       "Generator   diesel               14156.2647  23606.06057      0.160417  \n",
       "Load        -                        0.0000 -32773.37854           NaN  \n",
       "StorageUnit -                        0.0000   9167.31797      0.101430  "
      ]
     },
     "execution_count": 103,
     "metadata": {},
     "output_type": "execute_result"
    }
   ],
   "source": [
    "n.statistics()"
   ]
  },
  {
   "cell_type": "code",
   "execution_count": 104,
   "metadata": {},
   "outputs": [
    {
     "data": {
      "application/vnd.microsoft.datawrangler.viewer.v0+json": {
       "columns": [
        {
         "name": "snapshot",
         "rawType": "int64",
         "type": "integer"
        },
        {
         "name": "hydro",
         "rawType": "float64",
         "type": "float"
        }
       ],
       "ref": "e9ec70f0-a22a-458a-93d3-dc6538f7a2a1",
       "rows": [
        [
         "0",
         "18.5174355092"
        ],
        [
         "1",
         "0.2739565801358093"
        ],
        [
         "2",
         "0.0"
        ],
        [
         "3",
         "15.433200461214101"
        ],
        [
         "4",
         "9.308065186567882"
        ],
        [
         "5",
         "5.693963633143568"
        ],
        [
         "6",
         "15.3284392229"
        ],
        [
         "7",
         "12.086924478139302"
        ],
        [
         "8",
         "10.195997603449976"
        ],
        [
         "9",
         "17.705918125977856"
        ],
        [
         "10",
         "6.490436481523518"
        ],
        [
         "11",
         "18.5174355092"
        ],
        [
         "12",
         "2.3824805940250053"
        ],
        [
         "13",
         "11.5835366405"
        ],
        [
         "14",
         "11.7965130101"
        ],
        [
         "15",
         "0.2739565801358093"
        ],
        [
         "16",
         "6.532569117239416"
        ],
        [
         "17",
         "18.5174355092"
        ],
        [
         "18",
         "18.5174355092"
        ],
        [
         "19",
         "8.516003443869243"
        ],
        [
         "20",
         "2.6395192122628606"
        ],
        [
         "21",
         "18.5174355092"
        ],
        [
         "22",
         "18.5174355092"
        ],
        [
         "23",
         "0.2739565801358093"
        ]
       ],
       "shape": {
        "columns": 1,
        "rows": 24
       }
      },
      "text/html": [
       "<div>\n",
       "<style scoped>\n",
       "    .dataframe tbody tr th:only-of-type {\n",
       "        vertical-align: middle;\n",
       "    }\n",
       "\n",
       "    .dataframe tbody tr th {\n",
       "        vertical-align: top;\n",
       "    }\n",
       "\n",
       "    .dataframe thead th {\n",
       "        text-align: right;\n",
       "    }\n",
       "</style>\n",
       "<table border=\"1\" class=\"dataframe\">\n",
       "  <thead>\n",
       "    <tr style=\"text-align: right;\">\n",
       "      <th>StorageUnit</th>\n",
       "      <th>hydro</th>\n",
       "    </tr>\n",
       "    <tr>\n",
       "      <th>snapshot</th>\n",
       "      <th></th>\n",
       "    </tr>\n",
       "  </thead>\n",
       "  <tbody>\n",
       "    <tr>\n",
       "      <th>0</th>\n",
       "      <td>18.517436</td>\n",
       "    </tr>\n",
       "    <tr>\n",
       "      <th>1</th>\n",
       "      <td>0.273957</td>\n",
       "    </tr>\n",
       "    <tr>\n",
       "      <th>2</th>\n",
       "      <td>0.000000</td>\n",
       "    </tr>\n",
       "    <tr>\n",
       "      <th>3</th>\n",
       "      <td>15.433200</td>\n",
       "    </tr>\n",
       "    <tr>\n",
       "      <th>4</th>\n",
       "      <td>9.308065</td>\n",
       "    </tr>\n",
       "    <tr>\n",
       "      <th>5</th>\n",
       "      <td>5.693964</td>\n",
       "    </tr>\n",
       "    <tr>\n",
       "      <th>6</th>\n",
       "      <td>15.328439</td>\n",
       "    </tr>\n",
       "    <tr>\n",
       "      <th>7</th>\n",
       "      <td>12.086924</td>\n",
       "    </tr>\n",
       "    <tr>\n",
       "      <th>8</th>\n",
       "      <td>10.195998</td>\n",
       "    </tr>\n",
       "    <tr>\n",
       "      <th>9</th>\n",
       "      <td>17.705918</td>\n",
       "    </tr>\n",
       "    <tr>\n",
       "      <th>10</th>\n",
       "      <td>6.490436</td>\n",
       "    </tr>\n",
       "    <tr>\n",
       "      <th>11</th>\n",
       "      <td>18.517436</td>\n",
       "    </tr>\n",
       "    <tr>\n",
       "      <th>12</th>\n",
       "      <td>2.382481</td>\n",
       "    </tr>\n",
       "    <tr>\n",
       "      <th>13</th>\n",
       "      <td>11.583537</td>\n",
       "    </tr>\n",
       "    <tr>\n",
       "      <th>14</th>\n",
       "      <td>11.796513</td>\n",
       "    </tr>\n",
       "    <tr>\n",
       "      <th>15</th>\n",
       "      <td>0.273957</td>\n",
       "    </tr>\n",
       "    <tr>\n",
       "      <th>16</th>\n",
       "      <td>6.532569</td>\n",
       "    </tr>\n",
       "    <tr>\n",
       "      <th>17</th>\n",
       "      <td>18.517436</td>\n",
       "    </tr>\n",
       "    <tr>\n",
       "      <th>18</th>\n",
       "      <td>18.517436</td>\n",
       "    </tr>\n",
       "    <tr>\n",
       "      <th>19</th>\n",
       "      <td>8.516003</td>\n",
       "    </tr>\n",
       "    <tr>\n",
       "      <th>20</th>\n",
       "      <td>2.639519</td>\n",
       "    </tr>\n",
       "    <tr>\n",
       "      <th>21</th>\n",
       "      <td>18.517436</td>\n",
       "    </tr>\n",
       "    <tr>\n",
       "      <th>22</th>\n",
       "      <td>18.517436</td>\n",
       "    </tr>\n",
       "    <tr>\n",
       "      <th>23</th>\n",
       "      <td>0.273957</td>\n",
       "    </tr>\n",
       "  </tbody>\n",
       "</table>\n",
       "</div>"
      ],
      "text/plain": [
       "StorageUnit      hydro\n",
       "snapshot              \n",
       "0            18.517436\n",
       "1             0.273957\n",
       "2             0.000000\n",
       "3            15.433200\n",
       "4             9.308065\n",
       "5             5.693964\n",
       "6            15.328439\n",
       "7            12.086924\n",
       "8            10.195998\n",
       "9            17.705918\n",
       "10            6.490436\n",
       "11           18.517436\n",
       "12            2.382481\n",
       "13           11.583537\n",
       "14           11.796513\n",
       "15            0.273957\n",
       "16            6.532569\n",
       "17           18.517436\n",
       "18           18.517436\n",
       "19            8.516003\n",
       "20            2.639519\n",
       "21           18.517436\n",
       "22           18.517436\n",
       "23            0.273957"
      ]
     },
     "execution_count": 104,
     "metadata": {},
     "output_type": "execute_result"
    }
   ],
   "source": [
    "n.storage_units_t.p"
   ]
  },
  {
   "cell_type": "markdown",
   "metadata": {},
   "source": [
    "## 4. Validate the objective function of SMS++ and compare it to SMS++\n",
    "\n",
    "We read the output of the ucblock_solver and compare it to the marginal costs obtained from PyPSA"
   ]
  },
  {
   "cell_type": "code",
   "execution_count": 105,
   "metadata": {},
   "outputs": [
    {
     "name": "stdout",
     "output_type": "stream",
     "text": [
      "SMS++ obj         : 12807.740600\n",
      "PyPSA dispatch obj: 14156.264703\n",
      "Error SMS++ - PyPSA dispatch [%]: -9.52599\n"
     ]
    }
   ],
   "source": [
    "res = re.search(\"Upper bound = (.*)\\n\", result_ascii)\n",
    "SMSpp_obj = float(res.group(1).replace(\"\\r\", \"\"))\n",
    "print(\"SMS++ obj         : %.6f\" % SMSpp_obj)\n",
    "print(\"PyPSA dispatch obj: %.6f\" % marg_cost.sum())\n",
    "print(\"Error SMS++ - PyPSA dispatch [%%]: %.5f\" % (100*(SMSpp_obj - marg_cost.sum())/marg_cost.sum()))"
   ]
  }
 ],
 "metadata": {
  "kernelspec": {
   "display_name": "SMSpp_PyPSA_interface",
   "language": "python",
   "name": "python3"
  },
  "language_info": {
   "codemirror_mode": {
    "name": "ipython",
    "version": 3
   },
   "file_extension": ".py",
   "mimetype": "text/x-python",
   "name": "python",
   "nbconvert_exporter": "python",
   "pygments_lexer": "ipython3",
   "version": "3.12.9"
  }
 },
 "nbformat": 4,
 "nbformat_minor": 2
}
