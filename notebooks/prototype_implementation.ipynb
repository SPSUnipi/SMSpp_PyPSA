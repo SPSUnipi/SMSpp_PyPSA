{
 "cells": [
  {
   "cell_type": "markdown",
   "metadata": {},
   "source": [
    "# Prototype for simplifying SMS++ to PyPSA conversion\n",
    "\n",
    "This notebook depicts the current status of the conversion between SMS++ and PyPSA using the following tools under development:\n",
    "- pySMSpp: it aims to provide an abstract python interface for SMS++ models\n",
    "- pypsa2smspp: it aims to provide a converter from PyPSA to SMS++ models exploiting pySMSpp\n",
    "\n",
    "In this notebook, the following steps are performed:\n",
    "1. Create a simple PyPSA model\n",
    "2. Convert the PyPSA model to SMS++ using pypsa2smspp\n",
    "3. Launch the optimization\n",
    "4. Verify the equivalence of objective function\n",
    "5. Show the inverse transformation from an SMS++ model to a PyPSA model and verify dispatch"
   ]
  },
  {
   "cell_type": "markdown",
   "metadata": {},
   "source": [
    "## 1. Creation of the PyPSA model (from UCBlock)\n",
    "\n",
    "We create a simple PyPSA model arbitrary number of buses, few generators, storages and loads.\n",
    "\n",
    "Main assumptions are:\n",
    "- The network is purely radial in the form bus1 -> bus2 -> bus3 -> ... busN\n",
    "- A load is added to each bus of the network\n",
    "- The following technologies are supported:\n",
    "  - fuel-fired diesel generator\n",
    "  - pv generator\n",
    "  - wind generator\n",
    "  - battery\n",
    "  - hydro unit"
   ]
  },
  {
   "cell_type": "code",
   "execution_count": 1,
   "metadata": {},
   "outputs": [],
   "source": [
    "n_snapshots = 1*24  # number of snapshots of the model\n",
    "\n",
    "buses_demand = [0, 1]  # list of buses where demand is located\n",
    "bus_PV = 0 # Bus where PV is located; if none, no PV is considered\n",
    "bus_wind = 0 # Bus where wind is located; if none, no wind is considered\n",
    "bus_storage = 0 # Bus where storage is located; if none, no storage is considered\n",
    "bus_hydro = None # Bus where hydro is located; if none, no hydro is considered\n",
    "bus_diesel = 0 # Bus where diesel is located; if none, no pv is considered\n"
   ]
  },
  {
   "cell_type": "markdown",
   "metadata": {},
   "source": [
    "#### Preliminary imports"
   ]
  },
  {
   "cell_type": "code",
   "execution_count": 2,
   "metadata": {},
   "outputs": [],
   "source": [
    "folder_builder = \"../data/SMSpp/UCBlockSolver\"\n",
    "path_smspp_pypsa = folder_builder + \"/pypsa2smspp.nc4\"\n",
    "\n",
    "renewable_carriers = [\"pv\", \"wind\"]"
   ]
  },
  {
   "cell_type": "code",
   "execution_count": 3,
   "metadata": {},
   "outputs": [],
   "source": [
    "import pypsa\n",
    "from helpers import build_microgrid_model\n",
    "import netCDF4 as nc\n",
    "import pandas as pd\n",
    "import numpy as np\n",
    "import re\n",
    "import pypsa2smspp\n",
    "import pysmspp\n",
    "\n",
    "NC_DOUBLE = \"f8\"\n",
    "NP_DOUBLE = np.float64\n",
    "NC_UINT = \"u4\"\n",
    "NP_UINT = np.uint32"
   ]
  },
  {
   "cell_type": "markdown",
   "metadata": {},
   "source": [
    "#### The following code creates the desired pypsa model."
   ]
  },
  {
   "cell_type": "code",
   "execution_count": 4,
   "metadata": {},
   "outputs": [
    {
     "name": "stderr",
     "output_type": "stream",
     "text": [
      "c:\\dev\\SMSpp\\SMSpp_PyPSA\\notebooks\\helpers.py:89: DeprecatedWarning: madd is deprecated as of 0.31 and will be removed in 1.0. Use `n.add` as a drop-in replacement instead.\n",
      "  n.madd(\n"
     ]
    }
   ],
   "source": [
    "n = build_microgrid_model(\n",
    "    n_snapshots = n_snapshots,\n",
    "    buses_demand = buses_demand,\n",
    "    bus_PV = bus_PV,\n",
    "    bus_wind = bus_wind,\n",
    "    bus_storage = bus_storage,\n",
    "    bus_diesel = bus_diesel,\n",
    "    bus_hydro=bus_hydro,\n",
    "    x = 10.389754,\n",
    "    y = 43.720810,\n",
    "    hydro_factor=0.1,\n",
    ")\n",
    "\n",
    "# n.storage_units.capital_cost *= 2\n",
    "# n.storage_units.p_min_pu = 0.\n",
    "# n.storage_units.p_nom_max = 10\n",
    "n.storage_units.max_hours = 1\n",
    "\n",
    "n.snapshot_weightings[\"stores\"] = 1.0\n",
    "\n",
    "# n.generators.p_nom = 100"
   ]
  },
  {
   "cell_type": "code",
   "execution_count": 5,
   "metadata": {},
   "outputs": [
    {
     "name": "stderr",
     "output_type": "stream",
     "text": [
      "WARNING:pypsa.consistency:The following generators have carriers which are not defined:\n",
      "Index(['pv', 'wind', 'diesel'], dtype='object', name='Generator')\n",
      "WARNING:pypsa.consistency:The following buses have carriers which are not defined:\n",
      "Index(['Bus 0', 'Bus 1'], dtype='object', name='Bus')\n",
      "WARNING:pypsa.consistency:The following lines have carriers which are not defined:\n",
      "Index(['Line 0--1'], dtype='object', name='Line')\n",
      "INFO:linopy.model: Solve problem using Highs solver\n",
      "INFO:linopy.io: Writing time: 0.23s\n",
      "INFO:linopy.constants: Optimization successful: \n",
      "Status: ok\n",
      "Termination condition: optimal\n",
      "Solution: 173 primals, 413 duals\n",
      "Objective: 5.32e+04\n",
      "Solver model: available\n",
      "Solver message: Optimal\n",
      "\n",
      "INFO:pypsa.optimization.optimize:The shadow-prices of the constraints Generator-ext-p-lower, Generator-ext-p-upper, Line-ext-s-lower, Line-ext-s-upper, StorageUnit-ext-p_dispatch-lower, StorageUnit-ext-p_dispatch-upper, StorageUnit-ext-p_store-lower, StorageUnit-ext-p_store-upper, StorageUnit-ext-state_of_charge-lower, StorageUnit-ext-state_of_charge-upper, StorageUnit-energy_balance were not assigned to the network.\n"
     ]
    },
    {
     "data": {
      "text/plain": [
       "('ok', 'optimal')"
      ]
     },
     "execution_count": 5,
     "metadata": {},
     "output_type": "execute_result"
    }
   ],
   "source": [
    "n_backup = n.copy()\n",
    "\n",
    "n.optimize(solver_name=\"highs\")"
   ]
  },
  {
   "cell_type": "markdown",
   "metadata": {},
   "source": [
    "## 2. Convert the PyPSA model to SMS++ using pypsa2smspp"
   ]
  },
  {
   "cell_type": "code",
   "execution_count": 6,
   "metadata": {},
   "outputs": [
    {
     "data": {
      "text/plain": [
       "SMSNetwork Object\n",
       "Block object\n",
       "Attributes (1): SMS++_file_type\n",
       "Dimensions (0): None\n",
       "Variables (0): None\n",
       "Blocks (1): Block_0"
      ]
     },
     "execution_count": 6,
     "metadata": {},
     "output_type": "execute_result"
    }
   ],
   "source": [
    "tran = pypsa2smspp.Transformation(n)\n",
    "tran.convert_to_ucblock()  # convert the network to be solved as UCBlock"
   ]
  },
  {
   "cell_type": "markdown",
   "metadata": {},
   "source": [
    "## 3. Execute the optimization"
   ]
  },
  {
   "cell_type": "code",
   "execution_count": 7,
   "metadata": {},
   "outputs": [
    {
     "data": {
      "text/plain": [
       "UCBlockSolver\n",
       "\t\n",
       "\texec_file=ucblock_solver\n",
       "\tstatus=10 (Success)\n",
       "\tconfigfile=C:\\Users\\Davide\\miniconda3\\envs\\SMSpp_PyPSA_interface_test\\Lib\\site-packages\\pysmspp\\data\\configs\\uc_solverconfig.txt\n",
       "\tfp_network=C:\\dev\\SMSpp\\SMSpp_PyPSA\\notebooks\\temp_network.nc\n",
       "\tfp_out=C:\\dev\\SMSpp\\SMSpp_PyPSA\\notebooks\\temp_output_file.txt"
      ]
     },
     "execution_count": 7,
     "metadata": {},
     "output_type": "execute_result"
    }
   ],
   "source": [
    "configfile = pysmspp.SMSConfig(template=\"uc_solverconfig\")  # load a default config file [highs solver]\n",
    "temporary_smspp_file = \"temp_network.nc\"  # path to temporary SMS++ file\n",
    "output_file = \"temp_output_file.txt\"  # path to the output file (optional)\n",
    "\n",
    "result = tran.optimize(configfile, temporary_smspp_file, output_file)\n",
    "result"
   ]
  },
  {
   "cell_type": "markdown",
   "metadata": {},
   "source": [
    "Objective value"
   ]
  },
  {
   "cell_type": "code",
   "execution_count": 8,
   "metadata": {},
   "outputs": [
    {
     "data": {
      "text/plain": [
       "9233.71743"
      ]
     },
     "execution_count": 8,
     "metadata": {},
     "output_type": "execute_result"
    }
   ],
   "source": [
    "result.objective_value"
   ]
  },
  {
   "cell_type": "markdown",
   "metadata": {},
   "source": [
    "## 4. Verify the equivalence of SMS++ and PyPSA results"
   ]
  },
  {
   "cell_type": "code",
   "execution_count": 9,
   "metadata": {},
   "outputs": [
    {
     "name": "stdout",
     "output_type": "stream",
     "text": [
      "SMS++ obj         : 9233.717430\n",
      "PyPSA dispatch obj: 9233.717430\n",
      "Error SMS++ - PyPSA dispatch [%]: 0.00000\n"
     ]
    }
   ],
   "source": [
    "pypsa_obj = n.statistics.opex().sum()\n",
    "smspp_obj = result.objective_value\n",
    "print(\"SMS++ obj         : %.6f\" % smspp_obj)\n",
    "print(\"PyPSA dispatch obj: %.6f\" % pypsa_obj)\n",
    "print(\"Error SMS++ - PyPSA dispatch [%%]: %.5f\" % (100*(smspp_obj - pypsa_obj)/pypsa_obj))"
   ]
  },
  {
   "cell_type": "markdown",
   "metadata": {},
   "source": [
    "## 5. Convert SMS++ results to PyPSA"
   ]
  },
  {
   "cell_type": "markdown",
   "metadata": {},
   "source": [
    "Convert the results of the SMS++ optimization back to a PyPSA object."
   ]
  },
  {
   "cell_type": "code",
   "execution_count": 10,
   "metadata": {},
   "outputs": [],
   "source": [
    "n_parsed = n_backup\n",
    "tran.parse_txt_to_unitblocks(output_file)\n",
    "tran.inverse_transformation(n_backup)"
   ]
  },
  {
   "cell_type": "markdown",
   "metadata": {},
   "source": [
    "Retrieve PyPSA statistics"
   ]
  },
  {
   "cell_type": "code",
   "execution_count": 11,
   "metadata": {},
   "outputs": [
    {
     "data": {
      "text/plain": [
       "carrier\n",
       "diesel     95984.58864\n",
       "wind      387143.48986\n",
       "Name: generators, dtype: float64"
      ]
     },
     "execution_count": 11,
     "metadata": {},
     "output_type": "execute_result"
    }
   ],
   "source": [
    "n_stat = n.statistics.energy_balance(comps=[\"Generator\"]).droplevel([0, 2])\n",
    "n_stat"
   ]
  },
  {
   "cell_type": "markdown",
   "metadata": {},
   "source": [
    "Retrieve SMS++ statistics"
   ]
  },
  {
   "cell_type": "code",
   "execution_count": 12,
   "metadata": {},
   "outputs": [
    {
     "data": {
      "text/plain": [
       "carrier\n",
       "diesel     95984.58865\n",
       "wind      387143.48978\n",
       "Name: generators, dtype: float64"
      ]
     },
     "execution_count": 12,
     "metadata": {},
     "output_type": "execute_result"
    }
   ],
   "source": [
    "n_parsed_stat = n_parsed.statistics.energy_balance(comps=[\"Generator\"]).droplevel([0, 2])\n",
    "n_parsed_stat"
   ]
  },
  {
   "cell_type": "code",
   "execution_count": 13,
   "metadata": {},
   "outputs": [
    {
     "data": {
      "text/plain": [
       "carrier\n",
       "diesel   -0.00001\n",
       "wind      0.00008\n",
       "Name: generators, dtype: float64"
      ]
     },
     "execution_count": 13,
     "metadata": {},
     "output_type": "execute_result"
    }
   ],
   "source": [
    "n_stat - n_parsed_stat"
   ]
  },
  {
   "cell_type": "code",
   "execution_count": 14,
   "metadata": {},
   "outputs": [
    {
     "data": {
      "text/plain": [
       "carrier\n",
       "diesel     95984.58865\n",
       "wind      387143.48978\n",
       "Name: generators, dtype: float64"
      ]
     },
     "execution_count": 14,
     "metadata": {},
     "output_type": "execute_result"
    }
   ],
   "source": [
    "n_parsed_stat"
   ]
  },
  {
   "cell_type": "code",
   "execution_count": 15,
   "metadata": {},
   "outputs": [
    {
     "data": {
      "text/plain": [
       "carrier\n",
       "diesel     95984.58864\n",
       "wind      387143.48986\n",
       "Name: generators, dtype: float64"
      ]
     },
     "execution_count": 15,
     "metadata": {},
     "output_type": "execute_result"
    }
   ],
   "source": [
    "n_stat"
   ]
  },
  {
   "cell_type": "code",
   "execution_count": 16,
   "metadata": {},
   "outputs": [
    {
     "data": {
      "application/vnd.microsoft.datawrangler.viewer.v0+json": {
       "columns": [
        {
         "name": "carrier",
         "rawType": "object",
         "type": "string"
        },
        {
         "name": "pypsa",
         "rawType": "float64",
         "type": "float"
        },
        {
         "name": "smspp",
         "rawType": "float64",
         "type": "float"
        },
        {
         "name": "mismatch",
         "rawType": "float64",
         "type": "float"
        }
       ],
       "conversionMethod": "pd.DataFrame",
       "ref": "99309784-62bb-424f-9c62-b99427cee9fa",
       "rows": [
        [
         "diesel",
         "95984.58864",
         "95984.58865",
         "-1.0000003385357559e-05"
        ],
        [
         "wind",
         "387143.48986",
         "387143.48978",
         "7.999996887519956e-05"
        ]
       ],
       "shape": {
        "columns": 3,
        "rows": 2
       }
      },
      "text/html": [
       "<div>\n",
       "<style scoped>\n",
       "    .dataframe tbody tr th:only-of-type {\n",
       "        vertical-align: middle;\n",
       "    }\n",
       "\n",
       "    .dataframe tbody tr th {\n",
       "        vertical-align: top;\n",
       "    }\n",
       "\n",
       "    .dataframe thead th {\n",
       "        text-align: right;\n",
       "    }\n",
       "</style>\n",
       "<table border=\"1\" class=\"dataframe\">\n",
       "  <thead>\n",
       "    <tr style=\"text-align: right;\">\n",
       "      <th></th>\n",
       "      <th>pypsa</th>\n",
       "      <th>smspp</th>\n",
       "      <th>mismatch</th>\n",
       "    </tr>\n",
       "    <tr>\n",
       "      <th>carrier</th>\n",
       "      <th></th>\n",
       "      <th></th>\n",
       "      <th></th>\n",
       "    </tr>\n",
       "  </thead>\n",
       "  <tbody>\n",
       "    <tr>\n",
       "      <th>diesel</th>\n",
       "      <td>95984.58864</td>\n",
       "      <td>95984.58865</td>\n",
       "      <td>-0.00001</td>\n",
       "    </tr>\n",
       "    <tr>\n",
       "      <th>wind</th>\n",
       "      <td>387143.48986</td>\n",
       "      <td>387143.48978</td>\n",
       "      <td>0.00008</td>\n",
       "    </tr>\n",
       "  </tbody>\n",
       "</table>\n",
       "</div>"
      ],
      "text/plain": [
       "                pypsa         smspp  mismatch\n",
       "carrier                                      \n",
       "diesel    95984.58864   95984.58865  -0.00001\n",
       "wind     387143.48986  387143.48978   0.00008"
      ]
     },
     "execution_count": 16,
     "metadata": {},
     "output_type": "execute_result"
    }
   ],
   "source": [
    "error_stat = n_stat - n_parsed_stat\n",
    "\n",
    "merged_stat = pd.concat([n_stat, n_parsed_stat, error_stat], axis=1)\n",
    "merged_stat.columns = [\"pypsa\", \"smspp\", \"mismatch\"]\n",
    "merged_stat"
   ]
  }
 ],
 "metadata": {
  "kernelspec": {
   "display_name": "SMSpp_PyPSA_interface_test",
   "language": "python",
   "name": "python3"
  },
  "language_info": {
   "codemirror_mode": {
    "name": "ipython",
    "version": 3
   },
   "file_extension": ".py",
   "mimetype": "text/x-python",
   "name": "python",
   "nbconvert_exporter": "python",
   "pygments_lexer": "ipython3",
   "version": "3.12.10"
  }
 },
 "nbformat": 4,
 "nbformat_minor": 2
}
