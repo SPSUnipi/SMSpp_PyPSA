{
 "cells": [
  {
   "cell_type": "markdown",
   "metadata": {},
   "source": [
    "# Prototype for simplifying SMS++ to PyPSA conversion\n",
    "\n",
    "This notebook depicts the current status of the conversion between SMS++ and PyPSA using the following tools under development:\n",
    "- pySMSpp: it aims to provide an abstract python interface for SMS++ models\n",
    "- pypsa2smspp: it aims to provide a converter from PyPSA to SMS++ models exploiting pySMSpp\n",
    "\n",
    "In this notebook, the following steps are performed:\n",
    "1. Create a simple PyPSA model\n",
    "2. Convert the PyPSA model to SMS++ using pypsa2smspp\n",
    "3. Launch the optimization\n",
    "4. Verify the equivalence"
   ]
  },
  {
   "cell_type": "markdown",
   "metadata": {},
   "source": [
    "## 1. Creation of the PyPSA model (from UCBlock)\n",
    "\n",
    "We create a simple PyPSA model arbitrary number of buses, few generators, storages and loads.\n",
    "\n",
    "Main assumptions are:\n",
    "- The network is purely radial in the form bus1 -> bus2 -> bus3 -> ... busN\n",
    "- A load is added to each bus of the network\n",
    "- The following technologies are supported:\n",
    "  - fuel-fired diesel generator\n",
    "  - pv generator\n",
    "  - wind generator\n",
    "  - battery\n",
    "  - hydro unit"
   ]
  },
  {
   "cell_type": "code",
   "execution_count": 1,
   "metadata": {},
   "outputs": [],
   "source": [
    "n_snapshots = 1*24  # number of snapshots of the model\n",
    "\n",
    "buses_demand = [0, 1]  # list of buses where demand is located\n",
    "bus_PV = 0 # Bus where PV is located; if none, no PV is considered\n",
    "bus_wind = 0 # Bus where wind is located; if none, no wind is considered\n",
    "bus_storage = 0 # Bus where storage is located; if none, no storage is considered\n",
    "bus_hydro = None # Bus where hydro is located; if none, no hydro is considered\n",
    "bus_diesel = 0 # Bus where diesel is located; if none, no pv is considered\n"
   ]
  },
  {
   "cell_type": "markdown",
   "metadata": {},
   "source": [
    "#### Preliminary imports"
   ]
  },
  {
   "cell_type": "code",
   "execution_count": 2,
   "metadata": {},
   "outputs": [],
   "source": [
    "folder_builder = \"../data/SMSpp/UCBlockSolver\"\n",
    "path_smspp_pypsa = folder_builder + \"/pypsa2smspp.nc4\"\n",
    "\n",
    "renewable_carriers = [\"pv\", \"wind\"]"
   ]
  },
  {
   "cell_type": "code",
   "execution_count": 3,
   "metadata": {},
   "outputs": [],
   "source": [
    "import pypsa\n",
    "from helpers import build_microgrid_model\n",
    "import netCDF4 as nc\n",
    "import pandas as pd\n",
    "import numpy as np\n",
    "import re\n",
    "import pypsa2smspp\n",
    "import pysmspp\n",
    "\n",
    "NC_DOUBLE = \"f8\"\n",
    "NP_DOUBLE = np.float64\n",
    "NC_UINT = \"u4\"\n",
    "NP_UINT = np.uint32"
   ]
  },
  {
   "cell_type": "markdown",
   "metadata": {},
   "source": [
    "#### The following code creates the desired pypsa model."
   ]
  },
  {
   "cell_type": "code",
   "execution_count": 4,
   "metadata": {},
   "outputs": [
    {
     "name": "stderr",
     "output_type": "stream",
     "text": [
      "c:\\dev\\SMSpp\\SMSpp_PyPSA\\notebooks\\helpers.py:89: DeprecatedWarning: madd is deprecated as of 0.31 and will be removed in 1.0. Use `n.add` as a drop-in replacement instead.\n",
      "  n.madd(\n"
     ]
    }
   ],
   "source": [
    "n = build_microgrid_model(\n",
    "    n_snapshots = n_snapshots,\n",
    "    buses_demand = buses_demand,\n",
    "    bus_PV = bus_PV,\n",
    "    bus_wind = bus_wind,\n",
    "    bus_storage = bus_storage,\n",
    "    bus_diesel = bus_diesel,\n",
    "    bus_hydro=bus_hydro,\n",
    "    x = 10.389754,\n",
    "    y = 43.720810,\n",
    "    hydro_factor=0.1,\n",
    ")\n",
    "\n",
    "# n.storage_units.capital_cost *= 2\n",
    "# n.storage_units.p_min_pu = 0.\n",
    "# n.storage_units.p_nom_max = 10\n",
    "n.storage_units.max_hours = 1\n",
    "\n",
    "n.snapshot_weightings[\"stores\"] = 1.0\n",
    "\n",
    "# n.generators.p_nom = 100"
   ]
  },
  {
   "cell_type": "code",
   "execution_count": 5,
   "metadata": {},
   "outputs": [
    {
     "name": "stderr",
     "output_type": "stream",
     "text": [
      "WARNING:pypsa.consistency:The following buses have carriers which are not defined:\n",
      "Index(['Bus 0', 'Bus 1'], dtype='object', name='Bus')\n",
      "WARNING:pypsa.consistency:The following generators have carriers which are not defined:\n",
      "Index(['pv', 'wind', 'diesel'], dtype='object', name='Generator')\n",
      "WARNING:pypsa.consistency:The following lines have carriers which are not defined:\n",
      "Index(['Line 0--1'], dtype='object', name='Line')\n",
      "INFO:linopy.model: Solve problem using Gurobi solver\n",
      "INFO:linopy.io: Writing time: 0.07s\n"
     ]
    },
    {
     "name": "stdout",
     "output_type": "stream",
     "text": [
      "Set parameter Username\n"
     ]
    },
    {
     "name": "stderr",
     "output_type": "stream",
     "text": [
      "INFO:gurobipy:Set parameter Username\n"
     ]
    },
    {
     "name": "stdout",
     "output_type": "stream",
     "text": [
      "Academic license - for non-commercial use only - expires 2025-07-18\n"
     ]
    },
    {
     "name": "stderr",
     "output_type": "stream",
     "text": [
      "INFO:gurobipy:Academic license - for non-commercial use only - expires 2025-07-18\n"
     ]
    },
    {
     "name": "stdout",
     "output_type": "stream",
     "text": [
      "Read LP format model from file C:\\Users\\Davide\\AppData\\Local\\Temp\\linopy-problem-8zwybmfn.lp\n"
     ]
    },
    {
     "name": "stderr",
     "output_type": "stream",
     "text": [
      "INFO:gurobipy:Read LP format model from file C:\\Users\\Davide\\AppData\\Local\\Temp\\linopy-problem-8zwybmfn.lp\n"
     ]
    },
    {
     "name": "stdout",
     "output_type": "stream",
     "text": [
      "Reading time = 0.00 seconds\n"
     ]
    },
    {
     "name": "stderr",
     "output_type": "stream",
     "text": [
      "INFO:gurobipy:Reading time = 0.00 seconds\n"
     ]
    },
    {
     "name": "stdout",
     "output_type": "stream",
     "text": [
      "obj: 413 rows, 173 columns, 784 nonzeros\n"
     ]
    },
    {
     "name": "stderr",
     "output_type": "stream",
     "text": [
      "INFO:gurobipy:obj: 413 rows, 173 columns, 784 nonzeros\n"
     ]
    },
    {
     "name": "stdout",
     "output_type": "stream",
     "text": [
      "Gurobi Optimizer version 11.0.3 build v11.0.3rc0 (win64 - Windows 11+.0 (26100.2))\n"
     ]
    },
    {
     "name": "stderr",
     "output_type": "stream",
     "text": [
      "INFO:gurobipy:Gurobi Optimizer version 11.0.3 build v11.0.3rc0 (win64 - Windows 11+.0 (26100.2))\n"
     ]
    },
    {
     "name": "stdout",
     "output_type": "stream",
     "text": [
      "\n"
     ]
    },
    {
     "name": "stderr",
     "output_type": "stream",
     "text": [
      "INFO:gurobipy:\n"
     ]
    },
    {
     "name": "stdout",
     "output_type": "stream",
     "text": [
      "CPU model: 12th Gen Intel(R) Core(TM) i9-12900HK, instruction set [SSE2|AVX|AVX2]\n"
     ]
    },
    {
     "name": "stderr",
     "output_type": "stream",
     "text": [
      "INFO:gurobipy:CPU model: 12th Gen Intel(R) Core(TM) i9-12900HK, instruction set [SSE2|AVX|AVX2]\n"
     ]
    },
    {
     "name": "stdout",
     "output_type": "stream",
     "text": [
      "Thread count: 14 physical cores, 20 logical processors, using up to 20 threads\n"
     ]
    },
    {
     "name": "stderr",
     "output_type": "stream",
     "text": [
      "INFO:gurobipy:Thread count: 14 physical cores, 20 logical processors, using up to 20 threads\n"
     ]
    },
    {
     "name": "stdout",
     "output_type": "stream",
     "text": [
      "\n"
     ]
    },
    {
     "name": "stderr",
     "output_type": "stream",
     "text": [
      "INFO:gurobipy:\n"
     ]
    },
    {
     "name": "stdout",
     "output_type": "stream",
     "text": [
      "Optimize a model with 413 rows, 173 columns and 784 nonzeros\n"
     ]
    },
    {
     "name": "stderr",
     "output_type": "stream",
     "text": [
      "INFO:gurobipy:Optimize a model with 413 rows, 173 columns and 784 nonzeros\n"
     ]
    },
    {
     "name": "stdout",
     "output_type": "stream",
     "text": [
      "Model fingerprint: 0x2dba44b9\n"
     ]
    },
    {
     "name": "stderr",
     "output_type": "stream",
     "text": [
      "INFO:gurobipy:Model fingerprint: 0x2dba44b9\n"
     ]
    },
    {
     "name": "stdout",
     "output_type": "stream",
     "text": [
      "Coefficient statistics:\n"
     ]
    },
    {
     "name": "stderr",
     "output_type": "stream",
     "text": [
      "INFO:gurobipy:Coefficient statistics:\n"
     ]
    },
    {
     "name": "stdout",
     "output_type": "stream",
     "text": [
      "  Matrix range     [4e-02, 1e+00]\n"
     ]
    },
    {
     "name": "stderr",
     "output_type": "stream",
     "text": [
      "INFO:gurobipy:  Matrix range     [4e-02, 1e+00]\n"
     ]
    },
    {
     "name": "stdout",
     "output_type": "stream",
     "text": [
      "  Objective range  [4e+01, 2e+02]\n"
     ]
    },
    {
     "name": "stderr",
     "output_type": "stream",
     "text": [
      "INFO:gurobipy:  Objective range  [4e+01, 2e+02]\n"
     ]
    },
    {
     "name": "stdout",
     "output_type": "stream",
     "text": [
      "  Bounds range     [0e+00, 0e+00]\n"
     ]
    },
    {
     "name": "stderr",
     "output_type": "stream",
     "text": [
      "INFO:gurobipy:  Bounds range     [0e+00, 0e+00]\n"
     ]
    },
    {
     "name": "stdout",
     "output_type": "stream",
     "text": [
      "  RHS range        [1e+01, 6e+01]\n"
     ]
    },
    {
     "name": "stderr",
     "output_type": "stream",
     "text": [
      "INFO:gurobipy:  RHS range        [1e+01, 6e+01]\n"
     ]
    },
    {
     "name": "stdout",
     "output_type": "stream",
     "text": [
      "Presolve removed 236 rows and 39 columns\n"
     ]
    },
    {
     "name": "stderr",
     "output_type": "stream",
     "text": [
      "INFO:gurobipy:Presolve removed 236 rows and 39 columns\n"
     ]
    },
    {
     "name": "stdout",
     "output_type": "stream",
     "text": [
      "Presolve time: 0.03s\n"
     ]
    },
    {
     "name": "stderr",
     "output_type": "stream",
     "text": [
      "INFO:gurobipy:Presolve time: 0.03s\n"
     ]
    },
    {
     "name": "stdout",
     "output_type": "stream",
     "text": [
      "Presolved: 177 rows, 134 columns, 459 nonzeros\n"
     ]
    },
    {
     "name": "stderr",
     "output_type": "stream",
     "text": [
      "INFO:gurobipy:Presolved: 177 rows, 134 columns, 459 nonzeros\n"
     ]
    },
    {
     "name": "stdout",
     "output_type": "stream",
     "text": [
      "\n"
     ]
    },
    {
     "name": "stderr",
     "output_type": "stream",
     "text": [
      "INFO:gurobipy:\n"
     ]
    },
    {
     "name": "stdout",
     "output_type": "stream",
     "text": [
      "Iteration    Objective       Primal Inf.    Dual Inf.      Time\n"
     ]
    },
    {
     "name": "stderr",
     "output_type": "stream",
     "text": [
      "INFO:gurobipy:Iteration    Objective       Primal Inf.    Dual Inf.      Time\n"
     ]
    },
    {
     "name": "stdout",
     "output_type": "stream",
     "text": [
      "       0    0.0000000e+00   1.323639e+03   0.000000e+00      0s\n"
     ]
    },
    {
     "name": "stderr",
     "output_type": "stream",
     "text": [
      "INFO:gurobipy:       0    0.0000000e+00   1.323639e+03   0.000000e+00      0s\n"
     ]
    },
    {
     "name": "stdout",
     "output_type": "stream",
     "text": [
      "     103    5.3223135e+04   0.000000e+00   0.000000e+00      0s\n"
     ]
    },
    {
     "name": "stderr",
     "output_type": "stream",
     "text": [
      "INFO:gurobipy:     103    5.3223135e+04   0.000000e+00   0.000000e+00      0s\n"
     ]
    },
    {
     "name": "stdout",
     "output_type": "stream",
     "text": [
      "\n"
     ]
    },
    {
     "name": "stderr",
     "output_type": "stream",
     "text": [
      "INFO:gurobipy:\n"
     ]
    },
    {
     "name": "stdout",
     "output_type": "stream",
     "text": [
      "Solved in 103 iterations and 0.05 seconds (0.00 work units)\n"
     ]
    },
    {
     "name": "stderr",
     "output_type": "stream",
     "text": [
      "INFO:gurobipy:Solved in 103 iterations and 0.05 seconds (0.00 work units)\n"
     ]
    },
    {
     "name": "stdout",
     "output_type": "stream",
     "text": [
      "Optimal objective  5.322313459e+04\n"
     ]
    },
    {
     "name": "stderr",
     "output_type": "stream",
     "text": [
      "INFO:gurobipy:Optimal objective  5.322313459e+04\n",
      "INFO:linopy.constants: Optimization successful: \n",
      "Status: ok\n",
      "Termination condition: optimal\n",
      "Solution: 173 primals, 413 duals\n",
      "Objective: 5.32e+04\n",
      "Solver model: available\n",
      "Solver message: 2\n",
      "\n",
      "INFO:pypsa.optimization.optimize:The shadow-prices of the constraints Generator-ext-p-lower, Generator-ext-p-upper, Line-ext-s-lower, Line-ext-s-upper, StorageUnit-ext-p_dispatch-lower, StorageUnit-ext-p_dispatch-upper, StorageUnit-ext-p_store-lower, StorageUnit-ext-p_store-upper, StorageUnit-ext-state_of_charge-lower, StorageUnit-ext-state_of_charge-upper, StorageUnit-energy_balance were not assigned to the network.\n"
     ]
    },
    {
     "data": {
      "text/plain": [
       "('ok', 'optimal')"
      ]
     },
     "execution_count": 5,
     "metadata": {},
     "output_type": "execute_result"
    }
   ],
   "source": [
    "n.optimize(solver_name=\"gurobi\")"
   ]
  },
  {
   "cell_type": "markdown",
   "metadata": {},
   "source": [
    "## 2. Convert the PyPSA model to SMS++ using pypsa2smspp"
   ]
  },
  {
   "cell_type": "code",
   "execution_count": 6,
   "metadata": {},
   "outputs": [
    {
     "data": {
      "text/plain": [
       "SMSNetwork Object\n",
       "Block object\n",
       "Attributes (1): SMS++_file_type\n",
       "Dimensions (0): None\n",
       "Variables (0): None\n",
       "Blocks (1): Block_0"
      ]
     },
     "execution_count": 6,
     "metadata": {},
     "output_type": "execute_result"
    }
   ],
   "source": [
    "tran = pypsa2smspp.Transformation(n)\n",
    "tran.convert_to_ucblock()  # convert the network to be solved as UCBlock"
   ]
  },
  {
   "cell_type": "markdown",
   "metadata": {},
   "source": [
    "## 3. Execute the optimization"
   ]
  },
  {
   "cell_type": "code",
   "execution_count": 7,
   "metadata": {},
   "outputs": [
    {
     "data": {
      "text/plain": [
       "UCBlockSolver\n",
       "\t\n",
       "\texec_file=ucblock_solver\n",
       "\tstatus=10 (Success)\n",
       "\tconfigfile=C:\\Users\\Davide\\miniconda3\\envs\\SMSpp_PyPSA_interface_test\\Lib\\site-packages\\pysmspp\\data\\configs\\uc_solverconfig.txt\n",
       "\tfp_network=C:\\dev\\SMSpp\\SMSpp_PyPSA\\notebooks\\temp.nc\n",
       "\tfp_out=None"
      ]
     },
     "execution_count": 7,
     "metadata": {},
     "output_type": "execute_result"
    }
   ],
   "source": [
    "configfile = pysmspp.SMSConfig(template=\"uc_solverconfig\")  # load a default config file [highs solver]\n",
    "result = tran.optimize(configfile)\n",
    "result"
   ]
  },
  {
   "cell_type": "markdown",
   "metadata": {},
   "source": [
    "Objective value"
   ]
  },
  {
   "cell_type": "code",
   "execution_count": 8,
   "metadata": {},
   "outputs": [
    {
     "data": {
      "text/plain": [
       "9233.71743"
      ]
     },
     "execution_count": 8,
     "metadata": {},
     "output_type": "execute_result"
    }
   ],
   "source": [
    "result.objective_value"
   ]
  },
  {
   "cell_type": "markdown",
   "metadata": {},
   "source": [
    "## 4. Verify the equivalence of SMS++ and PyPSA results"
   ]
  },
  {
   "cell_type": "code",
   "execution_count": 9,
   "metadata": {},
   "outputs": [
    {
     "name": "stdout",
     "output_type": "stream",
     "text": [
      "SMS++ obj         : 9233.717430\n",
      "PyPSA dispatch obj: 9233.717430\n",
      "Error SMS++ - PyPSA dispatch [%]: 0.00000\n"
     ]
    }
   ],
   "source": [
    "pypsa_obj = n.statistics.opex().sum()\n",
    "smspp_obj = result.objective_value\n",
    "print(\"SMS++ obj         : %.6f\" % smspp_obj)\n",
    "print(\"PyPSA dispatch obj: %.6f\" % pypsa_obj)\n",
    "print(\"Error SMS++ - PyPSA dispatch [%%]: %.5f\" % (100*(smspp_obj - pypsa_obj)/pypsa_obj))"
   ]
  }
 ],
 "metadata": {
  "kernelspec": {
   "display_name": "SMSpp_PyPSA_interface_test",
   "language": "python",
   "name": "python3"
  },
  "language_info": {
   "codemirror_mode": {
    "name": "ipython",
    "version": 3
   },
   "file_extension": ".py",
   "mimetype": "text/x-python",
   "name": "python",
   "nbconvert_exporter": "python",
   "pygments_lexer": "ipython3",
   "version": "3.12.10"
  }
 },
 "nbformat": 4,
 "nbformat_minor": 2
}
