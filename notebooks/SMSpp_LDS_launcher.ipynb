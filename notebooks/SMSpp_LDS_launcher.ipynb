{
 "cells": [
  {
   "cell_type": "markdown",
   "metadata": {},
   "source": [
    "# Launch an SMSpp optimization - LagrangianDualSolver\n",
    "\n",
    "This notebook aims at highlighting a sample execution and printing of the results of a test optimization for a given case.\n",
    "\n",
    "In particular, we rely on the executable of the LagrangianDualSolver_UC that reads the description of a `UCBlock` in nc4 data format,\n",
    "executes its Lagrangian Dual and its continuous relaxation comparing the results.\n",
    "\n",
    "The usage of the file is:\n",
    "\n",
    "`./LDS_UC_test UC-file \\[BSC-file\\]`\n",
    "\n",
    "where BSC-file describes a BlockSolverConfig \\[BSPar.txt\\]"
   ]
  },
  {
   "cell_type": "code",
   "execution_count": null,
   "metadata": {},
   "outputs": [],
   "source": [
    "PROJECT_PATH = \"../../smspp-project\"   # Path of the SMSpp project\n",
    "COMPILE_MODE = \"Release\"              # Compilation mode (Debug/Release)\n",
    "\n",
    "DATA_FOLDER = \"../data/SMSpp/LDS_UC\"  # Folder where all data inputs are contained (cwd will be moved here)\n",
    "BSC_NAME = \"BSPar.txt\"          # Name of the file describing the BlockSolverConfig\n",
    "UCFILE_NAME = \"EC_CO_Test_TUB.nc4\"      # Name of the UC-file to test"
   ]
  },
  {
   "cell_type": "markdown",
   "metadata": {},
   "source": [
    "#### Python imports to prepare the execution of the file"
   ]
  },
  {
   "cell_type": "code",
   "execution_count": null,
   "metadata": {},
   "outputs": [],
   "source": [
    "import subprocess\n",
    "import os"
   ]
  },
  {
   "cell_type": "markdown",
   "metadata": {},
   "source": [
    "Compute path of the Lagrangian Dual Solver (LDS) tester"
   ]
  },
  {
   "cell_type": "code",
   "execution_count": null,
   "metadata": {},
   "outputs": [],
   "source": [
    "PARENT_ABSPATH_LDS = os.path.abspath(PROJECT_PATH + \"/build/tests/LagrangianDualSolver_UC/\" + COMPILE_MODE)\n",
    "LDS_ABSPATH = os.path.abspath(PARENT_ABSPATH_LDS + \"/LDS_UC_test.exe\")"
   ]
  },
  {
   "cell_type": "markdown",
   "metadata": {},
   "source": [
    "#### Execute the file"
   ]
  },
  {
   "cell_type": "markdown",
   "metadata": {},
   "source": [
    "Prepare the execution call in the form:\n",
    "\n",
    "`./LDS_UC_test UC-file \\[BSC-file\\]`"
   ]
  },
  {
   "cell_type": "code",
   "execution_count": null,
   "metadata": {},
   "outputs": [],
   "source": [
    "LDS_ABSPATH"
   ]
  },
  {
   "cell_type": "code",
   "execution_count": null,
   "metadata": {},
   "outputs": [],
   "source": [
    "result = subprocess.run([LDS_ABSPATH, UCFILE_NAME, BSC_NAME], stdout=subprocess.PIPE, cwd=DATA_FOLDER)\n",
    "print(result.stdout.decode('ascii'))"
   ]
  }
 ],
 "metadata": {
  "kernelspec": {
   "display_name": "python_exercise",
   "language": "python",
   "name": "python3"
  },
  "language_info": {
   "codemirror_mode": {
    "name": "ipython",
    "version": 3
   },
   "file_extension": ".py",
   "mimetype": "text/x-python",
   "name": "python",
   "nbconvert_exporter": "python",
   "pygments_lexer": "ipython3",
   "version": "3.13.3"
  }
 },
 "nbformat": 4,
 "nbformat_minor": 2
}
