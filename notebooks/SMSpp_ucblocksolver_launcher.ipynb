{
 "cells": [
  {
   "cell_type": "markdown",
   "metadata": {},
   "source": [
    "# Launch an SMSpp optimization - UCblocksolver\n",
    "\n",
    "This notebook aims at highlighting a sample execution and printing of the results of a test optimization for a given case.\n",
    "\n",
    "In particular, we rely on the executable of the UCBlockSolver that reads the description of a `UCBlock` in nc4 data format and solves it.\n",
    "\n",
    "The usage of the file is:\n",
    "\n",
    "`./ucblock_solver UC-file \\[BSC-file\\]`\n",
    "\n",
    "where BSC-file describes a BlockSolverConfig \\[BSPar.txt\\]"
   ]
  },
  {
   "cell_type": "code",
   "execution_count": null,
   "metadata": {},
   "outputs": [],
   "source": [
    "PROJECT_PATH = \"../../smspp-project\"   # Path of the SMSpp project\n",
    "COMPILE_MODE = \"Release\"              # Compilation mode (Debug/Release)\n",
    "\n",
    "DATA_FOLDER = \"../data/SMSpp/UCBlockSolver\"  # Folder where all data inputs are contained (cwd will be moved here)\n",
    "BSC_NAME = \"uc_solverconfig.txt\"          # Name of the file describing the BlockSolverConfig\n",
    "UCFILE_NAME = \"thermalunit_block.nc4\"      # Name of the UC-file to test"
   ]
  },
  {
   "cell_type": "markdown",
   "metadata": {},
   "source": [
    "#### Python imports to prepare the execution of the file"
   ]
  },
  {
   "cell_type": "code",
   "execution_count": null,
   "metadata": {},
   "outputs": [],
   "source": [
    "import subprocess\n",
    "import os"
   ]
  },
  {
   "cell_type": "markdown",
   "metadata": {},
   "source": [
    "Compute path of the UCBlock Solver (UCS)"
   ]
  },
  {
   "cell_type": "code",
   "execution_count": null,
   "metadata": {},
   "outputs": [],
   "source": [
    "PARENT_ABSPATH_UCS = os.path.abspath(PROJECT_PATH + \"/build/tools/ucblock_solver/\" + COMPILE_MODE)\n",
    "UCS_ABSPATH = os.path.abspath(PARENT_ABSPATH_UCS + \"/ucblock_solver.exe\")"
   ]
  },
  {
   "cell_type": "markdown",
   "metadata": {},
   "source": [
    "#### Execute the file"
   ]
  },
  {
   "cell_type": "markdown",
   "metadata": {},
   "source": [
    "Prepare the execution call in the form:\n",
    "\n",
    "`./ucblock_solver UC-file \\[BSC-file\\]`"
   ]
  },
  {
   "cell_type": "code",
   "execution_count": null,
   "metadata": {},
   "outputs": [],
   "source": [
    "result = subprocess.run(\n",
    "    [UCS_ABSPATH, UCFILE_NAME, \"-S\", BSC_NAME],\n",
    "    stdout=subprocess.PIPE,\n",
    "    stderr=subprocess.STDOUT,\n",
    "    cwd=DATA_FOLDER,\n",
    ")\n",
    "print(result.stdout.decode('ascii'))"
   ]
  },
  {
   "cell_type": "code",
   "execution_count": null,
   "metadata": {},
   "outputs": [],
   "source": [
    "# with open(\"result.txt\", \"wb\") as f:\n",
    "#     f.write(result.stdout)"
   ]
  }
 ],
 "metadata": {
  "kernelspec": {
   "display_name": "python_exercise",
   "language": "python",
   "name": "python3"
  },
  "language_info": {
   "codemirror_mode": {
    "name": "ipython",
    "version": 3
   },
   "file_extension": ".py",
   "mimetype": "text/x-python",
   "name": "python",
   "nbconvert_exporter": "python",
   "pygments_lexer": "ipython3",
   "version": "3.13.3"
  }
 },
 "nbformat": 4,
 "nbformat_minor": 2
}
