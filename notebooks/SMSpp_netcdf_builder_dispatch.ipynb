{
 "cells": [
  {
   "cell_type": "markdown",
   "metadata": {},
   "source": [
    "# Notebook to build a netcdf file for SMSpp starting by a pypsa model"
   ]
  },
  {
   "cell_type": "code",
   "execution_count": null,
   "metadata": {},
   "outputs": [],
   "source": [
    "folder_builder = \"../data/SMSpp/UCBlockSolver\"\n",
    "path_smspp_pypsa = folder_builder + \"/pypsa2smspp.nc4\"\n",
    "\n",
    "renewable_carriers = [\"pv\", \"wind\"]"
   ]
  },
  {
   "cell_type": "code",
   "execution_count": null,
   "metadata": {},
   "outputs": [],
   "source": [
    "import pypsa\n",
    "from helpers import build_microgrid_model\n",
    "import netCDF4 as nc\n",
    "import pandas as pd\n",
    "import numpy as np\n",
    "import re\n",
    "\n",
    "NC_DOUBLE = \"f8\"\n",
    "NP_DOUBLE = np.float64\n",
    "NC_UINT = \"u4\"\n",
    "NP_UINT = np.uint32"
   ]
  },
  {
   "cell_type": "code",
   "execution_count": null,
   "metadata": {},
   "outputs": [],
   "source": [
    "n_snapshots = 1*24\n",
    "\n",
    "buses_demand = [0]\n",
    "bus_PV = None #0 #None\n",
    "bus_wind = None #0\n",
    "bus_storage = None\n",
    "bus_hydro = None\n",
    "bus_diesel = 0\n",
    "\n",
    "n = build_microgrid_model(\n",
    "    n_snapshots = n_snapshots,\n",
    "    buses_demand = buses_demand,\n",
    "    bus_PV = bus_PV,\n",
    "    bus_wind = bus_wind,\n",
    "    bus_storage = bus_storage,\n",
    "    bus_diesel = bus_diesel,\n",
    "    bus_hydro=bus_hydro,\n",
    "    x = 10.389754,\n",
    "    y = 43.720810,\n",
    "    hydro_factor=0.5,\n",
    ")\n",
    "\n",
    "# n.storage_units.capital_cost /= 2\n",
    "# n.storage_units.p_min_pu = 0.\n",
    "# n.storage_units.p_nom_max = 10\n",
    "# n.storage_units.max_hours = 0.5\n",
    "\n",
    "n.snapshot_weightings[\"stores\"] = 1.0\n",
    "\n",
    "# n.generators.p_nom = 100"
   ]
  },
  {
   "cell_type": "code",
   "execution_count": null,
   "metadata": {},
   "outputs": [],
   "source": [
    "n.snapshot_weightings"
   ]
  },
  {
   "cell_type": "code",
   "execution_count": null,
   "metadata": {},
   "outputs": [],
   "source": [
    "n.optimize(solver_name=\"gurobi\")"
   ]
  },
  {
   "cell_type": "markdown",
   "metadata": {},
   "source": [
    "Get objective function without constant term"
   ]
  },
  {
   "cell_type": "code",
   "execution_count": null,
   "metadata": {},
   "outputs": [],
   "source": [
    "n.generators_t.p.diesel.sum() * n.generators.marginal_cost * n.snapshot_weightings.objective.iloc[0]"
   ]
  },
  {
   "cell_type": "code",
   "execution_count": null,
   "metadata": {},
   "outputs": [],
   "source": [
    "n.storage_units"
   ]
  },
  {
   "cell_type": "code",
   "execution_count": null,
   "metadata": {},
   "outputs": [],
   "source": [
    "def get_bus_idx(n, bus_series, dtype=\"uint32\"):\n",
    "    \"\"\"\n",
    "    Returns the numeric index of the bus in the network n for each element of the bus_series.\n",
    "    \"\"\"\n",
    "    return bus_series.map(n.buses.index.get_loc).astype(dtype)"
   ]
  },
  {
   "cell_type": "markdown",
   "metadata": {},
   "source": [
    "## Prepare data for SMSpp UC blocks creation"
   ]
  },
  {
   "cell_type": "code",
   "execution_count": null,
   "metadata": {},
   "outputs": [],
   "source": [
    "n.generators_t.p.mul(n.snapshot_weightings.objective).sum().mul(n.generators.marginal_cost).sum()"
   ]
  },
  {
   "cell_type": "code",
   "execution_count": null,
   "metadata": {},
   "outputs": [],
   "source": [
    "marg_cost = pd.concat(\n",
    "    [\n",
    "        n.generators_t.p.mul(n.snapshot_weightings.objective, axis=0).sum().mul(n.generators.marginal_cost),\n",
    "        n.storage_units_t.p.mul(n.snapshot_weightings.objective, axis=0).sum().mul(n.storage_units.marginal_cost),\n",
    "        n.links_t.p0.mul(n.snapshot_weightings.objective, axis=0).sum().mul(n.links.marginal_cost),\n",
    "        n.stores_t.p.mul(n.snapshot_weightings.objective, axis=0).sum().mul(n.stores.marginal_cost),\n",
    "    ],\n",
    ")\n",
    "marg_cost"
   ]
  },
  {
   "cell_type": "code",
   "execution_count": null,
   "metadata": {},
   "outputs": [],
   "source": [
    "cap_cost = pd.concat(\n",
    "    [\n",
    "        n.generators.eval(\"p_nom_opt * capital_cost\"),\n",
    "        n.storage_units.eval(\"p_nom_opt * capital_cost\"),\n",
    "        n.links.eval(\"p_nom_opt * capital_cost\"),\n",
    "        n.lines.eval(\"s_nom_opt * capital_cost\"),\n",
    "        n.stores.eval(\"e_nom_opt * capital_cost\"),\n",
    "    ]\n",
    ")\n",
    "cap_cost"
   ]
  },
  {
   "cell_type": "code",
   "execution_count": null,
   "metadata": {},
   "outputs": [],
   "source": [
    "if hasattr(n, 'objective_constant'):\n",
    "    print(n.objective + n.objective_constant)\n",
    "else:\n",
    "    print(n.objective)"
   ]
  },
  {
   "cell_type": "code",
   "execution_count": null,
   "metadata": {},
   "outputs": [],
   "source": [
    "n.objective"
   ]
  },
  {
   "cell_type": "code",
   "execution_count": null,
   "metadata": {},
   "outputs": [],
   "source": [
    "cap_cost.sum() + marg_cost.sum()"
   ]
  },
  {
   "cell_type": "code",
   "execution_count": null,
   "metadata": {},
   "outputs": [],
   "source": [
    "marg_cost.sum()"
   ]
  },
  {
   "cell_type": "code",
   "execution_count": null,
   "metadata": {},
   "outputs": [],
   "source": [
    "# ds.close()"
   ]
  },
  {
   "cell_type": "markdown",
   "metadata": {},
   "source": [
    "## Create UCBlocks for SMSpp"
   ]
  },
  {
   "cell_type": "code",
   "execution_count": null,
   "metadata": {},
   "outputs": [],
   "source": [
    "ds = nc.Dataset(path_smspp_pypsa, \"w\")\n",
    "\n",
    "\n",
    "ds.setncattr(\"SMS++_file_type\", 1)  # Set file type to 1 for problem file\n",
    "\n",
    "# Create UCBlock\n",
    "\n",
    "master = ds.createGroup(\"Block_0\")  # Create the first main block\n",
    "\n",
    "# master.id = \"0\"  # mandatory attribute for all blocks\n",
    "master.type = \"UCBlock\"  # mandatory attribute for all blocks"
   ]
  },
  {
   "cell_type": "markdown",
   "metadata": {},
   "source": [
    "## Create Network Data"
   ]
  },
  {
   "cell_type": "code",
   "execution_count": null,
   "metadata": {},
   "outputs": [],
   "source": [
    "ndg = master.createGroup(\"NetworkData\")\n",
    "ndg.createDimension(\"NumberNodes\", 1)"
   ]
  },
  {
   "cell_type": "markdown",
   "metadata": {},
   "source": [
    "## Fill UCBlock"
   ]
  },
  {
   "cell_type": "code",
   "execution_count": null,
   "metadata": {},
   "outputs": [],
   "source": [
    "### Create dimensions\n",
    "\n",
    "n_timesteps = len(n.snapshots)\n",
    "master.createDimension(\"TimeHorizon\", n_timesteps)  # Time horizon\n",
    "\n",
    "n_units = len(n.generators) + len(n.storage_units)  # excluding links for now\n",
    "# TODO: links are not supported yet\n",
    "master.createDimension(\"NumberUnits\", n_units)  # Number of nodes\n",
    "master.createDimension(\"NumberElectricalGenerators\", n_units)  # Number of elec. units\n",
    "# some unitblocks, do have multiple units inside [e.g. cascading hydro or CCGT], not considered now\n",
    "\n",
    "# # number of thermal nodes\n",
    "thermal_generators = n.generators[~n.generators.index.isin(renewable_carriers)]\n",
    "n_thermal = len(thermal_generators)\n",
    "\n",
    "# n_nodes = len(n.buses)\n",
    "# master.createDimension(\"NumberNodes\", n_nodes)  # Number of nodes\n",
    "\n",
    "if len(n.lines) > 0:   \n",
    "    master.createDimension(\"NumberLines\", len(n.lines))  # Number of lines\n",
    "\n",
    "# TODO: no NetworkBlock considered: to check if it is necessary to add it\n",
    "\n",
    "\n",
    "### Create variables\n",
    "\n",
    "# demand by node\n",
    "loads_t = n.loads_t.p_set\n",
    "active_demand = master.createVariable(\"ActivePowerDemand\", NC_DOUBLE, (\"TimeHorizon\",)) #(\"NumberNodes\", \"TimeHorizon\"))\n",
    "active_demand[:] = loads_t.values.transpose()  # indexing between python and SMSpp is different: transpose\n",
    "\n",
    "# Lines\n",
    "\n",
    "if len(n.lines) > 0:\n",
    "\n",
    "    # generators' node\n",
    "    all_generators = [bus_PV, bus_wind, bus_storage, bus_hydro, bus_diesel]\n",
    "    all_generators = [x for x in all_generators if x is not None]\n",
    "    generator_node = master.createVariable(\"GeneratorNode\", NC_UINT, (\"NumberElectricalGenerators\",))\n",
    "    generator_node[:] = np.array(all_generators, dtype=NP_UINT)\n",
    "\n",
    "    # start lines\n",
    "    start_line = master.createVariable(\"StartLine\", NC_UINT, (\"NumberLines\",))\n",
    "    start_line[:] = get_bus_idx(n, n.lines.bus0).values\n",
    "    # end lines\n",
    "    end_line = master.createVariable(\"EndLine\", NC_UINT, (\"NumberLines\",))\n",
    "    end_line[:] = get_bus_idx(n, n.lines.bus1).values\n",
    "    # Min power flow\n",
    "    min_power_flow = master.createVariable(\"MinPowerFlow\", NC_DOUBLE, (\"NumberLines\",))\n",
    "    min_power_flow[:] = - n.lines.s_nom.values\n",
    "    # Max power flow\n",
    "    max_power_flow = master.createVariable(\"MaxPowerFlow\", NC_DOUBLE, (\"NumberLines\",))\n",
    "    max_power_flow[:] = n.lines.s_nom.values\n",
    "    # Susceptance\n",
    "    susceptance = master.createVariable(\"Susceptance\", NC_DOUBLE, (\"NumberLines\",))\n",
    "    susceptance[:] = 1 / n.lines.x.values\n"
   ]
  },
  {
   "cell_type": "markdown",
   "metadata": {},
   "source": [
    "## Create a ThermalUnitBlock"
   ]
  },
  {
   "cell_type": "code",
   "execution_count": null,
   "metadata": {},
   "outputs": [],
   "source": [
    "id_thermal = 0\n",
    "\n",
    "min_power_pypsa = thermal_generators.eval(\"p_nom_opt * p_min_pu\")\n",
    "max_power_pypsa = thermal_generators.eval(\"p_nom_opt * p_max_pu\")\n",
    "linear_term_pypsa = thermal_generators.marginal_cost\n",
    "\n",
    "for (idx_name, row) in thermal_generators.iterrows():\n",
    "\n",
    "    tub = master.createGroup(f\"UnitBlock_{id_thermal}\")\n",
    "    tub.id = str(id_thermal)\n",
    "    tub.type = \"ThermalUnitBlock\"\n",
    "\n",
    "    # Create variables\n",
    "\n",
    "\n",
    "    # MinPower\n",
    "    min_power = tub.createVariable(\"MinPower\", NC_DOUBLE) #, (\"TimeHorizon\",))\n",
    "    min_power[:] = min_power_pypsa.loc[idx_name]\n",
    "\n",
    "    # MaxPower\n",
    "    max_power = tub.createVariable(\"MaxPower\", NC_DOUBLE) #, (\"TimeHorizon\",))\n",
    "    max_power[:] = max_power_pypsa.loc[idx_name]\n",
    "\n",
    "    # StartUpCost\n",
    "    start_up_cost = tub.createVariable(\"StartUpCost\", NC_DOUBLE)\n",
    "    start_up_cost[:] = 0.0\n",
    "\n",
    "    # LinearTerm\n",
    "    linear_term = tub.createVariable(\"LinearTerm\", NC_DOUBLE, (\"TimeHorizon\",))\n",
    "    linear_term[:] = linear_term_pypsa.loc[idx_name] * n.snapshot_weightings.objective.values\n",
    "\n",
    "    # ConstantTerm\n",
    "    constant_term = tub.createVariable(\"ConstantTerm\", NC_DOUBLE)\n",
    "    constant_term[:] = 0.0\n",
    "\n",
    "    # MinUpTime\n",
    "    min_up_time = tub.createVariable(\"MinUpTime\", NC_DOUBLE)\n",
    "    min_up_time[:] = 0.0\n",
    "\n",
    "    # MinDownTime\n",
    "    min_down_time = tub.createVariable(\"MinDownTime\", NC_DOUBLE)\n",
    "    min_down_time[:] = 0.0\n",
    "\n",
    "    # InitialPower\n",
    "    initial_power = tub.createVariable(\"InitialPower\", NC_DOUBLE)\n",
    "    initial_power[:] = n.loads_t.p_set.iloc[0, id_thermal]\n",
    "\n",
    "    # InitUpDownTime\n",
    "    init_up_down_time = tub.createVariable(\"InitUpDownTime\", NC_DOUBLE)\n",
    "    init_up_down_time[:] = 1.0\n",
    "\n",
    "    # InertiaCommitment\n",
    "    inertia_commitment = tub.createVariable(\"InertiaCommitment\", NC_DOUBLE)\n",
    "    inertia_commitment[:] = 1.0\n",
    "\n",
    "    id_thermal += 1"
   ]
  },
  {
   "cell_type": "markdown",
   "metadata": {},
   "source": [
    "#### Add renewable sources"
   ]
  },
  {
   "cell_type": "code",
   "execution_count": null,
   "metadata": {},
   "outputs": [],
   "source": [
    "renewable_generators = n.generators[n.generators.index.isin(renewable_carriers)]\n",
    "\n",
    "id_ren = id_thermal\n",
    "\n",
    "if not renewable_generators.empty:\n",
    "    for (idx_name, row) in renewable_generators.iterrows():\n",
    "\n",
    "        tiub = master.createGroup(f\"UnitBlock_{id_ren}\")\n",
    "        tiub.id = str(id_ren)\n",
    "        tiub.type = \"IntermittentUnitBlock\"\n",
    "\n",
    "        n_max_power = n.generators_t.p_max_pu.loc[:, idx_name] * row.p_nom_opt\n",
    "        \n",
    "\n",
    "        # max power\n",
    "        max_power = tiub.createVariable(\"MaxPower\", NC_DOUBLE, (\"TimeHorizon\",))\n",
    "        max_power[:] = n_max_power\n",
    "\n",
    "        # # max capacity\n",
    "        # max_capacity = tiub.createVariable(\"MaxCapacity\", NC_DOUBLE)\n",
    "        # max_capacity[:] = row[1].p_nom_max \n",
    "\n",
    "        id_ren += 1"
   ]
  },
  {
   "cell_type": "markdown",
   "metadata": {},
   "source": [
    "## Add battery"
   ]
  },
  {
   "cell_type": "code",
   "execution_count": null,
   "metadata": {},
   "outputs": [],
   "source": [
    "hydro_systems_i = n.storage_units_t.inflow.columns  # index of hydro systems (storage units with inflow)\n",
    "batteries_i = n.storage_units.index.difference(hydro_systems_i)  # index of batteries (storage units without inflow)\n",
    "\n",
    "hydro_systems = n.storage_units.loc[hydro_systems_i]\n",
    "batteries = n.storage_units.loc[batteries_i]\n",
    "\n",
    "id_batt = id_ren\n",
    "\n",
    "if not batteries.empty:\n",
    "    for (idx_name, row) in batteries.iterrows():\n",
    "\n",
    "        tiub = master.createGroup(f\"UnitBlock_{id_batt}\")\n",
    "        tiub.id = str(id_batt)\n",
    "        tiub.type = \"BatteryUnitBlock\"\n",
    "        \n",
    "\n",
    "        # max power\n",
    "        max_power = tiub.createVariable(\"MaxPower\", NC_DOUBLE)\n",
    "        max_power[:] = row.p_nom_opt * row.p_max_pu\n",
    "        \n",
    "        # min power\n",
    "        min_power = tiub.createVariable(\"MinPower\", NC_DOUBLE)\n",
    "        min_power[:] = row.p_nom_opt * row.p_min_pu\n",
    "\n",
    "        # max energy\n",
    "        max_storage = tiub.createVariable(\"MaxStorage\", NC_DOUBLE)\n",
    "        max_storage[:] = row.p_nom_opt * row.max_hours\n",
    "\n",
    "        # max energy\n",
    "        min_storage = tiub.createVariable(\"MinStorage\", NC_DOUBLE)\n",
    "        min_storage[:] = 0.0\n",
    "\n",
    "        # Initial storage\n",
    "        initial_storage = tiub.createVariable(\"InitialStorage\", NC_DOUBLE)\n",
    "        initial_storage[:] = row.state_of_charge_initial * row.p_nom_opt * row.max_hours\n",
    "\n",
    "        # Storing battery efficiency\n",
    "        storing_efficiency = tiub.createVariable(\"StoringBatteryRho\", NC_DOUBLE)\n",
    "        storing_efficiency[:] = row.efficiency_store\n",
    "\n",
    "        # Discharge battery efficiency\n",
    "        storing_efficiency = tiub.createVariable(\"ExtractingBatteryRho\", NC_DOUBLE)\n",
    "        storing_efficiency[:] = row.efficiency_dispatch\n",
    "\n",
    "        # # max capacity\n",
    "        # max_capacity = tiub.createVariable(\"MaxCapacity\", NC_DOUBLE)\n",
    "        # max_capacity[:] = row[1].p_nom_max \n",
    "\n",
    "        id_batt += 1"
   ]
  },
  {
   "cell_type": "markdown",
   "metadata": {},
   "source": [
    "## Add hydro block"
   ]
  },
  {
   "cell_type": "code",
   "execution_count": null,
   "metadata": {},
   "outputs": [],
   "source": [
    "id_hydro = id_batt\n",
    "\n",
    "if not hydro_systems.empty:\n",
    "    for (idx_name, row) in hydro_systems.iterrows():\n",
    "\n",
    "        tiub = master.createGroup(f\"UnitBlock_{id_hydro}\")\n",
    "        tiub.id = str(id_hydro)\n",
    "        tiub.type = \"HydroUnitBlock\"\n",
    "\n",
    "        tiub.createDimension(\"NumberReservoirs\", 1)  # optional, the number of reservoirs\n",
    "        N_ARCS = 3\n",
    "        tiub.createDimension(\"NumberArcs\", N_ARCS)  # optional, the number of arcs connecting the reservoirs\n",
    "        # No NumberIntervals\n",
    "        \n",
    "        MAX_FLOW = 100*n.storage_units_t.inflow.loc[:, idx_name].max()\n",
    "        P_MAX = row.p_nom_opt * row.p_max_pu\n",
    "        P_MIN = row.p_nom_opt * row.p_min_pu\n",
    "\n",
    "        # StartArc\n",
    "        start_arc = tiub.createVariable(\"StartArc\", NC_UINT, (\"NumberArcs\",))\n",
    "        start_arc[:] = np.full((N_ARCS,), 0, dtype=NP_UINT)\n",
    "\n",
    "        # EndArc\n",
    "        end_arc = tiub.createVariable(\"EndArc\", NC_UINT, (\"NumberArcs\",))\n",
    "        end_arc[:] = np.full((N_ARCS,), 1, dtype=NP_UINT)\n",
    "\n",
    "        # MaxPower\n",
    "        max_power = tiub.createVariable(\"MaxPower\", NC_DOUBLE, (\"NumberArcs\",)) #, (\"NumberArcs\",)) #, (\"TimeHorizon\",)) #\"NumberArcs\"))\n",
    "        max_power[:] = np.array([P_MAX, 0., 0.], dtype=NP_DOUBLE)\n",
    "\n",
    "        # MinPower\n",
    "        min_power = tiub.createVariable(\"MinPower\", NC_DOUBLE, (\"NumberArcs\",)) #, (\"NumberArcs\",)) #, (\"TimeHorizon\",)) #\"NumberArcs\"))\n",
    "        min_power[:] = np.array([0., 0., P_MIN], dtype=NP_DOUBLE)\n",
    "\n",
    "        # MinFlow\n",
    "        min_flow = tiub.createVariable(\"MinFlow\", NC_DOUBLE, (\"NumberArcs\",)) #, (\"TimeHorizon\",))\n",
    "        min_flow[:] = np.array([0., 0., -MAX_FLOW], dtype=NP_DOUBLE)\n",
    "\n",
    "        # MaxFlow\n",
    "        max_flow = tiub.createVariable(\"MaxFlow\", NC_DOUBLE, (\"NumberArcs\",)) #, (\"TimeHorizon\",))\n",
    "        max_flow[:] = np.array([P_MAX * 100., MAX_FLOW, 0.], dtype=NP_DOUBLE)\n",
    "        \n",
    "        # MinVolumetric\n",
    "        min_volumetric = tiub.createVariable(\"MinVolumetric\", NC_DOUBLE) #, (\"TimeHorizon\",))\n",
    "        min_volumetric[:] = 0.0\n",
    "\n",
    "        # MaxVolumetric\n",
    "        max_volumetric = tiub.createVariable(\"MaxVolumetric\", NC_DOUBLE)\n",
    "        max_volumetric[:] = row.p_nom_opt * row.max_hours\n",
    "\n",
    "        \n",
    "        # Inflows\n",
    "        inflows = tiub.createVariable(\"Inflows\", NC_DOUBLE, (\"NumberReservoirs\", \"TimeHorizon\")) #,\"NumberReservoirs\",))  #\"NumberReservoirs\", \n",
    "        inflows[:] = np.array([n.storage_units_t.inflow.loc[:, idx_name]])\n",
    "\n",
    "        # InitialVolumetric\n",
    "        initial_volumetric = tiub.createVariable(\"InitialVolumetric\", NC_DOUBLE) #, (\"NumberReservoirs\",))\n",
    "        initial_volumetric[:] = row.state_of_charge_initial * row.max_hours * row.p_nom_opt\n",
    "\n",
    "        # NumberPieces\n",
    "        pieces = np.full((N_ARCS,), 1, dtype=NP_UINT)\n",
    "        number_pieces = tiub.createVariable(\"NumberPieces\", NC_UINT, (\"NumberArcs\",))\n",
    "        number_pieces[:] = pieces\n",
    "\n",
    "        # TotalNumberPieces\n",
    "        tiub.createDimension(\"TotalNumberPieces\", pieces.sum())\n",
    "\n",
    "        # LinearTerm\n",
    "        linear_term = tiub.createVariable(\"LinearTerm\", NC_DOUBLE, (\"TotalNumberPieces\",))\n",
    "        # linear_term[:] = np.array([1/n.storage_units.loc[idx_name, \"efficiency_dispatch\"], 0., n.storage_units.loc[idx_name, \"efficiency_store\"]], dtype=NP_DOUBLE)\n",
    "        linear_term[:] = np.array([1/n.storage_units.loc[idx_name, \"efficiency_dispatch\"], 0., n.storage_units.loc[idx_name, \"efficiency_store\"]], dtype=NP_DOUBLE)\n",
    "\n",
    "        # ConstTerm\n",
    "        const_term = tiub.createVariable(\"ConstantTerm\", NC_DOUBLE, (\"TotalNumberPieces\",))\n",
    "        const_term[:] = np.full((N_ARCS,), 0.0, dtype=NP_DOUBLE)"
   ]
  },
  {
   "cell_type": "code",
   "execution_count": null,
   "metadata": {},
   "outputs": [],
   "source": [
    "# id_hydro = id_batt\n",
    "\n",
    "# if not hydro_systems.empty:\n",
    "#     for (idx_name, row) in hydro_systems.iterrows():\n",
    "\n",
    "#         tiub = master.createGroup(f\"UnitBlock_{id_hydro}\")\n",
    "#         tiub.id = str(id_hydro)\n",
    "#         tiub.type = \"HydroUnitBlock\"\n",
    "\n",
    "#         # tiub.createDimension(\"NumberReservoirs\", 1)  # optional, the number of reservoirs\n",
    "#         # tiub.createDimension(\"NumberArcs\", 1)  # optional, the number of arcs connecting the reservoirs\n",
    "#         # First arc is for power flow, the second one is loss of water\n",
    "#         tiub.createDimension(\"TotalNumberPieces\", 1)  # optional, the number of arcs connecting the reservoirs\n",
    "\n",
    "#         # # StartArc\n",
    "#         # start_arc = tiub.createVariable(\"StartArc\", NC_UINT)\n",
    "#         # start_arc[:] = 0\n",
    "\n",
    "#         # # EndArc\n",
    "#         # end_arc = tiub.createVariable(\"EndArc\", NC_UINT)\n",
    "#         # end_arc[:] = np.array([1, 2], dtype=NP_UINT)\n",
    "\n",
    "#         # MaxPower\n",
    "#         max_power = tiub.createVariable(\"MaxPower\", NC_DOUBLE) #, (\"NumberArcs\",)) #, (\"TimeHorizon\",)) #\"NumberArcs\"))\n",
    "#         max_power[:] = row.p_nom_opt * row.p_max_pu\n",
    "\n",
    "#         # MinFlow\n",
    "#         min_flow = tiub.createVariable(\"MinFlow\", NC_DOUBLE) #, (\"TimeHorizon\",))\n",
    "#         min_flow[:] = 0.0\n",
    "\n",
    "#         # MaxFlow\n",
    "#         max_flow = tiub.createVariable(\"MaxFlow\", NC_DOUBLE) #, (\"TimeHorizon\",))\n",
    "#         max_flow[:] = row.p_nom_opt * row.p_max_pu\n",
    "        \n",
    "#         # MinVolumetric\n",
    "#         min_volumetric = tiub.createVariable(\"MinVolumetric\", NC_DOUBLE) #, (\"TimeHorizon\",))\n",
    "#         min_volumetric[:] = 0.0\n",
    "\n",
    "#         # MaxVolumetric\n",
    "#         max_volumetric = tiub.createVariable(\"MaxVolumetric\", NC_DOUBLE)\n",
    "#         max_volumetric[:] = row.p_nom_opt * row.max_hours\n",
    "\n",
    "#         # Inflows\n",
    "#         inflows = tiub.createVariable(\"Inflows\", NC_DOUBLE, (\"TimeHorizon\")) #,\"NumberReservoirs\",))  #\"NumberReservoirs\", \n",
    "#         inflows[:] = n.storage_units_t.inflow.loc[:, idx_name]\n",
    "\n",
    "#         # InitialVolumetric\n",
    "#         initial_volumetric = tiub.createVariable(\"InitialVolumetric\", NC_DOUBLE) #, (\"NumberReservoirs\",))\n",
    "#         initial_volumetric[:] = row.state_of_charge_initial * row.max_hours * row.p_nom_opt\n",
    "\n",
    "#         # # FinalVolumetric\n",
    "#         # finall_volume_reservoir = tiub.createVariable(\"FinalVolumetric\", NC_DOUBLE) #, (\"NumberReservoirs\",))\n",
    "#         # finall_volume_reservoir[:] = row.state_of_charge_initial * row.max_hours * row.p_nom_opt\n",
    "\n",
    "#         # LinearTerm\n",
    "#         linear_term = tiub.createVariable(\"LinearTerm\", NC_DOUBLE)\n",
    "#         linear_term[:] = 1/n.storage_units.loc[idx_name, \"efficiency_dispatch\"]\n",
    "\n",
    "#         # ConstTerm\n",
    "#         const_term = tiub.createVariable(\"ConstTerm\", NC_DOUBLE)\n",
    "#         const_term[:] = 0.0"
   ]
  },
  {
   "cell_type": "code",
   "execution_count": null,
   "metadata": {},
   "outputs": [],
   "source": [
    "ds.close()"
   ]
  },
  {
   "cell_type": "markdown",
   "metadata": {},
   "source": [
    "## Execute UCBlockSolver"
   ]
  },
  {
   "cell_type": "code",
   "execution_count": null,
   "metadata": {},
   "outputs": [],
   "source": [
    "n.model.to_file(\"pypsa.lp\")"
   ]
  },
  {
   "cell_type": "code",
   "execution_count": null,
   "metadata": {},
   "outputs": [],
   "source": [
    "import subprocess\n",
    "import os\n",
    "\n",
    "PROJECT_PATH = \"../../smspp-project\"   # Path of the SMSpp project\n",
    "COMPILE_MODE = \"Release\"              # Compilation mode (Debug/Release)\n",
    "\n",
    "DATA_FOLDER = folder_builder  # Folder where all data inputs are contained (cwd will be moved here)\n",
    "BSC_NAME = \"uc_solverconfig.txt\"          # Name of the file describing the BlockSolverConfig\n",
    "UCFILE_NAME = \"pypsa2smspp.nc4\"      # Name of the UC-file to test\n",
    "\n",
    "PARENT_ABSPATH_UCS = os.path.abspath(PROJECT_PATH + \"/build/tools/ucblock_solver/\" + COMPILE_MODE)\n",
    "UCS_ABSPATH = os.path.abspath(PARENT_ABSPATH_UCS + \"/ucblock_solver.exe\")\n",
    "\n",
    "result = subprocess.run(\n",
    "    [UCS_ABSPATH, UCFILE_NAME, \"-S\", BSC_NAME],\n",
    "    stdout=subprocess.PIPE,\n",
    "    stderr=subprocess.STDOUT,\n",
    "    cwd=DATA_FOLDER,\n",
    ")\n",
    "result_ascii = result.stdout.decode('ascii')\n",
    "print(result_ascii)"
   ]
  },
  {
   "cell_type": "code",
   "execution_count": null,
   "metadata": {},
   "outputs": [],
   "source": [
    "res = re.search(\"Upper bound = (.*)\\r\\n\", result_ascii)\n",
    "smspp_obj = float(res.group(1))\n",
    "print(\"SMS++ obj         : %.6f\" % smspp_obj)\n",
    "print(\"PyPSA dispatch obj: %.6f\" % marg_cost.sum())\n",
    "print(\"Error SMS++ - PyPSA dispatch [%%]: %.5f\" % (100*(smspp_obj - marg_cost.sum())/marg_cost.sum()))"
   ]
  },
  {
   "cell_type": "code",
   "execution_count": null,
   "metadata": {},
   "outputs": [],
   "source": [
    "marg_cost"
   ]
  },
  {
   "cell_type": "code",
   "execution_count": null,
   "metadata": {},
   "outputs": [],
   "source": [
    "marg_cost.sum()"
   ]
  },
  {
   "cell_type": "code",
   "execution_count": null,
   "metadata": {},
   "outputs": [],
   "source": [
    "a = sum([      1.51767897e+01,      1.74297319e+01,      1.54375597e+01,      1.62193759e+01,      1.30294407e+01 ])\n",
    "a"
   ]
  },
  {
   "cell_type": "code",
   "execution_count": null,
   "metadata": {},
   "outputs": [],
   "source": [
    "b = sum([     0.00000000000000e+00,     0.00000000000000e+00,     7.34239968739590e+00,     1.62212288564177e+01,     0.00000000000000e+00 ])\n",
    "b"
   ]
  },
  {
   "cell_type": "code",
   "execution_count": null,
   "metadata": {},
   "outputs": [],
   "source": [
    "a+b"
   ]
  },
  {
   "cell_type": "code",
   "execution_count": null,
   "metadata": {},
   "outputs": [],
   "source": [
    "n.storage_units_t.p.sum()"
   ]
  },
  {
   "cell_type": "code",
   "execution_count": null,
   "metadata": {},
   "outputs": [],
   "source": [
    "marg_cost"
   ]
  },
  {
   "cell_type": "code",
   "execution_count": null,
   "metadata": {},
   "outputs": [],
   "source": [
    "n.storage_units.max_hours * n.storage_units.p_nom_opt"
   ]
  },
  {
   "cell_type": "code",
   "execution_count": null,
   "metadata": {},
   "outputs": [],
   "source": [
    "n.storage_units_t.inflow"
   ]
  },
  {
   "cell_type": "code",
   "execution_count": null,
   "metadata": {},
   "outputs": [],
   "source": [
    "marg_cost"
   ]
  }
 ],
 "metadata": {
  "kernelspec": {
   "display_name": "pypsa-earth-eo21",
   "language": "python",
   "name": "python3"
  },
  "language_info": {
   "codemirror_mode": {
    "name": "ipython",
    "version": 3
   },
   "file_extension": ".py",
   "mimetype": "text/x-python",
   "name": "python",
   "nbconvert_exporter": "python",
   "pygments_lexer": "ipython3",
   "version": "3.10.14"
  }
 },
 "nbformat": 4,
 "nbformat_minor": 2
}
