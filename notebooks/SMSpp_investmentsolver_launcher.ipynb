{
 "cells": [
  {
   "cell_type": "markdown",
   "metadata": {},
   "source": [
    "# Launch an SMSpp optimization - Investment Block Test\n",
    "\n",
    "This notebook aims at highlighting a sample execution and printing of the results of a test optimization for a given case.\n",
    "\n",
    "In particular, we rely on the executable of the Investment Solver that reads the description of an `InvestmentBlock` in nc4 data format,\n",
    "executes its solution.\n",
    "\n",
    "To see the option list, run the command::\n",
    "\n",
    "`./investmentsolver --help`"
   ]
  },
  {
   "cell_type": "code",
   "execution_count": 1,
   "metadata": {},
   "outputs": [],
   "source": [
    "PROJECT_PATH = \"../../smspp-project\"   # Path of the SMSpp project\n",
    "COMPILE_MODE = \"Release\"              # Compilation mode (Debug/Release)\n",
    "\n",
    "DATA_FOLDER = \"../data/SMSpp/investmentblock_test/instance-1\"  # Folder where all data inputs are contained (cwd will be moved here)\n",
    "CONFIG_FOLDER = \"../config/\"    # Folder where all configuration files are contained, with reference to DATA_FOLDER\n",
    "BSC_NAME = \"BSPar.txt\"          # Name of the file describing the BlockSolverConfig\n",
    "UCFILE_NAME = \"InvestmentBlock.nc4\"      # Name of the InvestmentBlock-file to test\n",
    "OUT_NAME = \"./investment_output.nc4\""
   ]
  },
  {
   "cell_type": "markdown",
   "metadata": {},
   "source": [
    "#### Python imports to prepare the execution of the file"
   ]
  },
  {
   "cell_type": "code",
   "execution_count": 2,
   "metadata": {},
   "outputs": [],
   "source": [
    "import subprocess\n",
    "import os"
   ]
  },
  {
   "cell_type": "markdown",
   "metadata": {},
   "source": [
    "Compute path of the Lagrangian Dual Solver (LDS) tester"
   ]
  },
  {
   "cell_type": "code",
   "execution_count": 3,
   "metadata": {},
   "outputs": [],
   "source": [
    "PARENT_ABSPATH_IS = os.path.abspath(PROJECT_PATH + \"/build/InvestmentBlock/test/\" + COMPILE_MODE)\n",
    "IS_ABSPATH = os.path.abspath(PARENT_ABSPATH_IS + \"/InvestmentBlock_test.exe\")\n",
    "OUT_ABSPATH = os.path.abspath(OUT_NAME)"
   ]
  },
  {
   "cell_type": "markdown",
   "metadata": {},
   "source": [
    "#### Execute the file"
   ]
  },
  {
   "cell_type": "markdown",
   "metadata": {},
   "source": [
    "Report the option list"
   ]
  },
  {
   "cell_type": "code",
   "execution_count": 4,
   "metadata": {},
   "outputs": [
    {
     "data": {
      "text/plain": [
       "'c:\\\\dev\\\\SMSpp\\\\smspp-project\\\\build\\\\InvestmentBlock\\\\test\\\\Release\\\\InvestmentBlock_test.exe'"
      ]
     },
     "execution_count": 4,
     "metadata": {},
     "output_type": "execute_result"
    }
   ],
   "source": [
    "IS_ABSPATH"
   ]
  },
  {
   "cell_type": "code",
   "execution_count": 5,
   "metadata": {},
   "outputs": [
    {
     "name": "stdout",
     "output_type": "stream",
     "text": [
      "SMS++ investment solver.\n",
      "\n",
      "Usage:\n",
      "  InvestmentBlock_test.exe [options] <file>\n",
      "  InvestmentBlock_test.exe -h | --help\n",
      "\n",
      "Options:\n",
      "  -a, --save-state <prefix>       Save states of the InvestmentBlock solver.\n",
      "  -B, --blockcfg <file>           Block configuration.\n",
      "  -b, --load-state <file>         Load a state for the InvestmentBlock solver.\n",
      "  -c, --configdir <path>          The prefix for all config filenames.\n",
      "  -h, --help                      Print this help.\n",
      "  -p, --prefix <path>             The prefix for all Block filenames.\n",
      "  -r, --relax                     Relax integer variables.\n",
      "  -S, --solvercfg <file>          Solver configuration.\n",
      "  -s, --simulate                  Simulate the given investment.\n",
      "  -x, --initial-investment <file> Initial investment.\n",
      "\n"
     ]
    }
   ],
   "source": [
    "result = subprocess.run([IS_ABSPATH, \"-h\"], stdout=subprocess.PIPE, cwd=DATA_FOLDER)\n",
    "print(result.stdout.decode('ascii'))"
   ]
  },
  {
   "cell_type": "markdown",
   "metadata": {},
   "source": [
    "Prepare the execution call"
   ]
  },
  {
   "cell_type": "code",
   "execution_count": 6,
   "metadata": {},
   "outputs": [
    {
     "data": {
      "text/plain": [
       "'c:\\\\dev\\\\SMSpp\\\\SMSpp_PyPSA\\\\data\\\\SMSpp\\\\investmentblock_test\\\\instance-1'"
      ]
     },
     "execution_count": 6,
     "metadata": {},
     "output_type": "execute_result"
    }
   ],
   "source": [
    "os.path.abspath(DATA_FOLDER)"
   ]
  },
  {
   "cell_type": "code",
   "execution_count": 7,
   "metadata": {},
   "outputs": [
    {
     "data": {
      "text/plain": [
       "'c:/dev/SMSpp/smspp-project/build/InvestmentBlock/test/Release/InvestmentBlock_test.exe -h'"
      ]
     },
     "execution_count": 7,
     "metadata": {},
     "output_type": "execute_result"
    }
   ],
   "source": [
    "\" \".join(result.args).replace(\"\\\\\", \"/\")"
   ]
  },
  {
   "cell_type": "code",
   "execution_count": 8,
   "metadata": {},
   "outputs": [
    {
     "name": "stdout",
     "output_type": "stream",
     "text": [
      "InvestmentBlock.nc4 is a block file.\n",
      "Block configuration was not provided. Using default configuration.\n",
      "Using Solver configuration in ../config/BSPar.txt.\n",
      "Using Solver configuration in ../config/uc_solverconfig.txt.\n",
      "\n",
      "{1-0-0-0.0001} t = 1.00e-10 ~ D*_1( z* ) = 0.00e+00 ~ Sigma = 0.00e+00\n",
      "            Fi undefined\n",
      "    Lambda1 = [ 0.00e+00 ]\n",
      "    UB[ 0 ] = INF, LB[ 0 ] = -INF\n",
      "            Fi[ 0 ]: UB = 1.9572627135e+06, LB = 1.9572627135e+06 [0.0566] \n",
      "            New subgradient for Fi[ 0 ] ~ Alfa1 = -1.96e+06 ~ gd = -0.00e+00 stored in 0 (0)\n",
      "            [0.0567] Fi1 = 1.9572627135e+06\n",
      "            Fi1 defined ==> SS \n",
      "\n",
      "{1-1-1-0.0568} t = 1.00e+00 ~ D*_1( z* ) = 8.00e+00 ~ Sigma = 2.34e+04\n",
      "            Fi = 1.9572627135e+06 ~ eU = 1.23e-02\n",
      "    Lambda1 = [ 4.00e+00 ]\n",
      "    UB[ 0 ] = INF, LB[ 0 ] = 1.9338821805e+06\n",
      "            Fi[ 0 ]: UB = 1.9632062533e+06, LB = 1.9632062533e+06 [0.0657] \n",
      "            New subgradient for Fi[ 0 ] ~ Alfa1 = 1.48e+04 ~ gd = 2.07e+04 stored in 1 (1)\n",
      "            [0.1225] Fi1 = 1.9632062533e+06\n",
      "\n",
      " NS[0]: DFi = 5.94e+03 ~ Lw1(1.9632062533e+06) >= LwTrgt(1.9408963404e+06)\n",
      "\n",
      "{1-2-2-0.1227} t = 1.00e+00 ~ D*_1( z* ) = 8.97e-01 ~ Sigma = 7.83e+03\n",
      "            Fi = 1.9572627135e+06 ~ eU = 4.04e-03\n",
      "    Lambda1 = [ 1.34e+00 ]\n",
      "    UB[ 0 ] = INF, LB[ 0 ] = 1.9494345839e+06\n",
      "            Fi[ 0 ]: UB = 1.9543653279e+06, LB = 1.9543653279e+06 [0.0606] \n",
      "            New subgradient for Fi[ 0 ] ~ Alfa1 = 4.27e+03 ~ gd = 1.37e+03 stored in 2 (2)\n",
      "            [0.1831] Fi1 = 1.9543653279e+06\n",
      "\n",
      " SS[0]: DFi = -2.90e+03 ~ Up1(1.9543653279e+06) <= UpTrgt(1.9564799006e+06)\n",
      "\n",
      "{1-3-3-0.1834} t = 1.50e+00 ~ D*_1( z* ) = 1.14e-01 ~ Sigma = 7.36e+02\n",
      "            Fi = 1.9543653279e+06 ~ eU = 3.82e-04\n",
      "    Lambda1 = [ 6.22e-01 ]\n",
      "    UB[ 0 ] = INF, LB[ 0 ] = 1.9536294086e+06\n",
      "            Fi[ 0 ]: UB = 1.9547238761e+06, LB = 1.9547238761e+06 [0.0547] \n",
      "            New subgradient for Fi[ 0 ] ~ Alfa1 = 1.49e+03 ~ gd = 1.85e+03 stored in 3 (3)\n",
      "            [0.2379] Fi1 = 1.9547238761e+06\n",
      "\n",
      " NS[0]: DFi = 3.59e+02 ~ Lw1(1.9547238761e+06) >= LwTrgt(1.9538501844e+06)\n",
      "\n",
      "{1-4-4-0.2382} t = 1.50e+00 ~ D*_1( z* ) = 3.80e-02 ~ Sigma = 4.24e+02\n",
      "            Fi = 1.9543653279e+06 ~ eU = 2.19e-04\n",
      "    Lambda1 = [ 9.26e-01 ]\n",
      "    UB[ 0 ] = INF, LB[ 0 ] = 1.9539413983e+06\n",
      "            Fi[ 0 ]: UB = 1.9541999994e+06, LB = 1.9541999994e+06 [0.0573] \n",
      "            New subgradient for Fi[ 0 ] ~ Alfa1 = 3.64e+02 ~ gd = 1.99e+02 stored in 4 (4)\n",
      "            [0.2952] Fi1 = 1.9541999994e+06\n",
      "\n",
      " SS[0]: DFi = -1.65e+02 ~ Up1(1.9541999994e+06) <= UpTrgt(1.9543229349e+06)\n",
      "\n",
      "{1-5-5-0.2956} t = 2.25e+00 ~ D*_1( z* ) = 2.91e-03 ~ Sigma = 8.26e+01\n",
      "            Fi = 1.9541999994e+06 ~ eU = 4.24e-05\n",
      "    Lambda1 = [ 1.10e+00 ]\n",
      "    UB[ 0 ] = INF, LB[ 0 ] = 1.9541174086e+06\n",
      "            Fi[ 0 ]: UB = 1.9541912944e+06, LB = 1.9541912944e+06 [0.0564] \n",
      "            New subgradient for Fi[ 0 ] ~ Alfa1 = 6.98e+01 ~ gd = 6.11e+01 stored in 5 (5)\n",
      "            [0.3517] Fi1 = 1.9541912944e+06\n",
      "\n",
      " SS[0]: DFi = -8.71e+00 ~ Up1(1.9541912944e+06) <= UpTrgt(1.9541917403e+06)\n",
      "\n",
      "{1-6-6-0.3521} t = 3.38e+00 ~ D*_1( z* ) = 3.42e-04 ~ Sigma = 3.14e+01\n",
      "            Fi = 1.9541912944e+06 ~ eU = 1.61e-05\n",
      "    Lambda1 = [ 1.01e+00 ]\n",
      "    UB[ 0 ] = INF, LB[ 0 ] = 1.9541598774e+06\n",
      "            Fi[ 0 ]: UB = 1.9541778597e+06, LB = 1.9541778597e+06 [0.0517] \n",
      "            New subgradient for Fi[ 0 ] ~ Alfa1 = 1.88e+01 ~ gd = 5.40e+00 stored in 6 (6)\n",
      "            [0.4035] Fi1 = 1.9541778597e+06\n",
      "\n",
      " SS[0]: DFi = -1.34e+01 ~ Up1(1.9541778597e+06) <= UpTrgt(1.9541881527e+06)\n",
      "\n",
      "{1-7-7-0.4039} t = 5.06e+00 ~ D*_1( z* ) = 3.62e-05 ~ Sigma = 2.64e+00\n",
      "            Fi = 1.9541778597e+06 ~ eU = 1.35e-06\n",
      "    Lambda1 = [ 1.05e+00 ]\n",
      "    UB[ 0 ] = INF, LB[ 0 ] = 1.9541752208e+06\n",
      "            Fi[ 0 ]: UB = 1.9541795590e+06, LB = 1.9541795590e+06 [0.0512] \n",
      "            New subgradient for Fi[ 0 ] ~ Alfa1 = 4.19e+00 ~ gd = 5.89e+00 stored in 7 (7)\n",
      "            [0.4548] Fi1 = 1.9541795590e+06\n",
      "\n",
      " NS[0]: DFi = 1.70e+00 ~ Lw1(1.9541795590e+06) >= LwTrgt(1.9541760125e+06)\n",
      "\n",
      "{1-8-8-0.4552} t = 5.06e+00 ~ D*_1( z* ) = 8.74e-06 ~ Sigma = 1.30e+00\n",
      "            Fi = 1.9541778597e+06 ~ eU = 6.64e-07\n",
      "    Lambda1 = [ 1.03e+00 ]\n",
      "    UB[ 0 ] = INF, LB[ 0 ] = 1.9541765636e+06\n",
      "            Fi[ 0 ]: UB = 1.9541776421e+06, LB = 1.9541776421e+06 [0.0507] \n",
      "            New subgradient for Fi[ 0 ] ~ Alfa1 = 1.07e+00 ~ gd = 8.48e-01 stored in 8 (8)\n",
      "            [0.5055] Fi1 = 1.9541776421e+06\n",
      "\n",
      " SS[0]: DFi = -2.18e-01 ~ Up1(1.9541776421e+06) <= UpTrgt(1.9541777301e+06)\n",
      "\n",
      "{1-9-9-0.5060} t = 7.59e+00 ~ D*_1( z* ) = 9.84e-07 ~ Sigma = 4.26e-01\n",
      "            Fi = 1.9541776421e+06 ~ eU = 2.18e-07\n",
      "    Lambda1 = [ 1.02e+00 ]\n",
      "    UB[ 0 ] = INF, LB[ 0 ] = 1.9541772156e+06\n",
      "            Fi[ 0 ]: UB = 1.9541774805e+06, LB = 1.9541774805e+06 [0.0561] \n",
      "            New subgradient for Fi[ 0 ] ~ Alfa1 = 2.78e-01 ~ gd = 1.17e-01 stored in 9 (9)\n",
      "            [0.5616] Fi1 = 1.9541774805e+06\n",
      "\n",
      " SS[0]: DFi = -1.62e-01 ~ Up1(1.9541774805e+06) <= UpTrgt(1.9541775995e+06)\n",
      "\n",
      "{1-10-10-0.5622} t = 1.14e+01 ~ D*_1( z* ) = 1.04e-07 ~ Sigma = 5.70e-02\n",
      "            Fi = 1.9541774805e+06 ~ eU = 2.92e-08\n",
      "    Lambda1 = [ 1.02e+00 ]\n",
      "    UB[ 0 ] = INF, LB[ 0 ] = 1.9541774235e+06\n",
      "            Fi[ 0 ]: UB = 1.9541774892e+06, LB = 1.9541774892e+06 [0.0524] \n",
      "            New subgradient for Fi[ 0 ] ~ Alfa1 = 6.51e-02 ~ gd = 7.38e-02 stored in 10 (10)\n",
      "            [0.6141] Fi1 = 1.9541774892e+06\n",
      "\n",
      " NS[0]: DFi = 8.74e-03 ~ Lw1(1.9541774892e+06) >= LwTrgt(1.9541774406e+06)\n",
      "\n",
      "{1-11-11-0.6147} t = 1.14e+01 ~ D*_1( z* ) = 2.57e-08 ~ Sigma = 2.83e-02\n",
      "            Fi = 1.9541774805e+06 ~ eU = 1.45e-08\n",
      "    Lambda1 = [ 1.02e+00 ]\n",
      "    UB[ 0 ] = INF, LB[ 0 ] = 1.9541774522e+06\n",
      "            Fi[ 0 ]: UB = 1.9541774684e+06, LB = 1.9541774684e+06 [0.0535] \n",
      "            New subgradient for Fi[ 0 ] ~ Alfa1 = 1.60e-02 ~ gd = 3.97e-03 stored in 11 (11)\n",
      "            [0.6676] Fi1 = 1.9541774684e+06\n",
      "\n",
      " SS[0]: DFi = -1.20e-02 ~ Up1(1.9541774684e+06) <= UpTrgt(1.9541774777e+06)\n",
      "\n",
      "{1-12-12-0.6683} t = 1.71e+01 ~ D*_1( z* ) = 2.91e-09 ~ Sigma = 2.00e-03\n",
      "            Fi = 1.9541774684e+06 ~ eU = 1.02e-09 ~ stop (optimal)\n",
      "\n",
      "Call 1: 13 ~ 12 ~ 0.6683 ~ 0.6676 -> optimal ~ Fi* = 1.9541774684e+06\n",
      "Solver status: 10\n",
      "Solution value: 1.95417746844610339031e+06\n",
      "Solution: \n",
      "0 2.02233100218955108573e+00\n",
      "\n"
     ]
    }
   ],
   "source": [
    "result = subprocess.run(\n",
    "    [IS_ABSPATH, \"-c\", CONFIG_FOLDER, \"-S\", CONFIG_FOLDER + BSC_NAME, UCFILE_NAME],\n",
    "    stdout=subprocess.PIPE,\n",
    "    cwd=DATA_FOLDER,\n",
    ")\n",
    "print(result.stdout.decode('ascii'))"
   ]
  }
 ],
 "metadata": {
  "kernelspec": {
   "display_name": "SMSpp_PyPSA_interface",
   "language": "python",
   "name": "python3"
  },
  "language_info": {
   "codemirror_mode": {
    "name": "ipython",
    "version": 3
   },
   "file_extension": ".py",
   "mimetype": "text/x-python",
   "name": "python",
   "nbconvert_exporter": "python",
   "pygments_lexer": "ipython3",
   "version": "3.12.9"
  }
 },
 "nbformat": 4,
 "nbformat_minor": 2
}
