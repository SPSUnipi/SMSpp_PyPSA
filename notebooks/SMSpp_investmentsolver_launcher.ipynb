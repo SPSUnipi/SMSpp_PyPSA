{
 "cells": [
  {
   "cell_type": "markdown",
   "metadata": {},
   "source": [
    "# Launch an SMSpp optimization - Investment Block Test\n",
    "\n",
    "This notebook aims at highlighting a sample execution and printing of the results of a test optimization for a given case.\n",
    "\n",
    "In particular, we rely on the executable of the Investment Solver that reads the description of an `InvestmentBlock` in nc4 data format,\n",
    "executes its solution.\n",
    "\n",
    "To see the option list, run the command::\n",
    "\n",
    "`./investmentsolver --help`"
   ]
  },
  {
   "cell_type": "code",
   "execution_count": null,
   "metadata": {},
   "outputs": [],
   "source": [
    "PROJECT_PATH = \"../../smspp-project\"   # Path of the SMSpp project\n",
    "COMPILE_MODE = \"Release\"              # Compilation mode (Debug/Release)\n",
    "\n",
    "DATA_FOLDER = \"../data/SMSpp/investmentblock_test/instance-1\"  # Folder where all data inputs are contained (cwd will be moved here)\n",
    "CONFIG_FOLDER = \"../config/\"    # Folder where all configuration files are contained, with reference to DATA_FOLDER\n",
    "BSC_NAME = \"BSPar.txt\"          # Name of the file describing the BlockSolverConfig\n",
    "UCFILE_NAME = \"InvestmentBlock.nc4\"      # Name of the InvestmentBlock-file to test\n",
    "OUT_NAME = \"./investment_output.nc4\""
   ]
  },
  {
   "cell_type": "markdown",
   "metadata": {},
   "source": [
    "#### Python imports to prepare the execution of the file"
   ]
  },
  {
   "cell_type": "code",
   "execution_count": null,
   "metadata": {},
   "outputs": [],
   "source": [
    "import subprocess\n",
    "import os"
   ]
  },
  {
   "cell_type": "markdown",
   "metadata": {},
   "source": [
    "Compute path of the Lagrangian Dual Solver (LDS) tester"
   ]
  },
  {
   "cell_type": "code",
   "execution_count": null,
   "metadata": {},
   "outputs": [],
   "source": [
    "PARENT_ABSPATH_IS = os.path.abspath(PROJECT_PATH + \"/build/InvestmentBlock/test/\" + COMPILE_MODE)\n",
    "IS_ABSPATH = os.path.abspath(PARENT_ABSPATH_IS + \"/InvestmentBlock_test.exe\")\n",
    "OUT_ABSPATH = os.path.abspath(OUT_NAME)"
   ]
  },
  {
   "cell_type": "markdown",
   "metadata": {},
   "source": [
    "#### Execute the file"
   ]
  },
  {
   "cell_type": "markdown",
   "metadata": {},
   "source": [
    "Report the option list"
   ]
  },
  {
   "cell_type": "code",
   "execution_count": null,
   "metadata": {},
   "outputs": [],
   "source": [
    "IS_ABSPATH"
   ]
  },
  {
   "cell_type": "code",
   "execution_count": null,
   "metadata": {},
   "outputs": [],
   "source": [
    "result = subprocess.run([IS_ABSPATH, \"-h\"], stdout=subprocess.PIPE, cwd=DATA_FOLDER)\n",
    "print(result.stdout.decode('ascii'))"
   ]
  },
  {
   "cell_type": "markdown",
   "metadata": {},
   "source": [
    "Prepare the execution call"
   ]
  },
  {
   "cell_type": "code",
   "execution_count": null,
   "metadata": {},
   "outputs": [],
   "source": [
    "result = subprocess.run(\n",
    "    [IS_ABSPATH, \"-c\", CONFIG_FOLDER, \"-S\", CONFIG_FOLDER + BSC_NAME, UCFILE_NAME],\n",
    "    stdout=subprocess.PIPE,\n",
    "    cwd=DATA_FOLDER,\n",
    ")\n",
    "print(result.stdout.decode('ascii'))"
   ]
  }
 ],
 "metadata": {
  "kernelspec": {
   "display_name": "pypsa-earth-eo21",
   "language": "python",
   "name": "python3"
  },
  "language_info": {
   "codemirror_mode": {
    "name": "ipython",
    "version": 3
   },
   "file_extension": ".py",
   "mimetype": "text/x-python",
   "name": "python",
   "nbconvert_exporter": "python",
   "pygments_lexer": "ipython3",
   "version": "3.10.14"
  }
 },
 "nbformat": 4,
 "nbformat_minor": 2
}
