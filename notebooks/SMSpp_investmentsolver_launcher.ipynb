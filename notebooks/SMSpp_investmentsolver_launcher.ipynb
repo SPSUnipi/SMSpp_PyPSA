{
 "cells": [
  {
   "cell_type": "markdown",
   "metadata": {},
   "source": [
    "# Launch an SMSpp optimization - Investment Block Test\n",
    "\n",
    "This notebook aims at highlighting a sample execution and printing of the results of a test optimization for a given case.\n",
    "\n",
    "In particular, we rely on the executable of the Investment Solver that reads the description of an `InvestmentBlock` in nc4 data format,\n",
    "executes its solution.\n",
    "\n",
    "To see the option list, run the command::\n",
    "\n",
    "`./investmentsolver --help`"
   ]
  },
  {
   "cell_type": "code",
   "execution_count": 1,
   "metadata": {},
   "outputs": [],
   "source": [
    "PROJECT_PATH = \"../../smspp-project\"   # Path of the SMSpp project\n",
    "COMPILE_MODE = \"Release\"              # Compilation mode (Debug/Release)\n",
    "\n",
    "DATA_FOLDER = \"../data/SMSpp/investmentblock_test/instance-1\"  # Folder where all data inputs are contained (cwd will be moved here)\n",
    "CONFIG_FOLDER = \"../config/\"    # Folder where all configuration files are contained, with reference to DATA_FOLDER\n",
    "BSC_NAME = \"BSPar.txt\"          # Name of the file describing the BlockSolverConfig\n",
    "UCFILE_NAME = \"InvestmentBlock.nc4\"      # Name of the InvestmentBlock-file to test\n",
    "OUT_NAME = \"./investment_output.nc4\""
   ]
  },
  {
   "cell_type": "markdown",
   "metadata": {},
   "source": [
    "#### Python imports to prepare the execution of the file"
   ]
  },
  {
   "cell_type": "code",
   "execution_count": 2,
   "metadata": {},
   "outputs": [],
   "source": [
    "import subprocess\n",
    "import os"
   ]
  },
  {
   "cell_type": "markdown",
   "metadata": {},
   "source": [
    "Compute path of the Lagrangian Dual Solver (LDS) tester"
   ]
  },
  {
   "cell_type": "code",
   "execution_count": 3,
   "metadata": {},
   "outputs": [],
   "source": [
    "PARENT_ABSPATH_IS = os.path.abspath(PROJECT_PATH + \"/build/InvestmentBlock/test/\" + COMPILE_MODE)\n",
    "IS_ABSPATH = os.path.abspath(PARENT_ABSPATH_IS + \"/InvestmentBlock_test.exe\")\n",
    "OUT_ABSPATH = os.path.abspath(OUT_NAME)"
   ]
  },
  {
   "cell_type": "markdown",
   "metadata": {},
   "source": [
    "#### Execute the file"
   ]
  },
  {
   "cell_type": "markdown",
   "metadata": {},
   "source": [
    "Report the option list"
   ]
  },
  {
   "cell_type": "code",
   "execution_count": 4,
   "metadata": {},
   "outputs": [
    {
     "data": {
      "text/plain": [
       "'c:\\\\dev\\\\SMSpp\\\\smspp-project\\\\build\\\\InvestmentBlock\\\\test\\\\Release\\\\InvestmentBlock_test.exe'"
      ]
     },
     "execution_count": 4,
     "metadata": {},
     "output_type": "execute_result"
    }
   ],
   "source": [
    "IS_ABSPATH"
   ]
  },
  {
   "cell_type": "code",
   "execution_count": 5,
   "metadata": {},
   "outputs": [
    {
     "name": "stdout",
     "output_type": "stream",
     "text": [
      "SMS++ investment solver.\n",
      "\n",
      "Usage:\n",
      "  InvestmentBlock_test.exe [options] <file>\n",
      "  InvestmentBlock_test.exe -h | --help\n",
      "\n",
      "Options:\n",
      "  -a, --save-state <prefix>       Save states of the InvestmentBlock solver.\n",
      "  -B, --blockcfg <file>           Block configuration.\n",
      "  -b, --load-state <file>         Load a state for the InvestmentBlock solver.\n",
      "  -c, --configdir <path>          The prefix for all config filenames.\n",
      "  -h, --help                      Print this help.\n",
      "  -p, --prefix <path>             The prefix for all Block filenames.\n",
      "  -r, --relax                     Relax integer variables.\n",
      "  -S, --solvercfg <file>          Solver configuration.\n",
      "  -s, --simulate                  Simulate the given investment.\n",
      "  -x, --initial-investment <file> Initial investment.\n",
      "\n"
     ]
    }
   ],
   "source": [
    "result = subprocess.run([IS_ABSPATH, \"-h\"], stdout=subprocess.PIPE, cwd=DATA_FOLDER)\n",
    "print(result.stdout.decode('ascii'))"
   ]
  },
  {
   "cell_type": "markdown",
   "metadata": {},
   "source": [
    "Prepare the execution call"
   ]
  },
  {
   "cell_type": "code",
   "execution_count": 13,
   "metadata": {},
   "outputs": [
    {
     "data": {
      "text/plain": [
       "'c:\\\\dev\\\\SMSpp\\\\SMSpp_PyPSA\\\\data\\\\SMSpp\\\\investmentblock_test\\\\instance-1'"
      ]
     },
     "execution_count": 13,
     "metadata": {},
     "output_type": "execute_result"
    }
   ],
   "source": [
    "os.path.abspath(DATA_FOLDER)"
   ]
  },
  {
   "cell_type": "code",
   "execution_count": 10,
   "metadata": {},
   "outputs": [
    {
     "data": {
      "text/plain": [
       "'c:/dev/SMSpp/smspp-project/build/InvestmentBlock/test/Release/InvestmentBlock_test.exe -c ../config/ -S ../config/BSPar.txt InvestmentBlock.nc4'"
      ]
     },
     "execution_count": 10,
     "metadata": {},
     "output_type": "execute_result"
    }
   ],
   "source": [
    "\" \".join(result.args).replace(\"\\\\\", \"/\")"
   ]
  },
  {
   "cell_type": "code",
   "execution_count": 6,
   "metadata": {},
   "outputs": [
    {
     "name": "stdout",
     "output_type": "stream",
     "text": [
      "InvestmentBlock.nc4 is a block file.\n",
      "Block configuration was not provided. Using default configuration.\n",
      "Using Solver configuration in ../config/BSPar.txt.\n",
      "Using Solver configuration in ../config/uc_solverconfig.txt.\n",
      "\n",
      "{1-0-0-0.0001} t = 1.00e-10 ~ D*_1( z* ) = 0.00e+00 ~ Sigma = 0.00e+00\n",
      "            Fi undefined\n",
      "    Lambda1 = [ 0.00e+00 ]\n",
      "    UB[ 0 ] = INF, LB[ 0 ] = -INF\n",
      "            Fi[ 0 ]: UB = 1.9247284635e+06, LB = 1.9247284635e+06 [0.0555] \n",
      "            New subgradient for Fi[ 0 ] ~ Alfa1 = -1.92e+06 ~ gd = -0.00e+00 stored in 0 (0)\n",
      "            [0.0555] Fi1 = 1.9247284635e+06\n",
      "            Fi1 defined ==> SS \n",
      "\n",
      "{1-1-1-0.0557} t = 1.00e+00 ~ D*_1( z* ) = 8.00e+00 ~ Sigma = 1.54e+05\n",
      "            Fi = 1.9247284635e+06 ~ eU = 8.02e-02\n",
      "    Lambda1 = [ 4.00e+00 ]\n",
      "    UB[ 0 ] = INF, LB[ 0 ] = 1.7712109305e+06\n",
      "            Fi[ 0 ]: UB = 1.9306720033e+06, LB = 1.9306720033e+06 [0.0444] \n",
      "            New subgradient for Fi[ 0 ] ~ Alfa1 = 1.48e+04 ~ gd = 2.07e+04 stored in 1 (1)\n",
      "            [0.0999] Fi1 = 1.9306720033e+06\n",
      "\n",
      " NS[0]: DFi = 5.94e+03 ~ Lw1(1.9306720033e+06) >= LwTrgt(1.8172661904e+06)\n",
      "\n",
      "{1-2-2-0.1001} t = 1.00e+00 ~ D*_1( z* ) = 5.74e-02 ~ Sigma = 1.30e+04\n",
      "            Fi = 1.9247284635e+06 ~ eU = 6.76e-03\n",
      "    Lambda1 = [ 3.39e-01 ]\n",
      "    UB[ 0 ] = INF, LB[ 0 ] = 1.9117225094e+06\n",
      "            Fi[ 0 ]: UB = 1.9230808565e+06, LB = 1.9230808565e+06 [0.0452] \n",
      "            New subgradient for Fi[ 0 ] ~ Alfa1 = 2.93e+02 ~ gd = -1.35e+03 stored in 2 (2)\n",
      "            [0.1452] Fi1 = 1.9230808565e+06\n",
      "\n",
      " SS[0]: DFi = -1.65e+03 ~ Up1(1.9230808565e+06) <= UpTrgt(1.9234278681e+06)\n",
      "\n",
      "{1-3-3-0.1454} t = 1.50e+00 ~ D*_1( z* ) = 3.41e-01 ~ Sigma = 4.95e+03\n",
      "            Fi = 1.9230808565e+06 ~ eU = 2.59e-03\n",
      "    Lambda1 = [ 1.58e+00 ]\n",
      "    UB[ 0 ] = INF, LB[ 0 ] = 1.9181308314e+06\n",
      "            Fi[ 0 ]: UB = 1.9221617567e+06, LB = 1.9221617567e+06 [0.0451] \n",
      "            New subgradient for Fi[ 0 ] ~ Alfa1 = 3.01e+03 ~ gd = 2.10e+03 stored in 3 (3)\n",
      "            [0.1903] Fi1 = 1.9221617567e+06\n",
      "\n",
      " SS[0]: DFi = -9.19e+02 ~ Up1(1.9221617567e+06) <= UpTrgt(1.9225858540e+06)\n",
      "\n",
      "{1-4-4-0.1906} t = 2.25e+00 ~ D*_1( z* ) = 4.96e-02 ~ Sigma = 1.20e+03\n",
      "            Fi = 1.9221617567e+06 ~ eU = 6.26e-04\n",
      "    Lambda1 = [ 8.69e-01 ]\n",
      "    UB[ 0 ] = INF, LB[ 0 ] = 1.9209629206e+06\n",
      "            Fi[ 0 ]: UB = 1.9217006906e+06, LB = 1.9217006906e+06 [0.0430] \n",
      "            New subgradient for Fi[ 0 ] ~ Alfa1 = 1.02e+03 ~ gd = 5.58e+02 stored in 4 (4)\n",
      "            [0.2334] Fi1 = 1.9217006906e+06\n",
      "\n",
      " SS[0]: DFi = -4.61e+02 ~ Up1(1.9217006906e+06) <= UpTrgt(1.9220418731e+06)\n",
      "\n",
      "{1-5-5-0.2337} t = 3.38e+00 ~ D*_1( z* ) = 3.89e-03 ~ Sigma = 2.34e+02\n",
      "            Fi = 1.9217006906e+06 ~ eU = 1.22e-04\n",
      "    Lambda1 = [ 1.17e+00 ]\n",
      "    UB[ 0 ] = INF, LB[ 0 ] = 1.9214664831e+06\n",
      "            Fi[ 0 ]: UB = 1.9216883835e+06, LB = 1.9216883835e+06 [0.0440] \n",
      "            New subgradient for Fi[ 0 ] ~ Alfa1 = 1.83e+02 ~ gd = 1.70e+02 stored in 5 (5)\n",
      "            [0.2775] Fi1 = 1.9216883835e+06\n",
      "\n",
      " NS[0]: DFi = -1.23e+01 ~ Lw1(1.9216883835e+06) >= LwTrgt(1.9215367453e+06)\n",
      "\n",
      "{1-6-6-0.2778} t = 3.38e+00 ~ D*_1( z* ) = 7.92e-04 ~ Sigma = 1.06e+02\n",
      "            Fi = 1.9217006906e+06 ~ eU = 5.51e-05\n",
      "    Lambda1 = [ 1.00e+00 ]\n",
      "    UB[ 0 ] = INF, LB[ 0 ] = 1.9215949590e+06\n",
      "            Fi[ 0 ]: UB = 1.9216440878e+06, LB = 1.9216440878e+06 [0.0437] \n",
      "            New subgradient for Fi[ 0 ] ~ Alfa1 = 4.44e+01 ~ gd = -1.22e+01 stored in 6 (6)\n",
      "            [0.3212] Fi1 = 1.9216440878e+06\n",
      "\n",
      " SS[0]: DFi = -5.66e+01 ~ Up1(1.9216440878e+06) <= UpTrgt(1.9216901175e+06)\n",
      "\n",
      "{1-7-7-0.3215} t = 5.06e+00 ~ D*_1( z* ) = 1.07e-04 ~ Sigma = 6.75e+00\n",
      "            Fi = 1.9216440878e+06 ~ eU = 3.52e-06\n",
      "    Lambda1 = [ 1.08e+00 ]\n",
      "    UB[ 0 ] = INF, LB[ 0 ] = 1.9216373367e+06\n",
      "            Fi[ 0 ]: UB = 1.9216504324e+06, LB = 1.9216504324e+06 [0.0383] \n",
      "            New subgradient for Fi[ 0 ] ~ Alfa1 = 1.43e+01 ~ gd = 2.06e+01 stored in 7 (7)\n",
      "            [0.3596] Fi1 = 1.9216504324e+06\n",
      "\n",
      " NS[0]: DFi = 6.34e+00 ~ Lw1(1.9216504324e+06) >= LwTrgt(1.9216393621e+06)\n",
      "\n",
      "{1-8-8-0.3600} t = 5.06e+00 ~ D*_1( z* ) = 2.91e-05 ~ Sigma = 3.52e+00\n",
      "            Fi = 1.9216440878e+06 ~ eU = 1.83e-06\n",
      "    Lambda1 = [ 1.04e+00 ]\n",
      "    UB[ 0 ] = INF, LB[ 0 ] = 1.9216405659e+06\n",
      "            Fi[ 0 ]: UB = 1.9216441098e+06, LB = 1.9216441098e+06 [0.0391] \n",
      "            New subgradient for Fi[ 0 ] ~ Alfa1 = 3.38e+00 ~ gd = 3.40e+00 stored in 8 (8)\n",
      "            [0.3987] Fi1 = 1.9216441098e+06\n",
      "\n",
      " NS[1]: DFi = 2.20e-02 ~ Lw1(1.9216441098e+06) >= LwTrgt(1.9216416224e+06)\n",
      "\n",
      "{1-9-9-0.3992} t = 5.06e+00 ~ D*_1( z* ) = 6.93e-06 ~ Sigma = 1.72e+00\n",
      "            Fi = 1.9216440878e+06 ~ eU = 8.95e-07\n",
      "    Lambda1 = [ 1.02e+00 ]\n",
      "    UB[ 0 ] = INF, LB[ 0 ] = 1.9216423694e+06\n",
      "            Fi[ 0 ]: UB = 1.9216432183e+06, LB = 1.9216432183e+06 [0.0449] \n",
      "            New subgradient for Fi[ 0 ] ~ Alfa1 = 8.49e-01 ~ gd = -2.02e-02 stored in 9 (9)\n",
      "            [0.4437] Fi1 = 1.9216432183e+06\n",
      "\n",
      " SS[0]: DFi = -8.70e-01 ~ Up1(1.9216432183e+06) <= UpTrgt(1.9216439159e+06)\n",
      "\n",
      "{1-10-10-0.4442} t = 7.59e+00 ~ D*_1( z* ) = 7.88e-07 ~ Sigma = 1.02e-02\n",
      "            Fi = 1.9216432183e+06 ~ eU = 5.36e-09\n",
      "    Lambda1 = [ 1.03e+00 ]\n",
      "    UB[ 0 ] = INF, LB[ 0 ] = 1.9216432080e+06\n",
      "            Fi[ 0 ]: UB = 1.9216434315e+06, LB = 1.9216434315e+06 [0.0447] \n",
      "            New subgradient for Fi[ 0 ] ~ Alfa1 = 2.08e-01 ~ gd = 4.21e-01 stored in 10 (10)\n",
      "            [0.4884] Fi1 = 1.9216434315e+06\n",
      "\n",
      " NS[0]: DFi = 2.13e-01 ~ Lw1(1.9216434315e+06) >= LwTrgt(1.9216432111e+06)\n",
      "\n",
      "{1-11-11-0.4890} t = 7.59e+00 ~ D*_1( z* ) = 1.83e-07 ~ Sigma = 4.93e-03\n",
      "            Fi = 1.9216432183e+06 ~ eU = 2.57e-09\n",
      "    Lambda1 = [ 1.03e+00 ]\n",
      "    UB[ 0 ] = INF, LB[ 0 ] = 1.9216432133e+06\n",
      "            Fi[ 0 ]: UB = 1.9216432651e+06, LB = 1.9216432651e+06 [0.0437] \n",
      "            New subgradient for Fi[ 0 ] ~ Alfa1 = 5.08e-02 ~ gd = 9.76e-02 stored in 11 (11)\n",
      "            [0.5322] Fi1 = 1.9216432651e+06\n",
      "\n",
      " NS[1]: DFi = 4.68e-02 ~ Lw1(1.9216432651e+06) >= LwTrgt(1.9216432148e+06)\n",
      "\n",
      "{1-12-12-0.5328} t = 7.59e+00 ~ D*_1( z* ) = 4.49e-08 ~ Sigma = 2.44e-03\n",
      "            Fi = 1.9216432183e+06 ~ eU = 1.27e-09\n",
      "    Lambda1 = [ 1.02e+00 ]\n",
      "    UB[ 0 ] = INF, LB[ 0 ] = 1.9216432158e+06\n",
      "            Fi[ 0 ]: UB = 1.9216432286e+06, LB = 1.9216432286e+06 [0.0424] \n",
      "            New subgradient for Fi[ 0 ] ~ Alfa1 = 1.24e-02 ~ gd = 2.27e-02 stored in 12 (12)\n",
      "            [0.5746] Fi1 = 1.9216432286e+06\n",
      "\n",
      " NS[2]: DFi = 1.03e-02 ~ Lw1(1.9216432286e+06) >= LwTrgt(1.9216432166e+06)\n",
      "\n",
      "{1-13-13-0.5753} t = 7.59e+00 ~ D*_1( z* ) = 1.09e-08 ~ Sigma = 1.20e-03\n",
      "            Fi = 1.9216432183e+06 ~ eU = 6.26e-10\n",
      "    Lambda1 = [ 1.02e+00 ]\n",
      "    UB[ 0 ] = INF, LB[ 0 ] = 1.9216432171e+06\n",
      "            Fi[ 0 ]: UB = 1.9216432202e+06, LB = 1.9216432202e+06 [0.0432] \n",
      "            New subgradient for Fi[ 0 ] ~ Alfa1 = 2.95e-03 ~ gd = 4.89e-03 stored in 13 (13)\n",
      "            [0.6179] Fi1 = 1.9216432202e+06\n",
      "\n",
      " NS[3]: DFi = 1.94e-03 ~ Lw1(1.9216432202e+06) >= LwTrgt(1.9216432174e+06)\n",
      "\n",
      "{1-14-14-0.6186} t = 5.01e+00 ~ D*_1( z* ) = 5.86e-09 ~ Sigma = 5.83e-04\n",
      "            Fi = 1.9216432183e+06 ~ eU = 3.03e-10\n",
      "    Lambda1 = [ 1.02e+00 ]\n",
      "    UB[ 0 ] = INF, LB[ 0 ] = 1.9216432177e+06\n",
      "            Fi[ 0 ]: UB = 1.9216432185e+06, LB = 1.9216432185e+06 [0.0437] \n",
      "            New subgradient for Fi[ 0 ] ~ Alfa1 = 6.71e-04 ~ gd = 8.48e-04 stored in 14 (14)\n",
      "            [0.6616] Fi1 = 1.9216432185e+06\n",
      "\n",
      " NS[0]: DFi = 1.76e-04 ~ Lw1(1.9216432185e+06) >= LwTrgt(1.9216432179e+06)\n",
      "\n",
      "{1-15-15-0.6623} t = 5.01e+00 ~ D*_1( z* ) = 1.29e-09 ~ Sigma = 2.73e-04\n",
      "            Fi = 1.9216432183e+06 ~ eU = 1.42e-10 ~ stop (optimal)\n",
      "\n",
      "Call 1: 16 ~ 15 ~ 0.6623 ~ 0.6616 -> optimal ~ Fi* = 1.9216432183e+06\n",
      "Solver status: 10\n",
      "Solution value: 1.92164321827810350806e+06\n",
      "Solution: \n",
      "0 2.02179341570641790682e+00\n",
      "\n"
     ]
    }
   ],
   "source": [
    "result = subprocess.run(\n",
    "    [IS_ABSPATH, \"-c\", CONFIG_FOLDER, \"-S\", CONFIG_FOLDER + BSC_NAME, UCFILE_NAME],\n",
    "    stdout=subprocess.PIPE,\n",
    "    cwd=DATA_FOLDER,\n",
    ")\n",
    "print(result.stdout.decode('ascii'))"
   ]
  }
 ],
 "metadata": {
  "kernelspec": {
   "display_name": "python_exercise",
   "language": "python",
   "name": "python3"
  },
  "language_info": {
   "codemirror_mode": {
    "name": "ipython",
    "version": 3
   },
   "file_extension": ".py",
   "mimetype": "text/x-python",
   "name": "python",
   "nbconvert_exporter": "python",
   "pygments_lexer": "ipython3",
   "version": "3.13.3"
  }
 },
 "nbformat": 4,
 "nbformat_minor": 2
}
