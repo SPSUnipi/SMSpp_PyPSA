{
 "cells": [
  {
   "cell_type": "markdown",
   "metadata": {},
   "source": [
    "# Notebook to build a netcdf file for SMSpp starting by a pypsa model\n",
    "\n",
    "\n",
    "\n",
    "This notebook executes the following procedure:\n",
    "1. Create and optimize a pypsa model\n",
    "2. Converts the PyPSA model into a InvestmentBlock problem to be read by SMSpp\n",
    "3. Launches the optimization using the UCBlock solver of SMSpp\n",
    "4. Validate the objective function of SMS++ and compares it to SMSpp"
   ]
  },
  {
   "cell_type": "markdown",
   "metadata": {},
   "source": [
    "## 1. Creation of the PyPSA model\n",
    "\n",
    "We create a simple PyPSA model arbitrary number of buses, few generators, storages and loads.\n",
    "\n",
    "Main assumptions are:\n",
    "- The network is purely radial in the form bus1 -> bus2 -> bus3 -> ... busN\n",
    "- A load is added to each bus of the network\n",
    "- The following technologies are supported:\n",
    "  - fuel-fired diesel generator\n",
    "  - pv generator\n",
    "  - wind generator\n",
    "  - battery\n",
    "  - hydro unit\n",
    "\n",
    "The following notebook, performs the following SMS++ to PyPSA conversion:\n",
    "\n",
    "|Physical object|PyPSA object|SMS++ object|\n",
    "|----------------|------------|------------|\n",
    "|diesel generator|Generator|ThermalUnitBlock|\n",
    "|pv generator|Generator|IntermittentUnitBlock|\n",
    "|wind generator|Generator|IntermittentUnitBlock|\n",
    "|battery|StorageUnit|BatteryUnitBlock|\n",
    "|hydro unit|StorageUnit|HydroUnitBlock|"
   ]
  },
  {
   "cell_type": "code",
   "execution_count": 1,
   "metadata": {},
   "outputs": [],
   "source": [
    "n_snapshots = 1*24 #365*24\n",
    "\n",
    "buses_demand = [0] # list of buses where demand is located\n",
    "bus_PV = 0 # Bus where PV is located; if none, no PV is considered\n",
    "bus_wind = 0 # Bus where wind is located; if none, no wind is considered\n",
    "bus_storage = None # Bus where storage is located; if none, no storage is considered\n",
    "bus_hydro = None # Bus where hydro is located; if none, no hydro is considered\n",
    "bus_diesel = 0 # Bus where diesel is located; if none, no pv is considered\n",
    "add_load_shedding = True # when true, load shedding units are added"
   ]
  },
  {
   "cell_type": "markdown",
   "metadata": {},
   "source": [
    "#### Preliminary imports"
   ]
  },
  {
   "cell_type": "code",
   "execution_count": 2,
   "metadata": {},
   "outputs": [],
   "source": [
    "folder_builder = \"../data/SMSpp/InvestmentBlockSolver\"\n",
    "path_smspp_pypsa = folder_builder + \"/pypsa2smspp.nc4\"\n",
    "\n",
    "renewable_carriers = [\"pv\", \"wind\"]\n",
    "thermal_carriers = [\"diesel\"]\n",
    "slack_carriers = [\"curtailment\"]"
   ]
  },
  {
   "cell_type": "code",
   "execution_count": 3,
   "metadata": {},
   "outputs": [],
   "source": [
    "import pypsa\n",
    "from helpers import build_microgrid_model\n",
    "import netCDF4 as nc\n",
    "import pandas as pd\n",
    "import numpy as np\n",
    "import re\n",
    "\n",
    "NC_DOUBLE = \"f8\"\n",
    "NP_DOUBLE = np.float64\n",
    "NC_UINT = \"u4\"\n",
    "NP_UINT = np.uint32\n",
    "NC_BYTE = \"B\"\n",
    "NP_BYTE = np.byte\n",
    "\n",
    "MAX_INFINITY = 1e6"
   ]
  },
  {
   "cell_type": "markdown",
   "metadata": {},
   "source": [
    "#### The following code creates the desired pypsa model."
   ]
  },
  {
   "cell_type": "code",
   "execution_count": 4,
   "metadata": {},
   "outputs": [],
   "source": [
    "n = build_microgrid_model(\n",
    "    n_snapshots = n_snapshots,\n",
    "    buses_demand = buses_demand,\n",
    "    bus_PV = bus_PV,\n",
    "    bus_wind = bus_wind,\n",
    "    bus_storage = bus_storage,\n",
    "    bus_diesel = bus_diesel,\n",
    "    bus_hydro=bus_hydro,\n",
    "    x = 10.389754,\n",
    "    y = 43.720810,\n",
    "    hydro_factor=0.5,\n",
    "    add_load_shedding=add_load_shedding,\n",
    "    load_shedding=10000,\n",
    ")\n",
    "\n",
    "# n.storage_units.capital_cost /= 2\n",
    "# n.storage_units.p_min_pu = 0.\n",
    "# n.storage_units.p_nom_max = 10\n",
    "# n.storage_units.max_hours = 0.5\n",
    "\n",
    "# n.snapshot_weightings[\"stores\"] = 1.0\n",
    "\n",
    "# n.generators.p_nom = 100"
   ]
  },
  {
   "cell_type": "code",
   "execution_count": 5,
   "metadata": {},
   "outputs": [
    {
     "name": "stderr",
     "output_type": "stream",
     "text": [
      "WARNING:pypsa.consistency:The following buses have carriers which are not defined:\n",
      "Index(['Bus 0'], dtype='object', name='Bus')\n",
      "WARNING:pypsa.consistency:The following generators have carriers which are not defined:\n",
      "Index(['pv', 'wind', 'diesel', 'Curtailment_Bus 0'], dtype='object', name='Generator')\n",
      "WARNING:pypsa.consistency:The following buses have carriers which are not defined:\n",
      "Index(['Bus 0'], dtype='object', name='Bus')\n",
      "WARNING:pypsa.consistency:The following generators have carriers which are not defined:\n",
      "Index(['pv', 'wind', 'diesel', 'Curtailment_Bus 0'], dtype='object', name='Generator')\n",
      "INFO:linopy.model: Solve problem using Gurobi solver\n",
      "INFO:linopy.io: Writing time: 0.03s\n"
     ]
    },
    {
     "name": "stdout",
     "output_type": "stream",
     "text": [
      "Set parameter Username\n"
     ]
    },
    {
     "name": "stderr",
     "output_type": "stream",
     "text": [
      "INFO:gurobipy:Set parameter Username\n"
     ]
    },
    {
     "name": "stdout",
     "output_type": "stream",
     "text": [
      "Academic license - for non-commercial use only - expires 2025-07-18\n"
     ]
    },
    {
     "name": "stderr",
     "output_type": "stream",
     "text": [
      "INFO:gurobipy:Academic license - for non-commercial use only - expires 2025-07-18\n"
     ]
    },
    {
     "name": "stdout",
     "output_type": "stream",
     "text": [
      "Read LP format model from file C:\\Users\\Davide\\AppData\\Local\\Temp\\linopy-problem-eafsd6s3.lp\n"
     ]
    },
    {
     "name": "stderr",
     "output_type": "stream",
     "text": [
      "INFO:gurobipy:Read LP format model from file C:\\Users\\Davide\\AppData\\Local\\Temp\\linopy-problem-eafsd6s3.lp\n"
     ]
    },
    {
     "name": "stdout",
     "output_type": "stream",
     "text": [
      "Reading time = 0.00 seconds\n"
     ]
    },
    {
     "name": "stderr",
     "output_type": "stream",
     "text": [
      "INFO:gurobipy:Reading time = 0.00 seconds\n"
     ]
    },
    {
     "name": "stdout",
     "output_type": "stream",
     "text": [
      "obj: 219 rows, 99 columns, 351 nonzeros\n"
     ]
    },
    {
     "name": "stderr",
     "output_type": "stream",
     "text": [
      "INFO:gurobipy:obj: 219 rows, 99 columns, 351 nonzeros\n"
     ]
    },
    {
     "name": "stdout",
     "output_type": "stream",
     "text": [
      "Gurobi Optimizer version 11.0.3 build v11.0.3rc0 (win64 - Windows 11+.0 (26100.2))\n"
     ]
    },
    {
     "name": "stderr",
     "output_type": "stream",
     "text": [
      "INFO:gurobipy:Gurobi Optimizer version 11.0.3 build v11.0.3rc0 (win64 - Windows 11+.0 (26100.2))\n"
     ]
    },
    {
     "name": "stdout",
     "output_type": "stream",
     "text": [
      "\n"
     ]
    },
    {
     "name": "stderr",
     "output_type": "stream",
     "text": [
      "INFO:gurobipy:\n"
     ]
    },
    {
     "name": "stdout",
     "output_type": "stream",
     "text": [
      "CPU model: 12th Gen Intel(R) Core(TM) i9-12900HK, instruction set [SSE2|AVX|AVX2]\n"
     ]
    },
    {
     "name": "stderr",
     "output_type": "stream",
     "text": [
      "INFO:gurobipy:CPU model: 12th Gen Intel(R) Core(TM) i9-12900HK, instruction set [SSE2|AVX|AVX2]\n"
     ]
    },
    {
     "name": "stdout",
     "output_type": "stream",
     "text": [
      "Thread count: 14 physical cores, 20 logical processors, using up to 20 threads\n"
     ]
    },
    {
     "name": "stderr",
     "output_type": "stream",
     "text": [
      "INFO:gurobipy:Thread count: 14 physical cores, 20 logical processors, using up to 20 threads\n"
     ]
    },
    {
     "name": "stdout",
     "output_type": "stream",
     "text": [
      "\n"
     ]
    },
    {
     "name": "stderr",
     "output_type": "stream",
     "text": [
      "INFO:gurobipy:\n"
     ]
    },
    {
     "name": "stdout",
     "output_type": "stream",
     "text": [
      "Optimize a model with 219 rows, 99 columns and 351 nonzeros\n"
     ]
    },
    {
     "name": "stderr",
     "output_type": "stream",
     "text": [
      "INFO:gurobipy:Optimize a model with 219 rows, 99 columns and 351 nonzeros\n"
     ]
    },
    {
     "name": "stdout",
     "output_type": "stream",
     "text": [
      "Model fingerprint: 0xff6db66d\n"
     ]
    },
    {
     "name": "stderr",
     "output_type": "stream",
     "text": [
      "INFO:gurobipy:Model fingerprint: 0xff6db66d\n"
     ]
    },
    {
     "name": "stdout",
     "output_type": "stream",
     "text": [
      "Coefficient statistics:\n"
     ]
    },
    {
     "name": "stderr",
     "output_type": "stream",
     "text": [
      "INFO:gurobipy:Coefficient statistics:\n"
     ]
    },
    {
     "name": "stdout",
     "output_type": "stream",
     "text": [
      "  Matrix range     [4e-02, 1e+00]\n"
     ]
    },
    {
     "name": "stderr",
     "output_type": "stream",
     "text": [
      "INFO:gurobipy:  Matrix range     [4e-02, 1e+00]\n"
     ]
    },
    {
     "name": "stdout",
     "output_type": "stream",
     "text": [
      "  Objective range  [4e+01, 4e+06]\n"
     ]
    },
    {
     "name": "stderr",
     "output_type": "stream",
     "text": [
      "INFO:gurobipy:  Objective range  [4e+01, 4e+06]\n"
     ]
    },
    {
     "name": "stdout",
     "output_type": "stream",
     "text": [
      "  Bounds range     [0e+00, 0e+00]\n"
     ]
    },
    {
     "name": "stderr",
     "output_type": "stream",
     "text": [
      "INFO:gurobipy:  Bounds range     [0e+00, 0e+00]\n"
     ]
    },
    {
     "name": "stdout",
     "output_type": "stream",
     "text": [
      "  RHS range        [1e+01, 7e+01]\n"
     ]
    },
    {
     "name": "stderr",
     "output_type": "stream",
     "text": [
      "INFO:gurobipy:  RHS range        [1e+01, 7e+01]\n"
     ]
    },
    {
     "name": "stdout",
     "output_type": "stream",
     "text": [
      "Presolve removed 147 rows and 48 columns\n"
     ]
    },
    {
     "name": "stderr",
     "output_type": "stream",
     "text": [
      "INFO:gurobipy:Presolve removed 147 rows and 48 columns\n"
     ]
    },
    {
     "name": "stdout",
     "output_type": "stream",
     "text": [
      "Presolve time: 0.02s\n"
     ]
    },
    {
     "name": "stderr",
     "output_type": "stream",
     "text": [
      "INFO:gurobipy:Presolve time: 0.02s\n"
     ]
    },
    {
     "name": "stdout",
     "output_type": "stream",
     "text": [
      "Presolved: 72 rows, 51 columns, 156 nonzeros\n"
     ]
    },
    {
     "name": "stderr",
     "output_type": "stream",
     "text": [
      "INFO:gurobipy:Presolved: 72 rows, 51 columns, 156 nonzeros\n"
     ]
    },
    {
     "name": "stdout",
     "output_type": "stream",
     "text": [
      "\n"
     ]
    },
    {
     "name": "stderr",
     "output_type": "stream",
     "text": [
      "INFO:gurobipy:\n"
     ]
    },
    {
     "name": "stdout",
     "output_type": "stream",
     "text": [
      "Iteration    Objective       Primal Inf.    Dual Inf.      Time\n"
     ]
    },
    {
     "name": "stderr",
     "output_type": "stream",
     "text": [
      "INFO:gurobipy:Iteration    Objective       Primal Inf.    Dual Inf.      Time\n"
     ]
    },
    {
     "name": "stdout",
     "output_type": "stream",
     "text": [
      "       0    1.3844312e+04   1.626958e+02   0.000000e+00      0s\n"
     ]
    },
    {
     "name": "stderr",
     "output_type": "stream",
     "text": [
      "INFO:gurobipy:       0    1.3844312e+04   1.626958e+02   0.000000e+00      0s\n"
     ]
    },
    {
     "name": "stdout",
     "output_type": "stream",
     "text": [
      "      25    2.6442491e+04   0.000000e+00   0.000000e+00      0s\n"
     ]
    },
    {
     "name": "stderr",
     "output_type": "stream",
     "text": [
      "INFO:gurobipy:      25    2.6442491e+04   0.000000e+00   0.000000e+00      0s\n"
     ]
    },
    {
     "name": "stdout",
     "output_type": "stream",
     "text": [
      "\n"
     ]
    },
    {
     "name": "stderr",
     "output_type": "stream",
     "text": [
      "INFO:gurobipy:\n"
     ]
    },
    {
     "name": "stdout",
     "output_type": "stream",
     "text": [
      "Solved in 25 iterations and 0.03 seconds (0.00 work units)\n"
     ]
    },
    {
     "name": "stderr",
     "output_type": "stream",
     "text": [
      "INFO:gurobipy:Solved in 25 iterations and 0.03 seconds (0.00 work units)\n"
     ]
    },
    {
     "name": "stdout",
     "output_type": "stream",
     "text": [
      "Optimal objective  2.644249121e+04\n"
     ]
    },
    {
     "name": "stderr",
     "output_type": "stream",
     "text": [
      "INFO:gurobipy:Optimal objective  2.644249121e+04\n",
      "INFO:linopy.constants: Optimization successful: \n",
      "Status: ok\n",
      "Termination condition: optimal\n",
      "Solution: 99 primals, 219 duals\n",
      "Objective: 2.64e+04\n",
      "Solver model: available\n",
      "Solver message: 2\n",
      "\n",
      "INFO:pypsa.optimization.optimize:The shadow-prices of the constraints Generator-fix-p-lower, Generator-fix-p-upper, Generator-ext-p-lower, Generator-ext-p-upper were not assigned to the network.\n"
     ]
    },
    {
     "data": {
      "text/plain": [
       "('ok', 'optimal')"
      ]
     },
     "execution_count": 5,
     "metadata": {},
     "output_type": "execute_result"
    }
   ],
   "source": [
    "n.optimize(solver_name=\"gurobi\")"
   ]
  },
  {
   "cell_type": "markdown",
   "metadata": {},
   "source": [
    "#### Analyze the results"
   ]
  },
  {
   "cell_type": "code",
   "execution_count": 6,
   "metadata": {},
   "outputs": [],
   "source": [
    "# Auxiliary function\n",
    "def get_bus_idx(n, bus_series, dtype=\"uint32\"):\n",
    "    \"\"\"\n",
    "    Returns the numeric index of the bus in the network n for each element of the bus_series.\n",
    "    \"\"\"\n",
    "    return bus_series.map(n.buses.index.get_loc).astype(dtype)"
   ]
  },
  {
   "cell_type": "markdown",
   "metadata": {},
   "source": [
    "Calculate the marginal costs."
   ]
  },
  {
   "cell_type": "code",
   "execution_count": 7,
   "metadata": {},
   "outputs": [
    {
     "data": {
      "text/plain": [
       "pv                      0.000000\n",
       "wind                    0.000000\n",
       "diesel               4430.511599\n",
       "Curtailment_Bus 0       0.000000\n",
       "dtype: float64"
      ]
     },
     "execution_count": 7,
     "metadata": {},
     "output_type": "execute_result"
    }
   ],
   "source": [
    "marg_cost = pd.concat(\n",
    "    [\n",
    "        n.generators_t.p.mul(n.snapshot_weightings.objective, axis=0).sum().mul(n.generators.marginal_cost),\n",
    "        n.storage_units_t.p.mul(n.snapshot_weightings.objective, axis=0).sum().mul(n.storage_units.marginal_cost),\n",
    "        n.links_t.p0.mul(n.snapshot_weightings.objective, axis=0).sum().mul(n.links.marginal_cost),\n",
    "        n.stores_t.p.mul(n.snapshot_weightings.objective, axis=0).sum().mul(n.stores.marginal_cost),\n",
    "    ],\n",
    ")\n",
    "marg_cost"
   ]
  },
  {
   "cell_type": "markdown",
   "metadata": {},
   "source": [
    "Calculate the capital costs"
   ]
  },
  {
   "cell_type": "code",
   "execution_count": 8,
   "metadata": {},
   "outputs": [
    {
     "data": {
      "text/plain": [
       "pv                       0.000000\n",
       "wind                 14638.517231\n",
       "diesel                7373.462381\n",
       "Curtailment_Bus 0        0.000000\n",
       "dtype: float64"
      ]
     },
     "execution_count": 8,
     "metadata": {},
     "output_type": "execute_result"
    }
   ],
   "source": [
    "cap_cost = pd.concat(\n",
    "    [\n",
    "        n.generators.eval(\"p_nom_opt * capital_cost\"),\n",
    "        n.storage_units.eval(\"p_nom_opt * capital_cost\"),\n",
    "        n.links.eval(\"p_nom_opt * capital_cost\"),\n",
    "        n.lines.eval(\"s_nom_opt * capital_cost\"),\n",
    "        n.stores.eval(\"e_nom_opt * capital_cost\"),\n",
    "    ]\n",
    ")\n",
    "cap_cost"
   ]
  },
  {
   "cell_type": "markdown",
   "metadata": {},
   "source": [
    "## 2. Convert the PyPSA model into a InvestmentBlock problem\n",
    "\n",
    "The following code converts the pypsa model into a InvestmentBlock problem.\n",
    "The conversions adopts the covnersion matrix adopted in the example above."
   ]
  },
  {
   "cell_type": "markdown",
   "metadata": {},
   "source": [
    "### 2.1 Create the SMS++ problem file"
   ]
  },
  {
   "cell_type": "code",
   "execution_count": 9,
   "metadata": {},
   "outputs": [],
   "source": [
    "ds = nc.Dataset(path_smspp_pypsa, \"w\")\n",
    "\n",
    "\n",
    "ds.setncattr(\"SMS++_file_type\", 1)  # Set file type to 1 for problem file"
   ]
  },
  {
   "cell_type": "markdown",
   "metadata": {},
   "source": [
    "### 2.2 Creates the Inner InvestmentBlock"
   ]
  },
  {
   "cell_type": "markdown",
   "metadata": {},
   "source": [
    "#### Auxiliary functions needed to create the InvestmentBlock"
   ]
  },
  {
   "cell_type": "code",
   "execution_count": 10,
   "metadata": {},
   "outputs": [],
   "source": [
    "obj_order = [\"Generator\", \"StorageUnit\", \"Link\", \"Line\", \"Store\"]\n",
    "def sort_order(x):\n",
    "    carrier_sort = {\n",
    "        \"diesel\": 1,\n",
    "        \"pv\": 2,\n",
    "        \"wind\": 3,\n",
    "        \"battery\": 4,\n",
    "        \"curtailment\": 5,\n",
    "        \"hydro\": 6,\n",
    "    }\n",
    "    if x in carrier_sort.keys():\n",
    "        return carrier_sort[x]\n",
    "    else:\n",
    "        return max(carrier_sort.values()) + 1\n",
    "\n",
    "\n",
    "# get the nominal name\n",
    "def nom_obj(obj):\n",
    "    if obj.lower() == \"line\":\n",
    "        return \"s_nom\"\n",
    "    elif obj.lower() == \"store\":\n",
    "        return \"e_nom\"\n",
    "    else:\n",
    "        return \"p_nom\"\n",
    "\n",
    "# get the extendable objects\n",
    "dict_extendable = {\n",
    "    obj: (\n",
    "        n.df(obj)\n",
    "        .sort_values(by=[\"carrier\"], key=lambda x: x.map(lambda y: sort_order(y)))\n",
    "        .reset_index()\n",
    "        .rename(columns={obj: \"name\"})\n",
    "        .query(f\"{nom_obj(obj)}_extendable == True\")\n",
    "    )\n",
    "    for obj in obj_order\n",
    "}\n",
    "\n",
    "# get list of component by type\n",
    "def get_param_list(dict_objs, col, obj_order=obj_order, max_val=MAX_INFINITY):\n",
    "    lvals = []\n",
    "    initial_id = 0\n",
    "    for obj in obj_order:\n",
    "        if col == \"type\":\n",
    "            lvals += [obj for i in range(len(dict_objs[obj].index))]\n",
    "        elif col == \"id\": # get the id starting from the first object\n",
    "            lvals += list(initial_id + dict_objs[obj].index)\n",
    "        else:\n",
    "            df_col = nom_obj(obj) + col[3:] if col.startswith(\"nom_\") else col\n",
    "            lvals += list(dict_objs[obj][df_col].values)\n",
    "        initial_id += len(dict_objs[obj].index)\n",
    "    if isinstance(lvals[0], float) or isinstance(lvals[0], int):\n",
    "        lvals = [np.clip(val, -max_val, max_val) for val in lvals]\n",
    "    return lvals\n",
    "\n",
    "# Number of extendable assets\n",
    "n_extendable = sum(len(df.index) for df in dict_extendable.values())"
   ]
  },
  {
   "cell_type": "code",
   "execution_count": 11,
   "metadata": {},
   "outputs": [],
   "source": [
    "# Create UCBlock\n",
    "\n",
    "inv_block = ds.createGroup(\"InvestmentBlock\")  # Create the first main block\n",
    "\n",
    "# master.id = \"0\"  # mandatory attribute for all blocks\n",
    "inv_block.type = \"InvestmentBlock\"  # mandatory attribute for all blocks\n",
    "\n",
    "# num of extendables\n",
    "inv_block.createDimension(\"NumAssets\", n_extendable)\n",
    "\n",
    "# assets\n",
    "assets = inv_block.createVariable(\"Assets\", NC_UINT, (\"NumAssets\",))\n",
    "assets[:] = get_param_list(dict_extendable, \"id\")\n",
    "\n",
    "# investment cost\n",
    "cost = inv_block.createVariable(\"Cost\", NC_DOUBLE, (\"NumAssets\",))\n",
    "cost[:] = get_param_list(dict_extendable, \"capital_cost\")\n",
    "\n",
    "# Lower bound\n",
    "lb = inv_block.createVariable(\"LowerBound\", NC_DOUBLE, (\"NumAssets\",))\n",
    "lb[:] = np.full((n_extendable,), 1e-6, dtype=NP_DOUBLE)\n",
    "# lb[:] = get_param_list(dict_extendable, \"nom_min\")\n",
    "\n",
    "# Upper bound\n",
    "ub = inv_block.createVariable(\"UpperBound\", NC_DOUBLE, (\"NumAssets\",))\n",
    "ub[:] = get_param_list(dict_extendable, \"nom_max\")\n",
    "\n",
    "# Installed Capacity\n",
    "ic = inv_block.createVariable(\"InstalledCapacity\", NC_DOUBLE, (\"NumAssets\",))\n",
    "ic[:] = np.full((n_extendable,), 0., dtype=NP_DOUBLE)\n",
    "\n",
    "# asset type\n",
    "asset_type = inv_block.createVariable(\"AssetType\", NC_BYTE, (\"NumAssets\",))\n",
    "asset_type[:] = np.full((n_extendable,), 0, dtype=NP_BYTE)"
   ]
  },
  {
   "cell_type": "markdown",
   "metadata": {},
   "source": [
    "### 2.3 Add the UCBlock as inner block of InvestmentBlock"
   ]
  },
  {
   "cell_type": "code",
   "execution_count": 12,
   "metadata": {},
   "outputs": [],
   "source": [
    "# Add UCBlock\n",
    "master = inv_block.createGroup(\"InnerBlock\")  # Create the first main block\n",
    "\n",
    "# master.id = \"0\"  # mandatory attribute for all blocks\n",
    "master.type = \"UCBlock\"  # mandatory attribute for all blocks"
   ]
  },
  {
   "cell_type": "markdown",
   "metadata": {},
   "source": [
    "Add the Network Data to the UCBlock (supported one node)"
   ]
  },
  {
   "cell_type": "code",
   "execution_count": 13,
   "metadata": {},
   "outputs": [],
   "source": [
    "ndg = master.createGroup(\"NetworkData\")\n",
    "ndg.createDimension(\"NumberNodes\", 1)\n",
    "\n",
    "n_timesteps = len(n.snapshots)\n",
    "master.createDimension(\"TimeHorizon\", n_timesteps)  # Time horizon\n",
    "\n",
    "\n",
    "n_units = len(n.generators) + len(n.storage_units) + len(n.stores)\n",
    "master.createDimension(\"NumberUnits\", n_units)  # Number of nodes\n",
    "master.createDimension(\"NumberElectricalGenerators\", n_units)  # Number of elec. units\n",
    "# some unitblocks, do have multiple units inside [e.g. cascading hydro or CCGT], not considered now\n",
    "\n",
    "\n",
    "n_nodes = len(n.buses)\n",
    "master.createDimension(\"NumberNodes\", n_nodes)  # Number of nodes\n",
    "\n",
    "if len(n.lines) > 0:   \n",
    "    master.createDimension(\"NumberLines\", len(n.lines))  # Number of lines\n",
    "\n",
    "# Lines\n",
    "\n",
    "if len(n.lines) > 0:\n",
    "\n",
    "    # generators' node\n",
    "    all_generators = [bus_PV, bus_wind, bus_storage, bus_hydro, bus_diesel]\n",
    "    all_generators = [x for x in all_generators if x is not None]\n",
    "    if add_load_shedding:\n",
    "        all_generators = add_load_shedding + list(range(1, len(n.buses)))  # add load shedding as a generator\n",
    "    generator_node = master.createVariable(\"GeneratorNode\", NC_UINT, (\"NumberElectricalGenerators\",))\n",
    "    generator_node[:] = np.array(all_generators, dtype=NP_UINT)\n",
    "\n",
    "    # start lines\n",
    "    start_line = master.createVariable(\"StartLine\", NC_UINT, (\"NumberLines\",))\n",
    "    start_line[:] = get_bus_idx(n, n.lines.bus0).values\n",
    "    # end lines\n",
    "    end_line = master.createVariable(\"EndLine\", NC_UINT, (\"NumberLines\",))\n",
    "    end_line[:] = get_bus_idx(n, n.lines.bus1).values\n",
    "    # Min power flow\n",
    "    min_power_flow = master.createVariable(\"MinPowerFlow\", NC_DOUBLE, (\"NumberLines\",))\n",
    "    min_power_flow[:] = - n.lines.s_nom.values\n",
    "    # Max power flow\n",
    "    max_power_flow = master.createVariable(\"MaxPowerFlow\", NC_DOUBLE, (\"NumberLines\",))\n",
    "    max_power_flow[:] = n.lines.s_nom.values\n",
    "    # Susceptance\n",
    "    susceptance = master.createVariable(\"Susceptance\", NC_DOUBLE, (\"NumberLines\",))\n",
    "    susceptance[:] = 1 / n.lines.x.values\n"
   ]
  },
  {
   "cell_type": "markdown",
   "metadata": {},
   "source": [
    "Add demand to the UCBlock"
   ]
  },
  {
   "cell_type": "code",
   "execution_count": 14,
   "metadata": {},
   "outputs": [],
   "source": [
    "# demand by node\n",
    "loads_t = n.loads_t.p_set\n",
    "active_demand = master.createVariable(\"ActivePowerDemand\", NC_DOUBLE, (\"NumberNodes\", \"TimeHorizon\",)) #(\"NumberNodes\", \"TimeHorizon\"))\n",
    "active_demand[:] = loads_t.values.transpose()  # indexing between python and SMSpp is different: transpose"
   ]
  },
  {
   "cell_type": "markdown",
   "metadata": {},
   "source": [
    "### 2.4 Add the ThermalUnitBlock for each fuel-fired generator"
   ]
  },
  {
   "cell_type": "code",
   "execution_count": 15,
   "metadata": {},
   "outputs": [],
   "source": [
    "id_thermal = 0\n",
    "\n",
    "thermal_generators = n.generators[n.generators.index.isin(thermal_carriers)]\n",
    "\n",
    "# min_power_pypsa = thermal_generators.eval(\"p_nom_opt * p_min_pu\")\n",
    "# max_power_pypsa = thermal_generators.eval(\"p_nom_opt * p_max_pu\")\n",
    "min_power_pypsa = thermal_generators.eval(\"p_min_pu\")\n",
    "max_power_pypsa = thermal_generators.eval(\"p_max_pu\")\n",
    "linear_term_pypsa = thermal_generators.marginal_cost\n",
    "\n",
    "for (idx_name, row) in thermal_generators.iterrows():\n",
    "\n",
    "    tub = master.createGroup(f\"UnitBlock_{id_thermal}\")\n",
    "    tub.id = str(id_thermal)\n",
    "    tub.type = \"ThermalUnitBlock\"\n",
    "\n",
    "    # Create variables\n",
    "\n",
    "\n",
    "    # MinPower\n",
    "    min_power = tub.createVariable(\"MinPower\", NC_DOUBLE, (\"TimeHorizon\",)) #, (\"TimeHorizon\",))\n",
    "    min_power[:] = np.repeat(min_power_pypsa.loc[idx_name], n_timesteps)\n",
    "\n",
    "    # MaxPower\n",
    "    max_power = tub.createVariable(\"MaxPower\", NC_DOUBLE, (\"TimeHorizon\",)) #, (\"TimeHorizon\",))\n",
    "    max_power[:] = np.repeat(max_power_pypsa.loc[idx_name], n_timesteps)\n",
    "\n",
    "    # StartUpCost\n",
    "    start_up_cost = tub.createVariable(\"StartUpCost\", NC_DOUBLE)\n",
    "    start_up_cost[:] = 0.0\n",
    "\n",
    "    # LinearTerm\n",
    "    linear_term = tub.createVariable(\"LinearTerm\", NC_DOUBLE, (\"TimeHorizon\",))\n",
    "    linear_term[:] = linear_term_pypsa.loc[idx_name] * n.snapshot_weightings.objective.values\n",
    "\n",
    "    # ConstantTerm\n",
    "    constant_term = tub.createVariable(\"ConstantTerm\", NC_DOUBLE)\n",
    "    constant_term[:] = 0.0\n",
    "\n",
    "    # MinUpTime\n",
    "    min_up_time = tub.createVariable(\"MinUpTime\", NC_DOUBLE)\n",
    "    min_up_time[:] = 0.0\n",
    "\n",
    "    # MinDownTime\n",
    "    min_down_time = tub.createVariable(\"MinDownTime\", NC_DOUBLE)\n",
    "    min_down_time[:] = 0.0\n",
    "\n",
    "    # InitialPower\n",
    "    initial_power = tub.createVariable(\"InitialPower\", NC_DOUBLE)\n",
    "    initial_power[:] = 1.\n",
    "\n",
    "    # InitUpDownTime\n",
    "    init_up_down_time = tub.createVariable(\"InitUpDownTime\", NC_DOUBLE)\n",
    "    init_up_down_time[:] = 1.0\n",
    "\n",
    "    # InertiaCommitment\n",
    "    inertia_commitment = tub.createVariable(\"InertiaCommitment\", NC_DOUBLE)\n",
    "    inertia_commitment[:] = 0.0\n",
    "\n",
    "    id_thermal += 1"
   ]
  },
  {
   "cell_type": "markdown",
   "metadata": {},
   "source": [
    "### 2.5 Add an IntermittentUnitBlock for each renewable generator"
   ]
  },
  {
   "cell_type": "code",
   "execution_count": 16,
   "metadata": {},
   "outputs": [],
   "source": [
    "renewable_generators = n.generators[n.generators.index.isin(renewable_carriers)]\n",
    "\n",
    "id_ren = id_thermal\n",
    "\n",
    "if not renewable_generators.empty:\n",
    "    for (idx_name, row) in renewable_generators.iterrows():\n",
    "\n",
    "        tiub = master.createGroup(f\"UnitBlock_{id_ren}\")\n",
    "        tiub.id = str(id_ren)\n",
    "        tiub.type = \"IntermittentUnitBlock\"\n",
    "\n",
    "        n_max_power = n.generators_t.p_max_pu.loc[:, idx_name]\n",
    "        \n",
    "\n",
    "        # max power\n",
    "        max_power = tiub.createVariable(\"MaxPower\", NC_DOUBLE, (\"TimeHorizon\",))\n",
    "        max_power[:] = n_max_power\n",
    "\n",
    "        # # max capacity\n",
    "        # max_capacity = tiub.createVariable(\"MaxCapacity\", NC_DOUBLE)\n",
    "        # max_capacity[:] = row[1].p_nom_max \n",
    "\n",
    "        id_ren += 1"
   ]
  },
  {
   "cell_type": "markdown",
   "metadata": {},
   "source": [
    "### 2.6 Add a BatteryUnitBlock for each battery"
   ]
  },
  {
   "cell_type": "code",
   "execution_count": 17,
   "metadata": {},
   "outputs": [],
   "source": [
    "hydro_systems_i = n.storage_units_t.inflow.columns  # index of hydro systems (storage units with inflow)\n",
    "batteries_i = n.storage_units.index.difference(hydro_systems_i)  # index of batteries (storage units without inflow)\n",
    "\n",
    "hydro_systems = n.storage_units.loc[hydro_systems_i]\n",
    "batteries = n.storage_units.loc[batteries_i]\n",
    "\n",
    "id_batt = id_ren\n",
    "\n",
    "if not batteries.empty:\n",
    "    for (idx_name, row) in batteries.iterrows():\n",
    "\n",
    "        tiub = master.createGroup(f\"UnitBlock_{id_batt}\")\n",
    "        tiub.id = str(id_batt)\n",
    "        tiub.type = \"BatteryUnitBlock\"\n",
    "        \n",
    "\n",
    "        # max power\n",
    "        max_power = tiub.createVariable(\"MaxPower\", NC_DOUBLE)\n",
    "        max_power[:] = row.p_max_pu\n",
    "        \n",
    "        # min power\n",
    "        min_power = tiub.createVariable(\"MinPower\", NC_DOUBLE)\n",
    "        min_power[:] = row.p_min_pu\n",
    "\n",
    "        # max energy\n",
    "        max_storage = tiub.createVariable(\"MaxStorage\", NC_DOUBLE)\n",
    "        max_storage[:] = row.max_hours\n",
    "\n",
    "        # max energy\n",
    "        min_storage = tiub.createVariable(\"MinStorage\", NC_DOUBLE)\n",
    "        min_storage[:] = 0.0\n",
    "\n",
    "        # Initial storage\n",
    "        initial_storage = tiub.createVariable(\"InitialStorage\", NC_DOUBLE)\n",
    "        initial_storage[:] = row.state_of_charge_initial * row.max_hours\n",
    "\n",
    "        # Storing battery efficiency\n",
    "        storing_efficiency = tiub.createVariable(\"StoringBatteryRho\", NC_DOUBLE)\n",
    "        storing_efficiency[:] = row.efficiency_store\n",
    "\n",
    "        # Discharge battery efficiency\n",
    "        storing_efficiency = tiub.createVariable(\"ExtractingBatteryRho\", NC_DOUBLE)\n",
    "        storing_efficiency[:] = row.efficiency_dispatch\n",
    "\n",
    "        # # max capacity\n",
    "        # max_capacity = tiub.createVariable(\"MaxCapacity\", NC_DOUBLE)\n",
    "        # max_capacity[:] = row[1].p_nom_max \n",
    "\n",
    "        id_batt += 1"
   ]
  },
  {
   "cell_type": "markdown",
   "metadata": {},
   "source": [
    "### 2.7 Add a SlackUnitBlock to each load curtailment unit"
   ]
  },
  {
   "cell_type": "code",
   "execution_count": 18,
   "metadata": {},
   "outputs": [],
   "source": [
    "slack_generators = n.generators[n.generators.carrier.isin(slack_carriers)]\n",
    "\n",
    "id_slack = id_batt\n",
    "\n",
    "if not slack_generators.empty:\n",
    "    for (idx_name, row) in slack_generators.iterrows():\n",
    "\n",
    "        tiub = master.createGroup(f\"UnitBlock_{id_slack}\")\n",
    "        tiub.id = str(id_slack)\n",
    "        tiub.type = \"SlackUnitBlock\"\n",
    "        \n",
    "\n",
    "        # max power\n",
    "        max_power = tiub.createVariable(\"MaxPower\", NC_DOUBLE)\n",
    "        max_power[:] = row.p_nom_opt\n",
    "        \n",
    "        # max power\n",
    "        active_power_cost = tiub.createVariable(\"ActivePowerCost\", NC_DOUBLE, (\"TimeHorizon\",))\n",
    "        active_power_cost[:] = row.marginal_cost * n.snapshot_weightings.objective.values\n",
    "\n",
    "        # # max capacity\n",
    "        # max_capacity = tiub.createVariable(\"MaxCapacity\", NC_DOUBLE)\n",
    "        # max_capacity[:] = row[1].p_nom_max \n",
    "\n",
    "        id_slack += 1"
   ]
  },
  {
   "cell_type": "markdown",
   "metadata": {},
   "source": [
    "### 2.8 Add a HydroUnitBlock for each hydro unit"
   ]
  },
  {
   "cell_type": "code",
   "execution_count": 19,
   "metadata": {},
   "outputs": [],
   "source": [
    "id_hydro = id_slack\n",
    "\n",
    "if not hydro_systems.empty:\n",
    "    for (idx_name, row) in hydro_systems.iterrows():\n",
    "\n",
    "        tiub = master.createGroup(f\"UnitBlock_{id_hydro}\")\n",
    "        tiub.id = str(id_hydro)\n",
    "        tiub.type = \"HydroUnitBlock\"\n",
    "\n",
    "        tiub.createDimension(\"NumberReservoirs\", 1)  # optional, the number of reservoirs\n",
    "        N_ARCS = 3\n",
    "        tiub.createDimension(\"NumberArcs\", N_ARCS)  # optional, the number of arcs connecting the reservoirs\n",
    "        # No NumberIntervals\n",
    "        \n",
    "        MAX_FLOW = 100*n.storage_units_t.inflow.loc[:, idx_name].max()\n",
    "        P_MAX = row.p_max_pu\n",
    "        P_MIN = row.p_min_pu\n",
    "\n",
    "        # StartArc\n",
    "        start_arc = tiub.createVariable(\"StartArc\", NC_UINT, (\"NumberArcs\",))\n",
    "        start_arc[:] = np.full((N_ARCS,), 0, dtype=NP_UINT)\n",
    "\n",
    "        # EndArc\n",
    "        end_arc = tiub.createVariable(\"EndArc\", NC_UINT, (\"NumberArcs\",))\n",
    "        end_arc[:] = np.full((N_ARCS,), 1, dtype=NP_UINT)\n",
    "\n",
    "        # MaxPower\n",
    "        max_power = tiub.createVariable(\"MaxPower\", NC_DOUBLE, (\"NumberArcs\",)) #, (\"NumberArcs\",)) #, (\"TimeHorizon\",)) #\"NumberArcs\"))\n",
    "        max_power[:] = np.array([P_MAX, 0., 0.], dtype=NP_DOUBLE)\n",
    "\n",
    "        # MinPower\n",
    "        min_power = tiub.createVariable(\"MinPower\", NC_DOUBLE, (\"NumberArcs\",)) #, (\"NumberArcs\",)) #, (\"TimeHorizon\",)) #\"NumberArcs\"))\n",
    "        min_power[:] = np.array([0., 0., P_MIN], dtype=NP_DOUBLE)\n",
    "\n",
    "        # MinFlow\n",
    "        min_flow = tiub.createVariable(\"MinFlow\", NC_DOUBLE, (\"NumberArcs\",)) #, (\"TimeHorizon\",))\n",
    "        min_flow[:] = np.array([0., 0., -MAX_FLOW], dtype=NP_DOUBLE)\n",
    "\n",
    "        # MaxFlow\n",
    "        max_flow = tiub.createVariable(\"MaxFlow\", NC_DOUBLE, (\"NumberArcs\",)) #, (\"TimeHorizon\",))\n",
    "        max_flow[:] = np.array([P_MAX * 100., MAX_FLOW, 0.], dtype=NP_DOUBLE)\n",
    "        \n",
    "        # MinVolumetric\n",
    "        min_volumetric = tiub.createVariable(\"MinVolumetric\", NC_DOUBLE) #, (\"TimeHorizon\",))\n",
    "        min_volumetric[:] = 0.0\n",
    "\n",
    "        # MaxVolumetric\n",
    "        max_volumetric = tiub.createVariable(\"MaxVolumetric\", NC_DOUBLE)\n",
    "        max_volumetric[:] = row.p_nom_opt * row.max_hours\n",
    "\n",
    "        \n",
    "        # Inflows\n",
    "        inflows = tiub.createVariable(\"Inflows\", NC_DOUBLE, (\"NumberReservoirs\", \"TimeHorizon\")) #,\"NumberReservoirs\",))  #\"NumberReservoirs\", \n",
    "        inflows[:] = np.array([n.storage_units_t.inflow.loc[:, idx_name]])\n",
    "\n",
    "        # InitialVolumetric\n",
    "        initial_volumetric = tiub.createVariable(\"InitialVolumetric\", NC_DOUBLE) #, (\"NumberReservoirs\",))\n",
    "        initial_volumetric[:] = row.state_of_charge_initial * row.max_hours * row.p_nom_opt\n",
    "\n",
    "        # NumberPieces\n",
    "        pieces = np.full((N_ARCS,), 1, dtype=NP_UINT)\n",
    "        number_pieces = tiub.createVariable(\"NumberPieces\", NC_UINT, (\"NumberArcs\",))\n",
    "        number_pieces[:] = pieces\n",
    "\n",
    "        # TotalNumberPieces\n",
    "        tiub.createDimension(\"TotalNumberPieces\", pieces.sum())\n",
    "\n",
    "        # LinearTerm\n",
    "        linear_term = tiub.createVariable(\"LinearTerm\", NC_DOUBLE, (\"TotalNumberPieces\",))\n",
    "        # linear_term[:] = np.array([1/n.storage_units.loc[idx_name, \"efficiency_dispatch\"], 0., n.storage_units.loc[idx_name, \"efficiency_store\"]], dtype=NP_DOUBLE)\n",
    "        linear_term[:] = np.array([1/n.storage_units.loc[idx_name, \"efficiency_dispatch\"], 0., n.storage_units.loc[idx_name, \"efficiency_store\"]], dtype=NP_DOUBLE)\n",
    "\n",
    "        # ConstTerm\n",
    "        const_term = tiub.createVariable(\"ConstantTerm\", NC_DOUBLE, (\"TotalNumberPieces\",))\n",
    "        const_term[:] = np.full((N_ARCS,), 0.0, dtype=NP_DOUBLE)"
   ]
  },
  {
   "cell_type": "markdown",
   "metadata": {},
   "source": [
    "Finally close the netcdf problem file"
   ]
  },
  {
   "cell_type": "code",
   "execution_count": 20,
   "metadata": {},
   "outputs": [],
   "source": [
    "ds.close()"
   ]
  },
  {
   "cell_type": "markdown",
   "metadata": {},
   "source": [
    "## 4. Execute UCBlockSolver"
   ]
  },
  {
   "cell_type": "code",
   "execution_count": 22,
   "metadata": {},
   "outputs": [
    {
     "name": "stdout",
     "output_type": "stream",
     "text": [
      "pypsa2smspp.nc4 is a block file.\n",
      "Block configuration was not provided. Using default configuration.\n",
      "Using Solver configuration in ./config/BSPar.txt.\n",
      "Using Solver configuration in ./config/uc_solverconfig.txt.\n",
      "\n",
      "{1-0-0-0.0001} t = 1.00e-10 ~ D*_1( z* ) = 0.00e+00 ~ Sigma = 0.00e+00\n",
      "            Fi undefined\n",
      "    Lambda1 = [ 0.00e+00 0.00e+00 0.00e+00 ]\n",
      "    UB[ 0 ] = INF, LB[ 0 ] = -INF\n",
      "            Fi[ 0 ]: UB = 2.3753582465e+09, LB = 2.3753582465e+09 [0.0136] \n",
      "            New subgradient for Fi[ 0 ] ~ Alfa1 = -2.38e+09 ~ gd = -0.00e+00 stored in 0 (0)\n",
      "            [0.0137] Fi1 = 2.3753582465e+09\n",
      "            Fi1 defined ==> SS \n",
      "\n",
      "{1-1-1-0.0138} t = 1.00e+00 ~ D*_1( z* ) = 1.50e+12 ~ Sigma = 1.21e+14\n",
      "            Fi = 2.3753582465e+09 ~ eU = 1.14e+05\n",
      "    Lambda1 = [ 1.00e+06 1.00e+06 1.00e+06 ]\n",
      "    UB[ 0 ] = INF, LB[ 0 ] = -1.2429680401e+14\n",
      "            Fi[ 0 ]: UB = 5.6348856768e+08, LB = 5.6348856768e+08 [0.0075] \n",
      "            New subgradient for Fi[ 0 ] ~ Alfa1 = 2.38e+09 ~ gd = 5.63e+08 stored in 1 (1)\n",
      "            [0.0212] Fi1 = 5.6348856768e+08\n",
      "\n",
      " NS[0]: DFi = -1.81e+09 ~ Lw1(5.6348856767e+08) >= LwTrgt(-8.7007050202e+13)\n",
      "\n",
      "{1-2-2-0.0214} t = 1.00e+00 ~ D*_1( z* ) = 6.41e+02 ~ Sigma = 2.38e+09\n",
      "            Fi = 2.3753582465e+09 ~ eU = 1.00e+00\n",
      "    Lambda1 = [ 3.58e+01 0.00e+00 0.00e+00 ]\n",
      "    UB[ 0 ] = INF, LB[ 0 ] = 8.4454147768e+03\n",
      "            Fi[ 0 ]: UB = 2.2072147828e+08, LB = 2.2072147828e+08 [0.0084] \n",
      "            New subgradient for Fi[ 0 ] ~ Alfa1 = 1.50e+09 ~ gd = -6.54e+08 stored in 2 (2)\n",
      "            [0.0297] Fi1 = 2.2072147828e+08\n",
      "\n",
      " SS[0]: DFi = -2.15e+09 ~ Up1(2.2072147828e+08) <= UpTrgt(2.1378232664e+09)\n",
      "\n",
      "{1-3-3-0.0299} t = 1.50e+00 ~ D*_1( z* ) = 3.25e+01 ~ Sigma = 2.21e+08\n",
      "            Fi = 2.2072147828e+08 ~ eU = 1.00e+00\n",
      "    Lambda1 = [ 4.79e+01 0.00e+00 0.00e+00 ]\n",
      "    UB[ 0 ] = INF, LB[ 0 ] = 1.1297418723e+04\n",
      "            Fi[ 0 ]: UB = 6.6548664662e+07, LB = 6.6548664662e+07 [0.0090] \n",
      "            New subgradient for Fi[ 0 ] ~ Alfa1 = 2.17e+07 ~ gd = -1.32e+08 stored in 3 (3)\n",
      "            [0.0387] Fi1 = 6.6548664662e+07\n",
      "\n",
      " SS[0]: DFi = -1.54e+08 ~ Up1(6.6548664662e+07) <= UpTrgt(1.9865046019e+08)\n",
      "\n",
      "{1-4-4-0.0390} t = 2.25e+00 ~ D*_1( z* ) = 3.65e+00 ~ Sigma = 6.65e+07\n",
      "            Fi = 6.6548664662e+07 ~ eU = 1.00e+00\n",
      "    Lambda1 = [ 5.40e+01 0.00e+00 0.00e+00 ]\n",
      "    UB[ 0 ] = INF, LB[ 0 ] = 1.2730386769e+04\n",
      "            Fi[ 0 ]: UB = 1.9705782419e+07, LB = 1.9705782419e+07 [0.0074] \n",
      "            New subgradient for Fi[ 0 ] ~ Alfa1 = 2.49e+06 ~ gd = -4.44e+07 stored in 4 (4)\n",
      "            [0.0462] Fi1 = 1.9705782419e+07\n",
      "\n",
      " SS[0]: DFi = -4.68e+07 ~ Up1(1.9705782419e+07) <= UpTrgt(5.9895071234e+07)\n",
      "\n",
      "{1-5-5-0.0465} t = 3.38e+00 ~ D*_1( z* ) = 3.19e-01 ~ Sigma = 1.97e+07\n",
      "            Fi = 1.9705782419e+07 ~ eU = 9.99e-01\n",
      "    Lambda1 = [ 5.67e+01 0.00e+00 0.00e+00 ]\n",
      "    UB[ 0 ] = INF, LB[ 0 ] = 1.3366559693e+04\n",
      "            Fi[ 0 ]: UB = 1.5912420367e+06, LB = 1.5912420367e+06 [0.0085] \n",
      "            New subgradient for Fi[ 0 ] ~ Alfa1 = 8.27e+06 ~ gd = -9.85e+06 stored in 5 (5)\n",
      "            [0.0547] Fi1 = 1.5912420367e+06\n",
      "\n",
      " SS[0]: DFi = -1.81e+07 ~ Up1(1.5912420367e+06) <= UpTrgt(1.7736540833e+07)\n",
      "\n",
      "{1-6-6-0.0551} t = 5.06e+00 ~ D*_1( z* ) = 3.65e-03 ~ Sigma = 1.58e+06\n",
      "            Fi = 1.5912420367e+06 ~ eU = 9.92e-01\n",
      "    Lambda1 = [ 5.71e+01 0.00e+00 0.00e+00 ]\n",
      "    UB[ 0 ] = INF, LB[ 0 ] = 1.3468504445e+04\n",
      "            Fi[ 0 ]: UB = 3.6319451411e+04, LB = 3.6319451411e+04 [0.0096] \n",
      "            New subgradient for Fi[ 0 ] ~ Alfa1 = 1.56e+06 ~ gd = 1.02e+02 stored in 6 (6)\n",
      "            [0.0643] Fi1 = 3.6319451411e+04\n",
      "\n",
      " SS[0]: DFi = -1.55e+06 ~ Up1(3.6319451411e+04) <= UpTrgt(1.4334646835e+06)\n",
      "\n",
      "{1-7-7-0.0648} t = 7.59e+00 ~ D*_1( z* ) = 4.80e+01 ~ Sigma = 1.31e+04\n",
      "            Fi = 3.6319451411e+04 ~ eU = 4.94e-01\n",
      "    Lambda1 = [ 2.89e+01 0.00e+00 6.88e+01 ]\n",
      "    UB[ 0 ] = INF, LB[ 0 ] = 2.2455330678e+04\n",
      "            Fi[ 0 ]: UB = 2.4786562219e+06, LB = 2.4786562219e+06 [0.0076] \n",
      "            New subgradient for Fi[ 0 ] ~ Alfa1 = 3.17e+06 ~ gd = 5.61e+06 stored in 7 (7)\n",
      "            [0.0719] Fi1 = 2.4786562219e+06\n",
      "\n",
      " NS[0]: DFi = 2.44e+06 ~ Lw1(2.4786562219e+06) >= LwTrgt(2.6614566898e+04)\n",
      "\n",
      "{1-8-8-0.0724} t = 7.59e+00 ~ D*_1( z* ) = 4.76e+01 ~ Sigma = 1.30e+04\n",
      "            Fi = 3.6319451411e+04 ~ eU = 4.89e-01\n",
      "    Lambda1 = [ 2.95e+01 0.00e+00 6.88e+01 ]\n",
      "    UB[ 0 ] = INF, LB[ 0 ] = 2.2614022971e+04\n",
      "            Fi[ 0 ]: UB = 2.6509726523e+04, LB = 2.6509726523e+04 [0.0083] \n",
      "            New subgradient for Fi[ 0 ] ~ Alfa1 = 1.13e+04 ~ gd = 1.52e+03 stored in 8 (8)\n",
      "            [0.0803] Fi1 = 2.6509726523e+04\n",
      "\n",
      " SS[0]: DFi = -9.81e+03 ~ Up1(2.6509726523e+04) <= UpTrgt(3.4948908567e+04)\n",
      "\n",
      "{1-9-9-0.0809} t = 1.14e+01 ~ D*_1( z* ) = 1.37e+00 ~ Sigma = 4.11e+02\n",
      "            Fi = 2.6509726523e+04 ~ eU = 2.07e-02\n",
      "    Lambda1 = [ 3.64e+01 0.00e+00 5.12e+01 ]\n",
      "    UB[ 0 ] = INF, LB[ 0 ] = 2.6067427831e+04\n",
      "            Fi[ 0 ]: UB = 2.7159665447e+04, LB = 2.7159665447e+04 [0.0084] \n",
      "            New subgradient for Fi[ 0 ] ~ Alfa1 = 3.78e+03 ~ gd = 4.43e+03 stored in 9 (9)\n",
      "            [0.0888] Fi1 = 2.7159665447e+04\n",
      "\n",
      " NS[0]: DFi = 6.50e+02 ~ Lw1(2.7159665447e+04) >= LwTrgt(2.6200117438e+04)\n",
      "\n",
      "{1-10-10-0.0894} t = 1.14e+01 ~ D*_1( z* ) = 1.37e+00 ~ Sigma = 4.11e+02\n",
      "            Fi = 2.6509726523e+04 ~ eU = 2.07e-02\n",
      "    Lambda1 = [ 3.64e+01 0.00e+00 5.12e+01 ]\n",
      "    UB[ 0 ] = INF, LB[ 0 ] = 2.6067540995e+04\n",
      "            Fi[ 0 ]: UB = 2.7159778599e+04, LB = 2.7159778599e+04 [0.0118] \n",
      "            New subgradient for Fi[ 0 ] ~ Alfa1 = 1.35e+03 ~ gd = 2.00e+03 stored in 10 (10)\n",
      "            [0.1006] Fi1 = 2.7159778599e+04\n",
      "\n",
      " NS[1]: DFi = 6.50e+02 ~ Lw1(2.7159778599e+04) >= LwTrgt(2.6200196653e+04)\n",
      "\n",
      "{1-11-11-0.1012} t = 1.14e+01 ~ D*_1( z* ) = 4.20e-01 ~ Sigma = 2.35e+02\n",
      "            Fi = 2.6509726523e+04 ~ eU = 1.05e-02\n",
      "    Lambda1 = [ 3.33e+01 0.00e+00 5.91e+01 ]\n",
      "    UB[ 0 ] = INF, LB[ 0 ] = 2.6265092957e+04\n",
      "            Fi[ 0 ]: UB = 2.6602265378e+04, LB = 2.6602265378e+04 [0.0090] \n",
      "            New subgradient for Fi[ 0 ] ~ Alfa1 = 2.07e+03 ~ gd = 2.16e+03 stored in 11 (11)\n",
      "            [0.1096] Fi1 = 2.6602265378e+04\n",
      "\n",
      " NS[2]: DFi = 9.25e+01 ~ Lw1(2.6602265378e+04) >= LwTrgt(2.6338483026e+04)\n",
      "\n",
      "{1-12-12-0.1103} t = 1.14e+01 ~ D*_1( z* ) = 4.20e-01 ~ Sigma = 2.35e+02\n",
      "            Fi = 2.6509726523e+04 ~ eU = 1.04e-02\n",
      "    Lambda1 = [ 3.33e+01 0.00e+00 5.91e+01 ]\n",
      "    UB[ 0 ] = INF, LB[ 0 ] = 2.6265141454e+04\n",
      "            Fi[ 0 ]: UB = 2.6602313875e+04, LB = 2.6602313875e+04 [0.0079] \n",
      "            New subgradient for Fi[ 0 ] ~ Alfa1 = 3.16e+02 ~ gd = 4.09e+02 stored in 12 (12)\n",
      "            [0.1175] Fi1 = 2.6602313875e+04\n",
      "\n",
      " NS[3]: DFi = 9.26e+01 ~ Lw1(2.6602313875e+04) >= LwTrgt(2.6338516974e+04)\n",
      "\n",
      "{1-13-13-0.1183} t = 7.52e+00 ~ D*_1( z* ) = 2.26e-01 ~ Sigma = 1.15e+02\n",
      "            Fi = 2.6509726523e+04 ~ eU = 5.20e-03\n",
      "    Lambda1 = [ 3.14e+01 0.00e+00 6.41e+01 ]\n",
      "    UB[ 0 ] = INF, LB[ 0 ] = 2.6391149949e+04\n",
      "            Fi[ 0 ]: UB = 2.6445768937e+04, LB = 2.6445768937e+04 [0.0094] \n",
      "            New subgradient for Fi[ 0 ] ~ Alfa1 = 1.96e+03 ~ gd = 1.90e+03 stored in 13 (13)\n",
      "            [0.1270] Fi1 = 2.6445768937e+04\n",
      "\n",
      " SS[0]: DFi = -6.40e+01 ~ Up1(2.6445768937e+04) <= UpTrgt(2.6497868865e+04)\n",
      "\n",
      "{1-14-14-0.1278} t = 1.13e+01 ~ D*_1( z* ) = 3.94e-12 ~ Sigma = 5.46e+01\n",
      "            Fi = 2.6445768937e+04 ~ eU = 2.07e-03\n",
      "    Lambda1 = [ 3.14e+01 0.00e+00 6.41e+01 ]\n",
      "    UB[ 0 ] = INF, LB[ 0 ] = 2.6391157417e+04\n",
      "            Fi[ 0 ]: UB = 2.6445776405e+04, LB = 2.6445776405e+04 [0.0080] \n",
      "            New subgradient for Fi[ 0 ] ~ Alfa1 = 1.82e-07 ~ gd = 7.47e-03 stored in 14 (14)\n",
      "            [0.1351] Fi1 = 2.6445776405e+04\n",
      "\n",
      " NS[0]: DFi = 7.47e-03 ~ Lw1(2.6445776405e+04) >= LwTrgt(2.6407540873e+04)\n",
      "\n",
      "{1-15-15-0.1360} t = 1.13e+01 ~ D*_1( z* ) = 1.00e-02 ~ Sigma = 1.70e+01\n",
      "            Fi = 2.6445768937e+04 ~ eU = 6.82e-04\n",
      "    Lambda1 = [ 3.08e+01 0.00e+00 6.56e+01 ]\n",
      "    UB[ 0 ] = INF, LB[ 0 ] = 2.6428495754e+04\n",
      "            Fi[ 0 ]: UB = 2.6449015421e+04, LB = 2.6449015421e+04 [0.0084] \n",
      "            New subgradient for Fi[ 0 ] ~ Alfa1 = 4.81e+00 ~ gd = 8.05e+00 stored in 15 (15)\n",
      "            [0.1436] Fi1 = 2.6449015421e+04\n",
      "\n",
      " NS[1]: DFi = 3.25e+00 ~ Lw1(2.6449015421e+04) >= LwTrgt(2.6433677709e+04)\n",
      "\n",
      "{1-16-16-0.1445} t = 1.13e+01 ~ D*_1( z* ) = 1.00e-02 ~ Sigma = 1.70e+01\n",
      "            Fi = 2.6445768937e+04 ~ eU = 6.82e-04\n",
      "    Lambda1 = [ 3.08e+01 0.00e+00 6.56e+01 ]\n",
      "    UB[ 0 ] = INF, LB[ 0 ] = 2.6428499003e+04\n",
      "            Fi[ 0 ]: UB = 2.6449018669e+04, LB = 2.6449018669e+04 [0.0084] \n",
      "            New subgradient for Fi[ 0 ] ~ Alfa1 = 4.81e+00 ~ gd = 8.05e+00 stored in 16 (16)\n",
      "            [0.1520] Fi1 = 2.6449018669e+04\n",
      "\n",
      " NS[2]: DFi = 3.25e+00 ~ Lw1(2.6449018669e+04) >= LwTrgt(2.6433679983e+04)\n",
      "\n",
      "{1-17-17-0.1529} t = 1.13e+01 ~ D*_1( z* ) = 3.60e-04 ~ Sigma = 3.27e+00\n",
      "            Fi = 2.6445768937e+04 ~ eU = 1.25e-04\n",
      "    Lambda1 = [ 3.13e+01 0.00e+00 6.44e+01 ]\n",
      "    UB[ 0 ] = INF, LB[ 0 ] = 2.6442491524e+04\n",
      "            Fi[ 0 ]: UB = 2.6442491524e+04, LB = 2.6442491524e+04 [0.0088] \n",
      "            New subgradient for Fi[ 0 ] ~ Alfa1 = 7.53e-04 ~ gd = -3.28e+00 stored in 17 (17)\n",
      "            [0.1608] Fi1 = 2.6442491524e+04\n",
      "\n",
      " SS[0]: DFi = -3.28e+00 ~ Up1(2.6442491524e+04) <= UpTrgt(2.6445441196e+04)\n",
      "\n",
      "{1-18-18-0.1618} t = 1.69e+01 ~ D*_1( z* ) = 0.00e+00 ~ Sigma = -1.51e-08\n",
      "            Fi = 2.6442491524e+04 ~ eU = -5.71e-13 ~ stop (optimal)\n",
      "\n",
      "Call 1: 19 ~ 18 ~ 0.1619 ~ 0.1608 -> optimal ~ Fi* = 2.6442491524e+04\n",
      "Solver status: 10\n",
      "Solution value: 2.64424915235164808109e+04\n",
      "Solution: \n",
      "0 3.12673272863451501280e+01\n",
      "1 9.99999999999999954748e-07\n",
      "2 6.43854203035762111540e+01\n",
      "\n"
     ]
    }
   ],
   "source": [
    "import subprocess\n",
    "import os\n",
    "\n",
    "PROJECT_PATH = \"../../smspp-project\"   # Path of the SMSpp project\n",
    "COMPILE_MODE = \"Release\"              # Compilation mode (Debug/Release)\n",
    "\n",
    "DATA_FOLDER = folder_builder  # Folder where all data inputs are contained (cwd will be moved here)\n",
    "BSC_NAME = \"BSPar.txt\"          # Name of the file describing the BlockSolverConfig\n",
    "IBFILE_NAME = \"pypsa2smspp.nc4\"      # Name of the UC-file to test\n",
    "CONFIG_DIR = \"./config/\"\n",
    "\n",
    "PARENT_ABSPATH_UCS = os.path.abspath(PROJECT_PATH + \"/build/InvestmentBlock/test/\" + COMPILE_MODE)\n",
    "UCS_ABSPATH = os.path.abspath(PARENT_ABSPATH_UCS + \"/InvestmentBlock_test.exe\")\n",
    "\n",
    "result = subprocess.run(\n",
    "    [UCS_ABSPATH, \"-c\", CONFIG_DIR, \"-S\", CONFIG_DIR + BSC_NAME, IBFILE_NAME],\n",
    "    stdout=subprocess.PIPE,\n",
    "    stderr=subprocess.STDOUT,\n",
    "    cwd=DATA_FOLDER,\n",
    ")\n",
    "result_ascii = result.stdout.decode('ascii')\n",
    "print(result_ascii)"
   ]
  },
  {
   "cell_type": "markdown",
   "metadata": {},
   "source": [
    "## 4. Validate the objective function of SMS++ and compare it to SMSpp\n",
    "\n",
    "We read the output of the investment solver and compare it to the objective obtained from PyPSA"
   ]
  },
  {
   "cell_type": "code",
   "execution_count": 24,
   "metadata": {},
   "outputs": [
    {
     "name": "stdout",
     "output_type": "stream",
     "text": [
      "SMS++ obj         : 26442.491524\n",
      "PyPSA dispatch obj: 26442.491211\n",
      "Error SMS++ - PyPSA dispatch [%]: 0.00000\n"
     ]
    }
   ],
   "source": [
    "res = re.search(\"Solution value: (.*)\\r\\n\", result_ascii)\n",
    "smspp_obj = float(res.group(1))\n",
    "print(\"SMS++ obj         : %.6f\" % smspp_obj)\n",
    "print(\"PyPSA dispatch obj: %.6f\" % n.objective)\n",
    "print(\"Error SMS++ - PyPSA dispatch [%%]: %.5f\" % (100*(smspp_obj - n.objective)/n.objective))"
   ]
  }
 ],
 "metadata": {
  "kernelspec": {
   "display_name": "SMSpp_PyPSA_interface",
   "language": "python",
   "name": "python3"
  },
  "language_info": {
   "codemirror_mode": {
    "name": "ipython",
    "version": 3
   },
   "file_extension": ".py",
   "mimetype": "text/x-python",
   "name": "python",
   "nbconvert_exporter": "python",
   "pygments_lexer": "ipython3",
   "version": "3.12.9"
  }
 },
 "nbformat": 4,
 "nbformat_minor": 4
}
